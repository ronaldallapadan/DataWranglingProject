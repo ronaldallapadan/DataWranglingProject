{
 "cells": [
  {
   "cell_type": "code",
   "execution_count": 2,
   "metadata": {},
   "outputs": [
    {
     "name": "stderr",
     "output_type": "stream",
     "text": [
      "-- \u001b[1mAttaching packages\u001b[22m --------------------------------------- tidyverse 1.2.1 --\n",
      "\u001b[32mv\u001b[39m \u001b[34mggplot2\u001b[39m 3.2.1     \u001b[32mv\u001b[39m \u001b[34mpurrr  \u001b[39m 0.3.2\n",
      "\u001b[32mv\u001b[39m \u001b[34mtibble \u001b[39m 2.1.3     \u001b[32mv\u001b[39m \u001b[34mdplyr  \u001b[39m 0.8.3\n",
      "\u001b[32mv\u001b[39m \u001b[34mtidyr  \u001b[39m 0.8.3     \u001b[32mv\u001b[39m \u001b[34mstringr\u001b[39m 1.4.0\n",
      "\u001b[32mv\u001b[39m \u001b[34mreadr  \u001b[39m 1.3.1     \u001b[32mv\u001b[39m \u001b[34mforcats\u001b[39m 0.4.0\n",
      "-- \u001b[1mConflicts\u001b[22m ------------------------------------------ tidyverse_conflicts() --\n",
      "\u001b[31mx\u001b[39m \u001b[34mdplyr\u001b[39m::\u001b[32mfilter()\u001b[39m masks \u001b[34mstats\u001b[39m::filter()\n",
      "\u001b[31mx\u001b[39m \u001b[34mdplyr\u001b[39m::\u001b[32mlag()\u001b[39m    masks \u001b[34mstats\u001b[39m::lag()\n"
     ]
    }
   ],
   "source": [
    "library(tidyverse)\n",
    "library(dplyr)"
   ]
  },
  {
   "cell_type": "code",
   "execution_count": 7,
   "metadata": {},
   "outputs": [
    {
     "name": "stderr",
     "output_type": "stream",
     "text": [
      "Parsed with column specification:\n",
      "cols(\n",
      "  Match_Id = \u001b[32mcol_double()\u001b[39m,\n",
      "  Over_Id = \u001b[32mcol_double()\u001b[39m,\n",
      "  Ball_Id = \u001b[32mcol_double()\u001b[39m,\n",
      "  Innings_No = \u001b[32mcol_double()\u001b[39m,\n",
      "  Team_Batting = \u001b[32mcol_double()\u001b[39m,\n",
      "  Team_Bowling = \u001b[32mcol_double()\u001b[39m,\n",
      "  Striker_Batting_Position = \u001b[32mcol_double()\u001b[39m,\n",
      "  Striker = \u001b[32mcol_double()\u001b[39m,\n",
      "  Non_Striker = \u001b[32mcol_double()\u001b[39m,\n",
      "  Bowler = \u001b[32mcol_double()\u001b[39m\n",
      ")\n",
      "Parsed with column specification:\n",
      "cols(\n",
      "  Player_Id = \u001b[32mcol_double()\u001b[39m,\n",
      "  Player_Name = \u001b[31mcol_character()\u001b[39m,\n",
      "  DOB = \u001b[31mcol_character()\u001b[39m,\n",
      "  Batting_Id = \u001b[32mcol_double()\u001b[39m,\n",
      "  Bowling_Id = \u001b[32mcol_double()\u001b[39m,\n",
      "  Country_Id = \u001b[32mcol_double()\u001b[39m\n",
      ")\n",
      "Parsed with column specification:\n",
      "cols(\n",
      "  Country_Id = \u001b[32mcol_double()\u001b[39m,\n",
      "  Country_Name = \u001b[31mcol_character()\u001b[39m\n",
      ")\n"
     ]
    }
   ],
   "source": [
    "ball_by_ball = read_csv(\"./Data/Ball_by_Ball.csv\")\n",
    "player = read_csv(\"./Data/Player.csv\")\n",
    "country = read_csv(\"./Data/Country.csv\")\n",
    "batting_style = read.csv(\"./Data/Batting_Style.csv\")\n",
    "bowling_style = read.csv(\"./Data/Bowling_Style.csv\")"
   ]
  },
  {
   "cell_type": "code",
   "execution_count": 14,
   "metadata": {},
   "outputs": [
    {
     "data": {
      "text/html": [
       "<ol class=list-inline>\n",
       "\t<li>'Bowling_Id'</li>\n",
       "\t<li>'Batting_Id'</li>\n",
       "\t<li>'Country_Id'</li>\n",
       "\t<li>'Player_Id'</li>\n",
       "\t<li>'Player_Name'</li>\n",
       "\t<li>'DOB'</li>\n",
       "\t<li>'Country_Name'</li>\n",
       "\t<li>'Batting_hand'</li>\n",
       "\t<li>'Bowling_skill'</li>\n",
       "</ol>\n"
      ],
      "text/latex": [
       "\\begin{enumerate*}\n",
       "\\item 'Bowling\\_Id'\n",
       "\\item 'Batting\\_Id'\n",
       "\\item 'Country\\_Id'\n",
       "\\item 'Player\\_Id'\n",
       "\\item 'Player\\_Name'\n",
       "\\item 'DOB'\n",
       "\\item 'Country\\_Name'\n",
       "\\item 'Batting\\_hand'\n",
       "\\item 'Bowling\\_skill'\n",
       "\\end{enumerate*}\n"
      ],
      "text/markdown": [
       "1. 'Bowling_Id'\n",
       "2. 'Batting_Id'\n",
       "3. 'Country_Id'\n",
       "4. 'Player_Id'\n",
       "5. 'Player_Name'\n",
       "6. 'DOB'\n",
       "7. 'Country_Name'\n",
       "8. 'Batting_hand'\n",
       "9. 'Bowling_skill'\n",
       "\n",
       "\n"
      ],
      "text/plain": [
       "[1] \"Bowling_Id\"    \"Batting_Id\"    \"Country_Id\"    \"Player_Id\"    \n",
       "[5] \"Player_Name\"   \"DOB\"           \"Country_Name\"  \"Batting_hand\" \n",
       "[9] \"Bowling_skill\""
      ]
     },
     "metadata": {},
     "output_type": "display_data"
    }
   ],
   "source": [
    "player1 <- merge(x = player, y = country, by = \"Country_Id\", all.x = TRUE)\n",
    "player2 <- merge(x = player1, y = batting_style, by = \"Batting_Id\", all.x = TRUE)\n",
    "player3 <- merge(x = player2, y = bowling_style, by = \"Bowling_Id\", all.x = TRUE)\n",
    "colnames(player3)"
   ]
  },
  {
   "cell_type": "code",
   "execution_count": 22,
   "metadata": {},
   "outputs": [],
   "source": [
    "df1 <- merge(x = ball_by_ball, y = player3, by.x = \"Striker\", by.y = \"Player_Id\", all.x = TRUE)\n",
    "\n",
    "df1 <- df1 %>% \n",
    "  rename(Striker_Bowl_Id=Bowling_Id, Striker_Bat_Id=Batting_Id, Striker_Country_Id=Country_Id,\n",
    "                       Striker_Name=Player_Name, Striker_DOB=DOB, Striker_Country=Country_Name,\n",
    "                       Striker_batting=Batting_hand, Striker_bowling=Bowling_skill\n",
    "  )"
   ]
  },
  {
   "cell_type": "code",
   "execution_count": 23,
   "metadata": {},
   "outputs": [],
   "source": [
    "df2 <- merge(x = df1, y = player3, by.x = \"Non_Striker\", by.y = \"Player_Id\", all.x = TRUE)\n",
    "\n",
    "df2 <- df2 %>% \n",
    "  rename(NonStriker_Bowl_Id=Bowling_Id, NonStriker_Bat_Id=Batting_Id, NonStriker_Country_Id=Country_Id,\n",
    "                       NonStriker_Name=Player_Name, NonStriker_DOB=DOB, NonStriker_Country=Country_Name,\n",
    "                       NonStriker_batting=Batting_hand, NonStriker_bowling=Bowling_skill\n",
    "  )"
   ]
  },
  {
   "cell_type": "code",
   "execution_count": 24,
   "metadata": {},
   "outputs": [
    {
     "data": {
      "text/html": [
       "<ol class=list-inline>\n",
       "\t<li>'Bowler'</li>\n",
       "\t<li>'Non_Striker'</li>\n",
       "\t<li>'Striker'</li>\n",
       "\t<li>'Match_Id'</li>\n",
       "\t<li>'Over_Id'</li>\n",
       "\t<li>'Ball_Id'</li>\n",
       "\t<li>'Innings_No'</li>\n",
       "\t<li>'Team_Batting'</li>\n",
       "\t<li>'Team_Bowling'</li>\n",
       "\t<li>'Striker_Batting_Position'</li>\n",
       "\t<li>'Striker_Bowl_Id'</li>\n",
       "\t<li>'Striker_Bat_Id'</li>\n",
       "\t<li>'Striker_Country_Id'</li>\n",
       "\t<li>'Striker_Name'</li>\n",
       "\t<li>'Striker_DOB'</li>\n",
       "\t<li>'Striker_Country'</li>\n",
       "\t<li>'Striker_batting'</li>\n",
       "\t<li>'Striker_bowling'</li>\n",
       "\t<li>'NonStriker_Bowl_Id'</li>\n",
       "\t<li>'NonStriker_Bat_Id'</li>\n",
       "\t<li>'NonStriker_Country_Id'</li>\n",
       "\t<li>'NonStriker_Name'</li>\n",
       "\t<li>'NonStriker_DOB'</li>\n",
       "\t<li>'NonStriker_Country'</li>\n",
       "\t<li>'NonStriker_batting'</li>\n",
       "\t<li>'NonStriker_bowling'</li>\n",
       "\t<li>'Bowler_Bowl_Id'</li>\n",
       "\t<li>'Bowler_Bat_Id'</li>\n",
       "\t<li>'Bowler_Country_Id'</li>\n",
       "\t<li>'Bowler_Name'</li>\n",
       "\t<li>'Bowler_DOB'</li>\n",
       "\t<li>'Bowler_Country'</li>\n",
       "\t<li>'Bowler_batting'</li>\n",
       "\t<li>'Bowler_bowling'</li>\n",
       "</ol>\n"
      ],
      "text/latex": [
       "\\begin{enumerate*}\n",
       "\\item 'Bowler'\n",
       "\\item 'Non\\_Striker'\n",
       "\\item 'Striker'\n",
       "\\item 'Match\\_Id'\n",
       "\\item 'Over\\_Id'\n",
       "\\item 'Ball\\_Id'\n",
       "\\item 'Innings\\_No'\n",
       "\\item 'Team\\_Batting'\n",
       "\\item 'Team\\_Bowling'\n",
       "\\item 'Striker\\_Batting\\_Position'\n",
       "\\item 'Striker\\_Bowl\\_Id'\n",
       "\\item 'Striker\\_Bat\\_Id'\n",
       "\\item 'Striker\\_Country\\_Id'\n",
       "\\item 'Striker\\_Name'\n",
       "\\item 'Striker\\_DOB'\n",
       "\\item 'Striker\\_Country'\n",
       "\\item 'Striker\\_batting'\n",
       "\\item 'Striker\\_bowling'\n",
       "\\item 'NonStriker\\_Bowl\\_Id'\n",
       "\\item 'NonStriker\\_Bat\\_Id'\n",
       "\\item 'NonStriker\\_Country\\_Id'\n",
       "\\item 'NonStriker\\_Name'\n",
       "\\item 'NonStriker\\_DOB'\n",
       "\\item 'NonStriker\\_Country'\n",
       "\\item 'NonStriker\\_batting'\n",
       "\\item 'NonStriker\\_bowling'\n",
       "\\item 'Bowler\\_Bowl\\_Id'\n",
       "\\item 'Bowler\\_Bat\\_Id'\n",
       "\\item 'Bowler\\_Country\\_Id'\n",
       "\\item 'Bowler\\_Name'\n",
       "\\item 'Bowler\\_DOB'\n",
       "\\item 'Bowler\\_Country'\n",
       "\\item 'Bowler\\_batting'\n",
       "\\item 'Bowler\\_bowling'\n",
       "\\end{enumerate*}\n"
      ],
      "text/markdown": [
       "1. 'Bowler'\n",
       "2. 'Non_Striker'\n",
       "3. 'Striker'\n",
       "4. 'Match_Id'\n",
       "5. 'Over_Id'\n",
       "6. 'Ball_Id'\n",
       "7. 'Innings_No'\n",
       "8. 'Team_Batting'\n",
       "9. 'Team_Bowling'\n",
       "10. 'Striker_Batting_Position'\n",
       "11. 'Striker_Bowl_Id'\n",
       "12. 'Striker_Bat_Id'\n",
       "13. 'Striker_Country_Id'\n",
       "14. 'Striker_Name'\n",
       "15. 'Striker_DOB'\n",
       "16. 'Striker_Country'\n",
       "17. 'Striker_batting'\n",
       "18. 'Striker_bowling'\n",
       "19. 'NonStriker_Bowl_Id'\n",
       "20. 'NonStriker_Bat_Id'\n",
       "21. 'NonStriker_Country_Id'\n",
       "22. 'NonStriker_Name'\n",
       "23. 'NonStriker_DOB'\n",
       "24. 'NonStriker_Country'\n",
       "25. 'NonStriker_batting'\n",
       "26. 'NonStriker_bowling'\n",
       "27. 'Bowler_Bowl_Id'\n",
       "28. 'Bowler_Bat_Id'\n",
       "29. 'Bowler_Country_Id'\n",
       "30. 'Bowler_Name'\n",
       "31. 'Bowler_DOB'\n",
       "32. 'Bowler_Country'\n",
       "33. 'Bowler_batting'\n",
       "34. 'Bowler_bowling'\n",
       "\n",
       "\n"
      ],
      "text/plain": [
       " [1] \"Bowler\"                   \"Non_Striker\"             \n",
       " [3] \"Striker\"                  \"Match_Id\"                \n",
       " [5] \"Over_Id\"                  \"Ball_Id\"                 \n",
       " [7] \"Innings_No\"               \"Team_Batting\"            \n",
       " [9] \"Team_Bowling\"             \"Striker_Batting_Position\"\n",
       "[11] \"Striker_Bowl_Id\"          \"Striker_Bat_Id\"          \n",
       "[13] \"Striker_Country_Id\"       \"Striker_Name\"            \n",
       "[15] \"Striker_DOB\"              \"Striker_Country\"         \n",
       "[17] \"Striker_batting\"          \"Striker_bowling\"         \n",
       "[19] \"NonStriker_Bowl_Id\"       \"NonStriker_Bat_Id\"       \n",
       "[21] \"NonStriker_Country_Id\"    \"NonStriker_Name\"         \n",
       "[23] \"NonStriker_DOB\"           \"NonStriker_Country\"      \n",
       "[25] \"NonStriker_batting\"       \"NonStriker_bowling\"      \n",
       "[27] \"Bowler_Bowl_Id\"           \"Bowler_Bat_Id\"           \n",
       "[29] \"Bowler_Country_Id\"        \"Bowler_Name\"             \n",
       "[31] \"Bowler_DOB\"               \"Bowler_Country\"          \n",
       "[33] \"Bowler_batting\"           \"Bowler_bowling\"          "
      ]
     },
     "metadata": {},
     "output_type": "display_data"
    }
   ],
   "source": [
    "df3 <- merge(x = df2, y = player3, by.x = \"Bowler\", by.y = \"Player_Id\", all.x = TRUE)\n",
    "\n",
    "df3 <- df3 %>% \n",
    "  rename(Bowler_Bowl_Id=Bowling_Id, Bowler_Bat_Id=Batting_Id, Bowler_Country_Id=Country_Id,\n",
    "                       Bowler_Name=Player_Name, Bowler_DOB=DOB, Bowler_Country=Country_Name,\n",
    "                       Bowler_batting=Batting_hand, Bowler_bowling=Bowling_skill\n",
    "  )\n",
    "\n",
    "colnames(df3)"
   ]
  },
  {
   "cell_type": "code",
   "execution_count": 1,
   "metadata": {},
   "outputs": [
    {
     "ename": "ERROR",
     "evalue": "Error in eval(expr, envir, enclos): object 'df3' not found\n",
     "output_type": "error",
     "traceback": [
      "Error in eval(expr, envir, enclos): object 'df3' not found\nTraceback:\n"
     ]
    }
   ],
   "source": [
    "df3"
   ]
  }
 ],
 "metadata": {
  "kernelspec": {
   "display_name": "R",
   "language": "R",
   "name": "ir"
  },
  "language_info": {
   "codemirror_mode": "r",
   "file_extension": ".r",
   "mimetype": "text/x-r-source",
   "name": "R",
   "pygments_lexer": "r",
   "version": "3.6.1"
  }
 },
 "nbformat": 4,
 "nbformat_minor": 4
}
