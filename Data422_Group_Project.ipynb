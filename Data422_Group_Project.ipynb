{
 "cells": [
  {
   "cell_type": "code",
   "execution_count": 137,
   "metadata": {},
   "outputs": [],
   "source": [
    "library(tidyverse)\n",
    "library(dplyr)\n",
    "library(ggplot2)"
   ]
  },
  {
   "cell_type": "code",
   "execution_count": 57,
   "metadata": {},
   "outputs": [
    {
     "name": "stderr",
     "output_type": "stream",
     "text": [
      "Parsed with column specification:\n",
      "cols(\n",
      "  Match_Id = \u001b[32mcol_double()\u001b[39m,\n",
      "  Over_Id = \u001b[32mcol_double()\u001b[39m,\n",
      "  Ball_Id = \u001b[32mcol_double()\u001b[39m,\n",
      "  Innings_No = \u001b[32mcol_double()\u001b[39m,\n",
      "  Team_Batting = \u001b[32mcol_double()\u001b[39m,\n",
      "  Team_Bowling = \u001b[32mcol_double()\u001b[39m,\n",
      "  Striker_Batting_Position = \u001b[32mcol_double()\u001b[39m,\n",
      "  Striker = \u001b[32mcol_double()\u001b[39m,\n",
      "  Non_Striker = \u001b[32mcol_double()\u001b[39m,\n",
      "  Bowler = \u001b[32mcol_double()\u001b[39m\n",
      ")\n",
      "Parsed with column specification:\n",
      "cols(\n",
      "  Player_Id = \u001b[32mcol_double()\u001b[39m,\n",
      "  Player_Name = \u001b[31mcol_character()\u001b[39m,\n",
      "  DOB = \u001b[31mcol_character()\u001b[39m,\n",
      "  Batting_Id = \u001b[32mcol_double()\u001b[39m,\n",
      "  Bowling_Id = \u001b[32mcol_double()\u001b[39m,\n",
      "  Country_Id = \u001b[32mcol_double()\u001b[39m\n",
      ")\n",
      "Parsed with column specification:\n",
      "cols(\n",
      "  Country_Id = \u001b[32mcol_double()\u001b[39m,\n",
      "  Country_Name = \u001b[31mcol_character()\u001b[39m\n",
      ")\n"
     ]
    }
   ],
   "source": [
    "ball_by_ball = read_csv(\"./Data/Ball_by_Ball.csv\")\n",
    "player = read_csv(\"./Data/Player.csv\")\n",
    "country = read_csv(\"./Data/Country.csv\")\n",
    "batting_style = read.csv(\"./Data/Batting_Style.csv\")\n",
    "wicket_taken = read.csv(\"./Data/wicket_taken.csv\")\n",
    "bowling_style = read.csv(\"./Data/Bowling_Style.csv\")\n",
    "batsman_scored = read.csv(\"./Data/batsman_scored.csv\")\n",
    "data <- read.csv(\"./Data/deliveries.csv\")\n",
    "matches <- read.csv(\"./Data/Match.csv\")\n",
    "matches <- matches[,-18]\n",
    "data$wickets <- as.numeric(ifelse(data$player_dismissed ==\"\" ,\"\",1))"
   ]
  },
  {
   "cell_type": "code",
   "execution_count": 58,
   "metadata": {
    "collapsed": true,
    "jupyter": {
     "outputs_hidden": true
    }
   },
   "outputs": [
    {
     "data": {
      "text/html": [
       "<table>\n",
       "<caption>A data.frame: 13 × 1</caption>\n",
       "<thead>\n",
       "\t<tr><th scope=col>batting_team</th></tr>\n",
       "\t<tr><th scope=col>&lt;fct&gt;</th></tr>\n",
       "</thead>\n",
       "<tbody>\n",
       "\t<tr><td>Kolkata Knight Riders      </td></tr>\n",
       "\t<tr><td>Royal Challengers Bangalore</td></tr>\n",
       "\t<tr><td>Chennai Super Kings        </td></tr>\n",
       "\t<tr><td>Kings XI Punjab            </td></tr>\n",
       "\t<tr><td>Rajasthan Royals           </td></tr>\n",
       "\t<tr><td>Delhi Daredevils           </td></tr>\n",
       "\t<tr><td>Mumbai Indians             </td></tr>\n",
       "\t<tr><td>Deccan Chargers            </td></tr>\n",
       "\t<tr><td>Kochi Tuskers Kerala       </td></tr>\n",
       "\t<tr><td>Pune Warriors              </td></tr>\n",
       "\t<tr><td>Sunrisers Hyderabad        </td></tr>\n",
       "\t<tr><td>Rising Pune Supergiants    </td></tr>\n",
       "\t<tr><td>Gujarat Lions              </td></tr>\n",
       "</tbody>\n",
       "</table>\n"
      ],
      "text/latex": [
       "A data.frame: 13 × 1\n",
       "\\begin{tabular}{r|l}\n",
       " batting\\_team\\\\\n",
       " <fct>\\\\\n",
       "\\hline\n",
       "\t Kolkata Knight Riders      \\\\\n",
       "\t Royal Challengers Bangalore\\\\\n",
       "\t Chennai Super Kings        \\\\\n",
       "\t Kings XI Punjab            \\\\\n",
       "\t Rajasthan Royals           \\\\\n",
       "\t Delhi Daredevils           \\\\\n",
       "\t Mumbai Indians             \\\\\n",
       "\t Deccan Chargers            \\\\\n",
       "\t Kochi Tuskers Kerala       \\\\\n",
       "\t Pune Warriors              \\\\\n",
       "\t Sunrisers Hyderabad        \\\\\n",
       "\t Rising Pune Supergiants    \\\\\n",
       "\t Gujarat Lions              \\\\\n",
       "\\end{tabular}\n"
      ],
      "text/markdown": [
       "\n",
       "A data.frame: 13 × 1\n",
       "\n",
       "| batting_team &lt;fct&gt; |\n",
       "|---|\n",
       "| Kolkata Knight Riders       |\n",
       "| Royal Challengers Bangalore |\n",
       "| Chennai Super Kings         |\n",
       "| Kings XI Punjab             |\n",
       "| Rajasthan Royals            |\n",
       "| Delhi Daredevils            |\n",
       "| Mumbai Indians              |\n",
       "| Deccan Chargers             |\n",
       "| Kochi Tuskers Kerala        |\n",
       "| Pune Warriors               |\n",
       "| Sunrisers Hyderabad         |\n",
       "| Rising Pune Supergiants     |\n",
       "| Gujarat Lions               |\n",
       "\n"
      ],
      "text/plain": [
       "   batting_team               \n",
       "1  Kolkata Knight Riders      \n",
       "2  Royal Challengers Bangalore\n",
       "3  Chennai Super Kings        \n",
       "4  Kings XI Punjab            \n",
       "5  Rajasthan Royals           \n",
       "6  Delhi Daredevils           \n",
       "7  Mumbai Indians             \n",
       "8  Deccan Chargers            \n",
       "9  Kochi Tuskers Kerala       \n",
       "10 Pune Warriors              \n",
       "11 Sunrisers Hyderabad        \n",
       "12 Rising Pune Supergiants    \n",
       "13 Gujarat Lions              "
      ]
     },
     "metadata": {},
     "output_type": "display_data"
    }
   ],
   "source": [
    "teams <- data %>% select(batting_team)%>%\n",
    "  distinct()\n",
    "teams"
   ]
  },
  {
   "cell_type": "code",
   "execution_count": 102,
   "metadata": {
    "collapsed": true,
    "jupyter": {
     "outputs_hidden": true
    }
   },
   "outputs": [
    {
     "data": {
      "text/html": [
       "<table>\n",
       "<caption>A data.frame: 1 × 1</caption>\n",
       "<thead>\n",
       "\t<tr><th scope=col>match_count</th></tr>\n",
       "\t<tr><th scope=col>&lt;int&gt;</th></tr>\n",
       "</thead>\n",
       "<tbody>\n",
       "\t<tr><td>637</td></tr>\n",
       "</tbody>\n",
       "</table>\n"
      ],
      "text/latex": [
       "A data.frame: 1 × 1\n",
       "\\begin{tabular}{r|l}\n",
       " match\\_count\\\\\n",
       " <int>\\\\\n",
       "\\hline\n",
       "\t 637\\\\\n",
       "\\end{tabular}\n"
      ],
      "text/markdown": [
       "\n",
       "A data.frame: 1 × 1\n",
       "\n",
       "| match_count &lt;int&gt; |\n",
       "|---|\n",
       "| 637 |\n",
       "\n"
      ],
      "text/plain": [
       "  match_count\n",
       "1 637        "
      ]
     },
     "metadata": {},
     "output_type": "display_data"
    }
   ],
   "source": [
    "matches %>% summarise(match_count = n())"
   ]
  },
  {
   "cell_type": "code",
   "execution_count": 59,
   "metadata": {},
   "outputs": [],
   "source": [
    "Player_Prizes <- data.frame(Playername=\"\",Teamname=\"\",Prize=\"\",Ipl_Season=\"\")\n"
   ]
  },
  {
   "cell_type": "code",
   "execution_count": 63,
   "metadata": {
    "collapsed": true,
    "jupyter": {
     "outputs_hidden": true
    }
   },
   "outputs": [
    {
     "data": {
      "text/html": [
       "<table>\n",
       "<caption>A data.frame: 13 × 1</caption>\n",
       "<thead>\n",
       "\t<tr><th scope=col>team</th></tr>\n",
       "\t<tr><th scope=col>&lt;fct&gt;</th></tr>\n",
       "</thead>\n",
       "<tbody>\n",
       "\t<tr><td>Kolkata Knight Riders      </td></tr>\n",
       "\t<tr><td>Royal Challengers Bangalore</td></tr>\n",
       "\t<tr><td>Chennai Super Kings        </td></tr>\n",
       "\t<tr><td>Kings XI Punjab            </td></tr>\n",
       "\t<tr><td>Rajasthan Royals           </td></tr>\n",
       "\t<tr><td>Delhi Daredevils           </td></tr>\n",
       "\t<tr><td>Mumbai Indians             </td></tr>\n",
       "\t<tr><td>Deccan Chargers            </td></tr>\n",
       "\t<tr><td>Kochi Tuskers Kerala       </td></tr>\n",
       "\t<tr><td>Pune Warriors              </td></tr>\n",
       "\t<tr><td>Sunrisers Hyderabad        </td></tr>\n",
       "\t<tr><td>Rising Pune Supergiants    </td></tr>\n",
       "\t<tr><td>Gujarat Lions              </td></tr>\n",
       "</tbody>\n",
       "</table>\n"
      ],
      "text/latex": [
       "A data.frame: 13 × 1\n",
       "\\begin{tabular}{r|l}\n",
       " team\\\\\n",
       " <fct>\\\\\n",
       "\\hline\n",
       "\t Kolkata Knight Riders      \\\\\n",
       "\t Royal Challengers Bangalore\\\\\n",
       "\t Chennai Super Kings        \\\\\n",
       "\t Kings XI Punjab            \\\\\n",
       "\t Rajasthan Royals           \\\\\n",
       "\t Delhi Daredevils           \\\\\n",
       "\t Mumbai Indians             \\\\\n",
       "\t Deccan Chargers            \\\\\n",
       "\t Kochi Tuskers Kerala       \\\\\n",
       "\t Pune Warriors              \\\\\n",
       "\t Sunrisers Hyderabad        \\\\\n",
       "\t Rising Pune Supergiants    \\\\\n",
       "\t Gujarat Lions              \\\\\n",
       "\\end{tabular}\n"
      ],
      "text/markdown": [
       "\n",
       "A data.frame: 13 × 1\n",
       "\n",
       "| team &lt;fct&gt; |\n",
       "|---|\n",
       "| Kolkata Knight Riders       |\n",
       "| Royal Challengers Bangalore |\n",
       "| Chennai Super Kings         |\n",
       "| Kings XI Punjab             |\n",
       "| Rajasthan Royals            |\n",
       "| Delhi Daredevils            |\n",
       "| Mumbai Indians              |\n",
       "| Deccan Chargers             |\n",
       "| Kochi Tuskers Kerala        |\n",
       "| Pune Warriors               |\n",
       "| Sunrisers Hyderabad         |\n",
       "| Rising Pune Supergiants     |\n",
       "| Gujarat Lions               |\n",
       "\n"
      ],
      "text/plain": [
       "   team                       \n",
       "1  Kolkata Knight Riders      \n",
       "2  Royal Challengers Bangalore\n",
       "3  Chennai Super Kings        \n",
       "4  Kings XI Punjab            \n",
       "5  Rajasthan Royals           \n",
       "6  Delhi Daredevils           \n",
       "7  Mumbai Indians             \n",
       "8  Deccan Chargers            \n",
       "9  Kochi Tuskers Kerala       \n",
       "10 Pune Warriors              \n",
       "11 Sunrisers Hyderabad        \n",
       "12 Rising Pune Supergiants    \n",
       "13 Gujarat Lions              "
      ]
     },
     "metadata": {},
     "output_type": "display_data"
    }
   ],
   "source": [
    "teams <- rename(teams, team = batting_team)\n",
    "teams"
   ]
  },
  {
   "cell_type": "code",
   "execution_count": 64,
   "metadata": {
    "collapsed": true,
    "jupyter": {
     "outputs_hidden": true
    }
   },
   "outputs": [
    {
     "data": {
      "text/html": [
       "<table>\n",
       "<caption>A data.frame: 13 × 2</caption>\n",
       "<thead>\n",
       "\t<tr><th scope=col>team</th><th scope=col>s_team</th></tr>\n",
       "\t<tr><th scope=col>&lt;fct&gt;</th><th scope=col>&lt;fct&gt;</th></tr>\n",
       "</thead>\n",
       "<tbody>\n",
       "\t<tr><td>Kolkata Knight Riders      </td><td>KKR </td></tr>\n",
       "\t<tr><td>Royal Challengers Bangalore</td><td>RCB </td></tr>\n",
       "\t<tr><td>Chennai Super Kings        </td><td>CSK </td></tr>\n",
       "\t<tr><td>Kings XI Punjab            </td><td>KXIP</td></tr>\n",
       "\t<tr><td>Rajasthan Royals           </td><td>RR  </td></tr>\n",
       "\t<tr><td>Delhi Daredevils           </td><td>DD  </td></tr>\n",
       "\t<tr><td>Mumbai Indians             </td><td>MI  </td></tr>\n",
       "\t<tr><td>Deccan Chargers            </td><td>DC  </td></tr>\n",
       "\t<tr><td>Kochi Tuskers Kerala       </td><td>KTK </td></tr>\n",
       "\t<tr><td>Pune Warriors              </td><td>PWI </td></tr>\n",
       "\t<tr><td>Sunrisers Hyderabad        </td><td>SRH </td></tr>\n",
       "\t<tr><td>Rising Pune Supergiants    </td><td>RPS </td></tr>\n",
       "\t<tr><td>Gujarat Lions              </td><td>GL  </td></tr>\n",
       "</tbody>\n",
       "</table>\n"
      ],
      "text/latex": [
       "A data.frame: 13 × 2\n",
       "\\begin{tabular}{r|ll}\n",
       " team & s\\_team\\\\\n",
       " <fct> & <fct>\\\\\n",
       "\\hline\n",
       "\t Kolkata Knight Riders       & KKR \\\\\n",
       "\t Royal Challengers Bangalore & RCB \\\\\n",
       "\t Chennai Super Kings         & CSK \\\\\n",
       "\t Kings XI Punjab             & KXIP\\\\\n",
       "\t Rajasthan Royals            & RR  \\\\\n",
       "\t Delhi Daredevils            & DD  \\\\\n",
       "\t Mumbai Indians              & MI  \\\\\n",
       "\t Deccan Chargers             & DC  \\\\\n",
       "\t Kochi Tuskers Kerala        & KTK \\\\\n",
       "\t Pune Warriors               & PWI \\\\\n",
       "\t Sunrisers Hyderabad         & SRH \\\\\n",
       "\t Rising Pune Supergiants     & RPS \\\\\n",
       "\t Gujarat Lions               & GL  \\\\\n",
       "\\end{tabular}\n"
      ],
      "text/markdown": [
       "\n",
       "A data.frame: 13 × 2\n",
       "\n",
       "| team &lt;fct&gt; | s_team &lt;fct&gt; |\n",
       "|---|---|\n",
       "| Kolkata Knight Riders       | KKR  |\n",
       "| Royal Challengers Bangalore | RCB  |\n",
       "| Chennai Super Kings         | CSK  |\n",
       "| Kings XI Punjab             | KXIP |\n",
       "| Rajasthan Royals            | RR   |\n",
       "| Delhi Daredevils            | DD   |\n",
       "| Mumbai Indians              | MI   |\n",
       "| Deccan Chargers             | DC   |\n",
       "| Kochi Tuskers Kerala        | KTK  |\n",
       "| Pune Warriors               | PWI  |\n",
       "| Sunrisers Hyderabad         | SRH  |\n",
       "| Rising Pune Supergiants     | RPS  |\n",
       "| Gujarat Lions               | GL   |\n",
       "\n"
      ],
      "text/plain": [
       "   team                        s_team\n",
       "1  Kolkata Knight Riders       KKR   \n",
       "2  Royal Challengers Bangalore RCB   \n",
       "3  Chennai Super Kings         CSK   \n",
       "4  Kings XI Punjab             KXIP  \n",
       "5  Rajasthan Royals            RR    \n",
       "6  Delhi Daredevils            DD    \n",
       "7  Mumbai Indians              MI    \n",
       "8  Deccan Chargers             DC    \n",
       "9  Kochi Tuskers Kerala        KTK   \n",
       "10 Pune Warriors               PWI   \n",
       "11 Sunrisers Hyderabad         SRH   \n",
       "12 Rising Pune Supergiants     RPS   \n",
       "13 Gujarat Lions               GL    "
      ]
     },
     "metadata": {},
     "output_type": "display_data"
    }
   ],
   "source": [
    "s_team <- c(\"KKR\",\"RCB\",\"CSK\",\"KXIP\",\"RR\",\"DD\",\"MI\",\"DC\",\"KTK\",\"PWI\",\"SRH\",\"RPS\",\"GL\")\n",
    "teams <- cbind(teams, s_team)\n",
    "teams"
   ]
  },
  {
   "cell_type": "code",
   "execution_count": 136,
   "metadata": {
    "collapsed": true,
    "jupyter": {
     "outputs_hidden": true
    }
   },
   "outputs": [
    {
     "data": {
      "text/html": [
       "<table>\n",
       "<caption>A data.frame: 637 × 3</caption>\n",
       "<thead>\n",
       "\t<tr><th scope=col>Match_SK</th><th scope=col>ManOfMach</th><th scope=col>Season_Year</th></tr>\n",
       "\t<tr><th scope=col>&lt;int&gt;</th><th scope=col>&lt;fct&gt;</th><th scope=col>&lt;int&gt;</th></tr>\n",
       "</thead>\n",
       "<tbody>\n",
       "\t<tr><td> 0</td><td>BB McCullum  </td><td>2008</td></tr>\n",
       "\t<tr><td> 1</td><td>MEK Hussey   </td><td>2008</td></tr>\n",
       "\t<tr><td> 2</td><td>MF Maharoof  </td><td>2008</td></tr>\n",
       "\t<tr><td> 3</td><td>MV Boucher   </td><td>2008</td></tr>\n",
       "\t<tr><td> 4</td><td>DJ Hussey    </td><td>2008</td></tr>\n",
       "\t<tr><td> 5</td><td>SR Watson    </td><td>2008</td></tr>\n",
       "\t<tr><td> 6</td><td>V Sehwag     </td><td>2008</td></tr>\n",
       "\t<tr><td> 7</td><td>ML Hayden    </td><td>2008</td></tr>\n",
       "\t<tr><td> 8</td><td>YK Pathan    </td><td>2008</td></tr>\n",
       "\t<tr><td> 9</td><td>KC Sangakkara</td><td>2008</td></tr>\n",
       "\t<tr><td>10</td><td>SR Watson    </td><td>2008</td></tr>\n",
       "\t<tr><td>11</td><td>JDP Oram     </td><td>2008</td></tr>\n",
       "\t<tr><td>12</td><td>AC Gilchrist </td><td>2008</td></tr>\n",
       "\t<tr><td>13</td><td>SM Katich    </td><td>2008</td></tr>\n",
       "\t<tr><td>14</td><td>MS Dhoni     </td><td>2008</td></tr>\n",
       "\t<tr><td>15</td><td>ST Jayasuriya</td><td>2008</td></tr>\n",
       "\t<tr><td>16</td><td>GD McGrath   </td><td>2008</td></tr>\n",
       "\t<tr><td>17</td><td>SE Marsh     </td><td>2008</td></tr>\n",
       "\t<tr><td>18</td><td>SA Asnodkar  </td><td>2008</td></tr>\n",
       "\t<tr><td>19</td><td>V Sehwag     </td><td>2008</td></tr>\n",
       "\t<tr><td>20</td><td>R Vinay Kumar</td><td>2008</td></tr>\n",
       "\t<tr><td>21</td><td>IK Pathan    </td><td>2008</td></tr>\n",
       "\t<tr><td>22</td><td>SM Pollock   </td><td>2008</td></tr>\n",
       "\t<tr><td>23</td><td>Sohail Tanvir</td><td>2008</td></tr>\n",
       "\t<tr><td>24</td><td>S Sreesanth  </td><td>2008</td></tr>\n",
       "\t<tr><td>25</td><td>AC Gilchrist </td><td>2008</td></tr>\n",
       "\t<tr><td>26</td><td>A Nehra      </td><td>2008</td></tr>\n",
       "\t<tr><td>27</td><td>MS Dhoni     </td><td>2008</td></tr>\n",
       "\t<tr><td>28</td><td>SC Ganguly   </td><td>2008</td></tr>\n",
       "\t<tr><td>29</td><td>YK Pathan    </td><td>2008</td></tr>\n",
       "\t<tr><td>...</td><td>...</td><td>...</td></tr>\n",
       "\t<tr><td>607</td><td>AJ Tye          </td><td>2017</td></tr>\n",
       "\t<tr><td>608</td><td>G Gambhir       </td><td>2017</td></tr>\n",
       "\t<tr><td>609</td><td>Rashid Khan     </td><td>2017</td></tr>\n",
       "\t<tr><td>610</td><td>LH Ferguson     </td><td>2017</td></tr>\n",
       "\t<tr><td>611</td><td>KH Pandya       </td><td>2017</td></tr>\n",
       "\t<tr><td>612</td><td>Sandeep Sharma  </td><td>2017</td></tr>\n",
       "\t<tr><td>613</td><td>DA Warner       </td><td>2017</td></tr>\n",
       "\t<tr><td>614</td><td>RG Sharma       </td><td>2017</td></tr>\n",
       "\t<tr><td>615</td><td>BA Stokes       </td><td>2017</td></tr>\n",
       "\t<tr><td>616</td><td>Mohammed Shami  </td><td>2017</td></tr>\n",
       "\t<tr><td>617</td><td>RA Tripathi     </td><td>2017</td></tr>\n",
       "\t<tr><td>618</td><td>RR Pant         </td><td>2017</td></tr>\n",
       "\t<tr><td>619</td><td>Sandeep Sharma  </td><td>2017</td></tr>\n",
       "\t<tr><td>620</td><td>JD Unadkat      </td><td>2017</td></tr>\n",
       "\t<tr><td>621</td><td>LMP Simmons     </td><td>2017</td></tr>\n",
       "\t<tr><td>622</td><td>SP Narine       </td><td>2017</td></tr>\n",
       "\t<tr><td>623</td><td>DR Smith        </td><td>2017</td></tr>\n",
       "\t<tr><td>624</td><td>S Dhawan        </td><td>2017</td></tr>\n",
       "\t<tr><td>625</td><td>MM Sharma       </td><td>2017</td></tr>\n",
       "\t<tr><td>626</td><td>SS Iyer         </td><td>2017</td></tr>\n",
       "\t<tr><td>627</td><td>WP Saha         </td><td>2017</td></tr>\n",
       "\t<tr><td>628</td><td>KK Nair         </td><td>2017</td></tr>\n",
       "\t<tr><td>629</td><td>Mohammed Siraj  </td><td>2017</td></tr>\n",
       "\t<tr><td>630</td><td>AT Rayudu       </td><td>2017</td></tr>\n",
       "\t<tr><td>631</td><td>JD Unadkat      </td><td>2017</td></tr>\n",
       "\t<tr><td>632</td><td>HV Patel        </td><td>2017</td></tr>\n",
       "\t<tr><td>633</td><td>Wasington Sundar</td><td>2017</td></tr>\n",
       "\t<tr><td>634</td><td>NM Coulter-Nile </td><td>2017</td></tr>\n",
       "\t<tr><td>635</td><td>KV Sharma       </td><td>2017</td></tr>\n",
       "\t<tr><td>636</td><td>KH Pandya       </td><td>2017</td></tr>\n",
       "</tbody>\n",
       "</table>\n"
      ],
      "text/latex": [
       "A data.frame: 637 × 3\n",
       "\\begin{tabular}{r|lll}\n",
       " Match\\_SK & ManOfMach & Season\\_Year\\\\\n",
       " <int> & <fct> & <int>\\\\\n",
       "\\hline\n",
       "\t  0 & BB McCullum   & 2008\\\\\n",
       "\t  1 & MEK Hussey    & 2008\\\\\n",
       "\t  2 & MF Maharoof   & 2008\\\\\n",
       "\t  3 & MV Boucher    & 2008\\\\\n",
       "\t  4 & DJ Hussey     & 2008\\\\\n",
       "\t  5 & SR Watson     & 2008\\\\\n",
       "\t  6 & V Sehwag      & 2008\\\\\n",
       "\t  7 & ML Hayden     & 2008\\\\\n",
       "\t  8 & YK Pathan     & 2008\\\\\n",
       "\t  9 & KC Sangakkara & 2008\\\\\n",
       "\t 10 & SR Watson     & 2008\\\\\n",
       "\t 11 & JDP Oram      & 2008\\\\\n",
       "\t 12 & AC Gilchrist  & 2008\\\\\n",
       "\t 13 & SM Katich     & 2008\\\\\n",
       "\t 14 & MS Dhoni      & 2008\\\\\n",
       "\t 15 & ST Jayasuriya & 2008\\\\\n",
       "\t 16 & GD McGrath    & 2008\\\\\n",
       "\t 17 & SE Marsh      & 2008\\\\\n",
       "\t 18 & SA Asnodkar   & 2008\\\\\n",
       "\t 19 & V Sehwag      & 2008\\\\\n",
       "\t 20 & R Vinay Kumar & 2008\\\\\n",
       "\t 21 & IK Pathan     & 2008\\\\\n",
       "\t 22 & SM Pollock    & 2008\\\\\n",
       "\t 23 & Sohail Tanvir & 2008\\\\\n",
       "\t 24 & S Sreesanth   & 2008\\\\\n",
       "\t 25 & AC Gilchrist  & 2008\\\\\n",
       "\t 26 & A Nehra       & 2008\\\\\n",
       "\t 27 & MS Dhoni      & 2008\\\\\n",
       "\t 28 & SC Ganguly    & 2008\\\\\n",
       "\t 29 & YK Pathan     & 2008\\\\\n",
       "\t ... & ... & ...\\\\\n",
       "\t 607 & AJ Tye           & 2017\\\\\n",
       "\t 608 & G Gambhir        & 2017\\\\\n",
       "\t 609 & Rashid Khan      & 2017\\\\\n",
       "\t 610 & LH Ferguson      & 2017\\\\\n",
       "\t 611 & KH Pandya        & 2017\\\\\n",
       "\t 612 & Sandeep Sharma   & 2017\\\\\n",
       "\t 613 & DA Warner        & 2017\\\\\n",
       "\t 614 & RG Sharma        & 2017\\\\\n",
       "\t 615 & BA Stokes        & 2017\\\\\n",
       "\t 616 & Mohammed Shami   & 2017\\\\\n",
       "\t 617 & RA Tripathi      & 2017\\\\\n",
       "\t 618 & RR Pant          & 2017\\\\\n",
       "\t 619 & Sandeep Sharma   & 2017\\\\\n",
       "\t 620 & JD Unadkat       & 2017\\\\\n",
       "\t 621 & LMP Simmons      & 2017\\\\\n",
       "\t 622 & SP Narine        & 2017\\\\\n",
       "\t 623 & DR Smith         & 2017\\\\\n",
       "\t 624 & S Dhawan         & 2017\\\\\n",
       "\t 625 & MM Sharma        & 2017\\\\\n",
       "\t 626 & SS Iyer          & 2017\\\\\n",
       "\t 627 & WP Saha          & 2017\\\\\n",
       "\t 628 & KK Nair          & 2017\\\\\n",
       "\t 629 & Mohammed Siraj   & 2017\\\\\n",
       "\t 630 & AT Rayudu        & 2017\\\\\n",
       "\t 631 & JD Unadkat       & 2017\\\\\n",
       "\t 632 & HV Patel         & 2017\\\\\n",
       "\t 633 & Wasington Sundar & 2017\\\\\n",
       "\t 634 & NM Coulter-Nile  & 2017\\\\\n",
       "\t 635 & KV Sharma        & 2017\\\\\n",
       "\t 636 & KH Pandya        & 2017\\\\\n",
       "\\end{tabular}\n"
      ],
      "text/markdown": [
       "\n",
       "A data.frame: 637 × 3\n",
       "\n",
       "| Match_SK &lt;int&gt; | ManOfMach &lt;fct&gt; | Season_Year &lt;int&gt; |\n",
       "|---|---|---|\n",
       "|  0 | BB McCullum   | 2008 |\n",
       "|  1 | MEK Hussey    | 2008 |\n",
       "|  2 | MF Maharoof   | 2008 |\n",
       "|  3 | MV Boucher    | 2008 |\n",
       "|  4 | DJ Hussey     | 2008 |\n",
       "|  5 | SR Watson     | 2008 |\n",
       "|  6 | V Sehwag      | 2008 |\n",
       "|  7 | ML Hayden     | 2008 |\n",
       "|  8 | YK Pathan     | 2008 |\n",
       "|  9 | KC Sangakkara | 2008 |\n",
       "| 10 | SR Watson     | 2008 |\n",
       "| 11 | JDP Oram      | 2008 |\n",
       "| 12 | AC Gilchrist  | 2008 |\n",
       "| 13 | SM Katich     | 2008 |\n",
       "| 14 | MS Dhoni      | 2008 |\n",
       "| 15 | ST Jayasuriya | 2008 |\n",
       "| 16 | GD McGrath    | 2008 |\n",
       "| 17 | SE Marsh      | 2008 |\n",
       "| 18 | SA Asnodkar   | 2008 |\n",
       "| 19 | V Sehwag      | 2008 |\n",
       "| 20 | R Vinay Kumar | 2008 |\n",
       "| 21 | IK Pathan     | 2008 |\n",
       "| 22 | SM Pollock    | 2008 |\n",
       "| 23 | Sohail Tanvir | 2008 |\n",
       "| 24 | S Sreesanth   | 2008 |\n",
       "| 25 | AC Gilchrist  | 2008 |\n",
       "| 26 | A Nehra       | 2008 |\n",
       "| 27 | MS Dhoni      | 2008 |\n",
       "| 28 | SC Ganguly    | 2008 |\n",
       "| 29 | YK Pathan     | 2008 |\n",
       "| ... | ... | ... |\n",
       "| 607 | AJ Tye           | 2017 |\n",
       "| 608 | G Gambhir        | 2017 |\n",
       "| 609 | Rashid Khan      | 2017 |\n",
       "| 610 | LH Ferguson      | 2017 |\n",
       "| 611 | KH Pandya        | 2017 |\n",
       "| 612 | Sandeep Sharma   | 2017 |\n",
       "| 613 | DA Warner        | 2017 |\n",
       "| 614 | RG Sharma        | 2017 |\n",
       "| 615 | BA Stokes        | 2017 |\n",
       "| 616 | Mohammed Shami   | 2017 |\n",
       "| 617 | RA Tripathi      | 2017 |\n",
       "| 618 | RR Pant          | 2017 |\n",
       "| 619 | Sandeep Sharma   | 2017 |\n",
       "| 620 | JD Unadkat       | 2017 |\n",
       "| 621 | LMP Simmons      | 2017 |\n",
       "| 622 | SP Narine        | 2017 |\n",
       "| 623 | DR Smith         | 2017 |\n",
       "| 624 | S Dhawan         | 2017 |\n",
       "| 625 | MM Sharma        | 2017 |\n",
       "| 626 | SS Iyer          | 2017 |\n",
       "| 627 | WP Saha          | 2017 |\n",
       "| 628 | KK Nair          | 2017 |\n",
       "| 629 | Mohammed Siraj   | 2017 |\n",
       "| 630 | AT Rayudu        | 2017 |\n",
       "| 631 | JD Unadkat       | 2017 |\n",
       "| 632 | HV Patel         | 2017 |\n",
       "| 633 | Wasington Sundar | 2017 |\n",
       "| 634 | NM Coulter-Nile  | 2017 |\n",
       "| 635 | KV Sharma        | 2017 |\n",
       "| 636 | KH Pandya        | 2017 |\n",
       "\n"
      ],
      "text/plain": [
       "    Match_SK ManOfMach        Season_Year\n",
       "1    0       BB McCullum      2008       \n",
       "2    1       MEK Hussey       2008       \n",
       "3    2       MF Maharoof      2008       \n",
       "4    3       MV Boucher       2008       \n",
       "5    4       DJ Hussey        2008       \n",
       "6    5       SR Watson        2008       \n",
       "7    6       V Sehwag         2008       \n",
       "8    7       ML Hayden        2008       \n",
       "9    8       YK Pathan        2008       \n",
       "10   9       KC Sangakkara    2008       \n",
       "11  10       SR Watson        2008       \n",
       "12  11       JDP Oram         2008       \n",
       "13  12       AC Gilchrist     2008       \n",
       "14  13       SM Katich        2008       \n",
       "15  14       MS Dhoni         2008       \n",
       "16  15       ST Jayasuriya    2008       \n",
       "17  16       GD McGrath       2008       \n",
       "18  17       SE Marsh         2008       \n",
       "19  18       SA Asnodkar      2008       \n",
       "20  19       V Sehwag         2008       \n",
       "21  20       R Vinay Kumar    2008       \n",
       "22  21       IK Pathan        2008       \n",
       "23  22       SM Pollock       2008       \n",
       "24  23       Sohail Tanvir    2008       \n",
       "25  24       S Sreesanth      2008       \n",
       "26  25       AC Gilchrist     2008       \n",
       "27  26       A Nehra          2008       \n",
       "28  27       MS Dhoni         2008       \n",
       "29  28       SC Ganguly       2008       \n",
       "30  29       YK Pathan        2008       \n",
       "... ...      ...              ...        \n",
       "608 607      AJ Tye           2017       \n",
       "609 608      G Gambhir        2017       \n",
       "610 609      Rashid Khan      2017       \n",
       "611 610      LH Ferguson      2017       \n",
       "612 611      KH Pandya        2017       \n",
       "613 612      Sandeep Sharma   2017       \n",
       "614 613      DA Warner        2017       \n",
       "615 614      RG Sharma        2017       \n",
       "616 615      BA Stokes        2017       \n",
       "617 616      Mohammed Shami   2017       \n",
       "618 617      RA Tripathi      2017       \n",
       "619 618      RR Pant          2017       \n",
       "620 619      Sandeep Sharma   2017       \n",
       "621 620      JD Unadkat       2017       \n",
       "622 621      LMP Simmons      2017       \n",
       "623 622      SP Narine        2017       \n",
       "624 623      DR Smith         2017       \n",
       "625 624      S Dhawan         2017       \n",
       "626 625      MM Sharma        2017       \n",
       "627 626      SS Iyer          2017       \n",
       "628 627      WP Saha          2017       \n",
       "629 628      KK Nair          2017       \n",
       "630 629      Mohammed Siraj   2017       \n",
       "631 630      AT Rayudu        2017       \n",
       "632 631      JD Unadkat       2017       \n",
       "633 632      HV Patel         2017       \n",
       "634 633      Wasington Sundar 2017       \n",
       "635 634      NM Coulter-Nile  2017       \n",
       "636 635      KV Sharma        2017       \n",
       "637 636      KH Pandya        2017       "
      ]
     },
     "metadata": {},
     "output_type": "display_data"
    }
   ],
   "source": [
    "ManOfMach <- matches%>% select(Match_SK,ManOfMach,Season_Year) %>%\n",
    "  distinct()\n",
    "ManOfMach\n"
   ]
  },
  {
   "cell_type": "code",
   "execution_count": 66,
   "metadata": {},
   "outputs": [],
   "source": [
    "Season_Year <- data.frame(Season_Year=c(2008,2009,2010,2011,2012,2013,2014,2015,2016),T_winner=c(\"Rajasthan Royals\",\"Deccan Chargers\",\"Chennai Super Kings\",\"Chennai Super Kings\",\"Kolkata Knight Riders\",\"Mumbai Indians\",\"Kolkata Knight Riders\",\"Mumbai Indians\",\"Sunrisers Hyderabad\"))\n"
   ]
  },
  {
   "cell_type": "code",
   "execution_count": 67,
   "metadata": {
    "collapsed": true,
    "jupyter": {
     "outputs_hidden": true
    }
   },
   "outputs": [
    {
     "data": {
      "text/html": [
       "<table>\n",
       "<caption>A data.frame: 32 × 1</caption>\n",
       "<thead>\n",
       "\t<tr><th scope=col>City_Name</th></tr>\n",
       "\t<tr><th scope=col>&lt;chr&gt;</th></tr>\n",
       "</thead>\n",
       "<tbody>\n",
       "\t<tr><td>Bangalore         </td></tr>\n",
       "\t<tr><td>Chandigarh        </td></tr>\n",
       "\t<tr><td>Delhi             </td></tr>\n",
       "\t<tr><td>Mumbai            </td></tr>\n",
       "\t<tr><td>Kolkata           </td></tr>\n",
       "\t<tr><td>Jaipur            </td></tr>\n",
       "\t<tr><td>Hyderabad         </td></tr>\n",
       "\t<tr><td>Chennai           </td></tr>\n",
       "\t<tr><td>Cape Town         </td></tr>\n",
       "\t<tr><td>Port Elizabeth    </td></tr>\n",
       "\t<tr><td>Durban            </td></tr>\n",
       "\t<tr><td>Centurion         </td></tr>\n",
       "\t<tr><td>East London       </td></tr>\n",
       "\t<tr><td>Johannesburg      </td></tr>\n",
       "\t<tr><td>Kimberley         </td></tr>\n",
       "\t<tr><td>Bloemfontein      </td></tr>\n",
       "\t<tr><td>Ahmedabad         </td></tr>\n",
       "\t<tr><td>Cuttack           </td></tr>\n",
       "\t<tr><td>Nagpur            </td></tr>\n",
       "\t<tr><td>Dharamsala        </td></tr>\n",
       "\t<tr><td>Kochi             </td></tr>\n",
       "\t<tr><td>Indore            </td></tr>\n",
       "\t<tr><td>Visakhapatnam     </td></tr>\n",
       "\t<tr><td>Pune              </td></tr>\n",
       "\t<tr><td>Raipur            </td></tr>\n",
       "\t<tr><td>Ranchi            </td></tr>\n",
       "\t<tr><td>Abu Dhabi         </td></tr>\n",
       "\t<tr><td>Rajkot            </td></tr>\n",
       "\t<tr><td>Kanpur            </td></tr>\n",
       "\t<tr><td>Hyderabad (Deccan)</td></tr>\n",
       "\t<tr><td>Bengaluru         </td></tr>\n",
       "\t<tr><td>Mohali            </td></tr>\n",
       "</tbody>\n",
       "</table>\n"
      ],
      "text/latex": [
       "A data.frame: 32 × 1\n",
       "\\begin{tabular}{r|l}\n",
       " City\\_Name\\\\\n",
       " <chr>\\\\\n",
       "\\hline\n",
       "\t Bangalore         \\\\\n",
       "\t Chandigarh        \\\\\n",
       "\t Delhi             \\\\\n",
       "\t Mumbai            \\\\\n",
       "\t Kolkata           \\\\\n",
       "\t Jaipur            \\\\\n",
       "\t Hyderabad         \\\\\n",
       "\t Chennai           \\\\\n",
       "\t Cape Town         \\\\\n",
       "\t Port Elizabeth    \\\\\n",
       "\t Durban            \\\\\n",
       "\t Centurion         \\\\\n",
       "\t East London       \\\\\n",
       "\t Johannesburg      \\\\\n",
       "\t Kimberley         \\\\\n",
       "\t Bloemfontein      \\\\\n",
       "\t Ahmedabad         \\\\\n",
       "\t Cuttack           \\\\\n",
       "\t Nagpur            \\\\\n",
       "\t Dharamsala        \\\\\n",
       "\t Kochi             \\\\\n",
       "\t Indore            \\\\\n",
       "\t Visakhapatnam     \\\\\n",
       "\t Pune              \\\\\n",
       "\t Raipur            \\\\\n",
       "\t Ranchi            \\\\\n",
       "\t Abu Dhabi         \\\\\n",
       "\t Rajkot            \\\\\n",
       "\t Kanpur            \\\\\n",
       "\t Hyderabad (Deccan)\\\\\n",
       "\t Bengaluru         \\\\\n",
       "\t Mohali            \\\\\n",
       "\\end{tabular}\n"
      ],
      "text/markdown": [
       "\n",
       "A data.frame: 32 × 1\n",
       "\n",
       "| City_Name &lt;chr&gt; |\n",
       "|---|\n",
       "| Bangalore          |\n",
       "| Chandigarh         |\n",
       "| Delhi              |\n",
       "| Mumbai             |\n",
       "| Kolkata            |\n",
       "| Jaipur             |\n",
       "| Hyderabad          |\n",
       "| Chennai            |\n",
       "| Cape Town          |\n",
       "| Port Elizabeth     |\n",
       "| Durban             |\n",
       "| Centurion          |\n",
       "| East London        |\n",
       "| Johannesburg       |\n",
       "| Kimberley          |\n",
       "| Bloemfontein       |\n",
       "| Ahmedabad          |\n",
       "| Cuttack            |\n",
       "| Nagpur             |\n",
       "| Dharamsala         |\n",
       "| Kochi              |\n",
       "| Indore             |\n",
       "| Visakhapatnam      |\n",
       "| Pune               |\n",
       "| Raipur             |\n",
       "| Ranchi             |\n",
       "| Abu Dhabi          |\n",
       "| Rajkot             |\n",
       "| Kanpur             |\n",
       "| Hyderabad (Deccan) |\n",
       "| Bengaluru          |\n",
       "| Mohali             |\n",
       "\n"
      ],
      "text/plain": [
       "   City_Name         \n",
       "1  Bangalore         \n",
       "2  Chandigarh        \n",
       "3  Delhi             \n",
       "4  Mumbai            \n",
       "5  Kolkata           \n",
       "6  Jaipur            \n",
       "7  Hyderabad         \n",
       "8  Chennai           \n",
       "9  Cape Town         \n",
       "10 Port Elizabeth    \n",
       "11 Durban            \n",
       "12 Centurion         \n",
       "13 East London       \n",
       "14 Johannesburg      \n",
       "15 Kimberley         \n",
       "16 Bloemfontein      \n",
       "17 Ahmedabad         \n",
       "18 Cuttack           \n",
       "19 Nagpur            \n",
       "20 Dharamsala        \n",
       "21 Kochi             \n",
       "22 Indore            \n",
       "23 Visakhapatnam     \n",
       "24 Pune              \n",
       "25 Raipur            \n",
       "26 Ranchi            \n",
       "27 Abu Dhabi         \n",
       "28 Rajkot            \n",
       "29 Kanpur            \n",
       "30 Hyderabad (Deccan)\n",
       "31 Bengaluru         \n",
       "32 Mohali            "
      ]
     },
     "metadata": {},
     "output_type": "display_data"
    }
   ],
   "source": [
    "matches$City_Name <- as.character(matches$City_Name)\n",
    "matches$City_Name[matches$City_Name==\"\"] <- \"Dubai\"\n",
    "venue_city <- matches %>%\n",
    "            select(City_Name)%>%\n",
    "  distinct()\n",
    "venue_city"
   ]
  },
  {
   "cell_type": "code",
   "execution_count": 69,
   "metadata": {},
   "outputs": [
    {
     "data": {
      "image/png": "[encoded data removed]",
      "text/plain": [
       "plot without title"
      ]
     },
     "metadata": {},
     "output_type": "display_data"
    }
   ],
   "source": [
    "dismissal <- data%>%\n",
    "  left_join(matches, by=c(\"match_id\"=\"Match_SK\"))%>%\n",
    "   left_join(teams,by=c(\"batting_team\"=\"team\"))%>%\n",
    "  filter(dismissal_kind!=\"\")%>%\n",
    "  group_by(Season_Year,dismissal_kind,s_team)%>%\n",
    "  summarize(wickets =n())\n",
    "\n",
    "\n",
    "ggplot(dismissal,aes(x=dismissal_kind,y=wickets,colour=as.factor(Season_Year),fill=as.factor(Season_Year)))+\n",
    "  geom_bar(position = \"stack\", show.legend = TRUE, width =.6,stat=\"identity\", size=5)+ \n",
    "      theme(legend.position=\"bottom\")+\n",
    "     coord_flip()+\n",
    "  theme(legend.direction = \"horizontal\") +\n",
    "  scale_y_continuous(name=\"wickets\")+\n",
    "    scale_x_discrete(name=\"dismissal kind\")+\n",
    "                     ggtitle(\"Breakdown of dismissal type\")\n",
    "\n",
    " "
   ]
  },
  {
   "cell_type": "code",
   "execution_count": 71,
   "metadata": {},
   "outputs": [],
   "source": [
    "write.csv(dismissal,\"Dis.csv\")"
   ]
  },
  {
   "cell_type": "code",
   "execution_count": 74,
   "metadata": {},
   "outputs": [
    {
     "data": {
      "text/html": [
       "<ol class=list-inline>\n",
       "\t<li>'batsman'</li>\n",
       "\t<li>'Season_Year'</li>\n",
       "\t<li>'s_team'</li>\n",
       "\t<li>'runs'</li>\n",
       "</ol>\n"
      ],
      "text/latex": [
       "\\begin{enumerate*}\n",
       "\\item 'batsman'\n",
       "\\item 'Season\\_Year'\n",
       "\\item 's\\_team'\n",
       "\\item 'runs'\n",
       "\\end{enumerate*}\n"
      ],
      "text/markdown": [
       "1. 'batsman'\n",
       "2. 'Season_Year'\n",
       "3. 's_team'\n",
       "4. 'runs'\n",
       "\n",
       "\n"
      ],
      "text/plain": [
       "[1] \"batsman\"     \"Season_Year\" \"s_team\"      \"runs\"       "
      ]
     },
     "metadata": {},
     "output_type": "display_data"
    },
    {
     "data": {
      "image/png": "[encoded data removed]",
      "text/plain": [
       "plot without title"
      ]
     },
     "metadata": {},
     "output_type": "display_data"
    }
   ],
   "source": [
    "runs_h <- data%>%\n",
    "        left_join(matches,by=c(\"match_id\"=\"Match_SK\"))%>%\n",
    "  left_join(teams,by=c(\"batting_team\"=\"team\"))%>%\n",
    "select(batsman,Season_Year,s_team,batsman_runs)%>%\n",
    "group_by(batsman,Season_Year,s_team)%>%\n",
    "summarize(runs=sum(batsman_runs))%>%\n",
    "arrange(desc(batsman))\n",
    "\n",
    "run_gh<-runs_h%>%\n",
    "  group_by(batsman)%>%\n",
    "  summarize(runs_t=sum(runs))\n",
    "\n",
    "runs_ht <- merge(runs_h,run_gh)\n",
    "runs_ht <- runs_ht%>%\n",
    "  arrange(desc(runs_t))%>%\n",
    "  filter(runs_t>2500)\n",
    "  \n",
    "  \n",
    "runs_ht$Season_Year<-as.character(runs_ht$Season_Year)\n",
    "runs_ht$batsman <- factor(runs_ht$batsman, levels = run_gh$batsman[order(run_gh$runs_t)])\n",
    "\n",
    "ggplot(runs_ht,aes(x=batsman,y=runs,colour=Season_Year,fill=Season_Year))+\n",
    "  geom_bar(position = \"stack\",stat = \"identity\", size=0.5)+\n",
    "        theme(legend.position=\"bottom\")+\n",
    "  coord_flip()+\n",
    "        scale_y_continuous(name=\"Total runs scored across all seasons\")+\n",
    "  scale_x_discrete(name=\"Players\")+\n",
    "  ggtitle(\"Highest run scorers in all seasons\")\n",
    "\n",
    "colnames(runs_h)\n"
   ]
  },
  {
   "cell_type": "code",
   "execution_count": 75,
   "metadata": {
    "collapsed": true,
    "jupyter": {
     "outputs_hidden": true
    }
   },
   "outputs": [
    {
     "data": {
      "text/html": [
       "<table>\n",
       "<caption>A data.frame: 10 × 1</caption>\n",
       "<thead>\n",
       "\t<tr><th scope=col>batsman</th></tr>\n",
       "\t<tr><th scope=col>&lt;fct&gt;</th></tr>\n",
       "</thead>\n",
       "<tbody>\n",
       "\t<tr><td>V Kohli       </td></tr>\n",
       "\t<tr><td>SK Raina      </td></tr>\n",
       "\t<tr><td>RG Sharma     </td></tr>\n",
       "\t<tr><td>G Gambhir     </td></tr>\n",
       "\t<tr><td>CH Gayle      </td></tr>\n",
       "\t<tr><td>RV Uthappa    </td></tr>\n",
       "\t<tr><td>DA Warner     </td></tr>\n",
       "\t<tr><td>AB de Villiers</td></tr>\n",
       "\t<tr><td>MS Dhoni      </td></tr>\n",
       "\t<tr><td>S Dhawan      </td></tr>\n",
       "</tbody>\n",
       "</table>\n"
      ],
      "text/latex": [
       "A data.frame: 10 × 1\n",
       "\\begin{tabular}{r|l}\n",
       " batsman\\\\\n",
       " <fct>\\\\\n",
       "\\hline\n",
       "\t V Kohli       \\\\\n",
       "\t SK Raina      \\\\\n",
       "\t RG Sharma     \\\\\n",
       "\t G Gambhir     \\\\\n",
       "\t CH Gayle      \\\\\n",
       "\t RV Uthappa    \\\\\n",
       "\t DA Warner     \\\\\n",
       "\t AB de Villiers\\\\\n",
       "\t MS Dhoni      \\\\\n",
       "\t S Dhawan      \\\\\n",
       "\\end{tabular}\n"
      ],
      "text/markdown": [
       "\n",
       "A data.frame: 10 × 1\n",
       "\n",
       "| batsman &lt;fct&gt; |\n",
       "|---|\n",
       "| V Kohli        |\n",
       "| SK Raina       |\n",
       "| RG Sharma      |\n",
       "| G Gambhir      |\n",
       "| CH Gayle       |\n",
       "| RV Uthappa     |\n",
       "| DA Warner      |\n",
       "| AB de Villiers |\n",
       "| MS Dhoni       |\n",
       "| S Dhawan       |\n",
       "\n"
      ],
      "text/plain": [
       "   batsman       \n",
       "1  V Kohli       \n",
       "2  SK Raina      \n",
       "3  RG Sharma     \n",
       "4  G Gambhir     \n",
       "5  CH Gayle      \n",
       "6  RV Uthappa    \n",
       "7  DA Warner     \n",
       "8  AB de Villiers\n",
       "9  MS Dhoni      \n",
       "10 S Dhawan      "
      ]
     },
     "metadata": {},
     "output_type": "display_data"
    }
   ],
   "source": [
    "top_10 <- runs_ht %>% select(batsman) %>%\n",
    "distinct() %>%\n",
    "head(10)\n",
    "top_10"
   ]
  },
  {
   "cell_type": "code",
   "execution_count": 76,
   "metadata": {
    "collapsed": true,
    "jupyter": {
     "outputs_hidden": true
    }
   },
   "outputs": [
    {
     "data": {
      "text/html": [
       "<table>\n",
       "<caption>A data.frame: 1365980 × 23</caption>\n",
       "<thead>\n",
       "\t<tr><th scope=col>match_id</th><th scope=col>inning</th><th scope=col>batting_team</th><th scope=col>bowling_team</th><th scope=col>over</th><th scope=col>ball</th><th scope=col>batsman</th><th scope=col>non_striker</th><th scope=col>bowler</th><th scope=col>is_super_over</th><th scope=col>...</th><th scope=col>noball_runs</th><th scope=col>penalty_runs</th><th scope=col>batsman_runs</th><th scope=col>extra_runs</th><th scope=col>total_runs</th><th scope=col>player_dismissed</th><th scope=col>dismissal_kind</th><th scope=col>fielder</th><th scope=col>wickets</th><th scope=col>Top_Batsman</th></tr>\n",
       "\t<tr><th scope=col>&lt;int&gt;</th><th scope=col>&lt;int&gt;</th><th scope=col>&lt;fct&gt;</th><th scope=col>&lt;fct&gt;</th><th scope=col>&lt;int&gt;</th><th scope=col>&lt;int&gt;</th><th scope=col>&lt;fct&gt;</th><th scope=col>&lt;fct&gt;</th><th scope=col>&lt;fct&gt;</th><th scope=col>&lt;int&gt;</th><th scope=col>...</th><th scope=col>&lt;int&gt;</th><th scope=col>&lt;int&gt;</th><th scope=col>&lt;int&gt;</th><th scope=col>&lt;int&gt;</th><th scope=col>&lt;int&gt;</th><th scope=col>&lt;fct&gt;</th><th scope=col>&lt;fct&gt;</th><th scope=col>&lt;fct&gt;</th><th scope=col>&lt;dbl&gt;</th><th scope=col>&lt;fct&gt;</th></tr>\n",
       "</thead>\n",
       "<tbody>\n",
       "\t<tr><td>1</td><td>1</td><td>Kolkata Knight Riders</td><td>Royal Challengers Bangalore</td><td>1</td><td>1</td><td>SC Ganguly </td><td>BB McCullum</td><td>P Kumar  </td><td>0</td><td>...</td><td>0</td><td>0</td><td>0</td><td>1</td><td>1</td><td></td><td></td><td></td><td>NA</td><td>V Kohli</td></tr>\n",
       "\t<tr><td>1</td><td>1</td><td>Kolkata Knight Riders</td><td>Royal Challengers Bangalore</td><td>1</td><td>2</td><td>BB McCullum</td><td>SC Ganguly </td><td>P Kumar  </td><td>0</td><td>...</td><td>0</td><td>0</td><td>0</td><td>0</td><td>0</td><td></td><td></td><td></td><td>NA</td><td>V Kohli</td></tr>\n",
       "\t<tr><td>1</td><td>1</td><td>Kolkata Knight Riders</td><td>Royal Challengers Bangalore</td><td>1</td><td>3</td><td>BB McCullum</td><td>SC Ganguly </td><td>P Kumar  </td><td>0</td><td>...</td><td>0</td><td>0</td><td>0</td><td>1</td><td>1</td><td></td><td></td><td></td><td>NA</td><td>V Kohli</td></tr>\n",
       "\t<tr><td>1</td><td>1</td><td>Kolkata Knight Riders</td><td>Royal Challengers Bangalore</td><td>1</td><td>4</td><td>BB McCullum</td><td>SC Ganguly </td><td>P Kumar  </td><td>0</td><td>...</td><td>0</td><td>0</td><td>0</td><td>0</td><td>0</td><td></td><td></td><td></td><td>NA</td><td>V Kohli</td></tr>\n",
       "\t<tr><td>1</td><td>1</td><td>Kolkata Knight Riders</td><td>Royal Challengers Bangalore</td><td>1</td><td>5</td><td>BB McCullum</td><td>SC Ganguly </td><td>P Kumar  </td><td>0</td><td>...</td><td>0</td><td>0</td><td>0</td><td>0</td><td>0</td><td></td><td></td><td></td><td>NA</td><td>V Kohli</td></tr>\n",
       "\t<tr><td>1</td><td>1</td><td>Kolkata Knight Riders</td><td>Royal Challengers Bangalore</td><td>1</td><td>6</td><td>BB McCullum</td><td>SC Ganguly </td><td>P Kumar  </td><td>0</td><td>...</td><td>0</td><td>0</td><td>0</td><td>0</td><td>0</td><td></td><td></td><td></td><td>NA</td><td>V Kohli</td></tr>\n",
       "\t<tr><td>1</td><td>1</td><td>Kolkata Knight Riders</td><td>Royal Challengers Bangalore</td><td>1</td><td>7</td><td>BB McCullum</td><td>SC Ganguly </td><td>P Kumar  </td><td>0</td><td>...</td><td>0</td><td>0</td><td>0</td><td>1</td><td>1</td><td></td><td></td><td></td><td>NA</td><td>V Kohli</td></tr>\n",
       "\t<tr><td>1</td><td>1</td><td>Kolkata Knight Riders</td><td>Royal Challengers Bangalore</td><td>2</td><td>1</td><td>BB McCullum</td><td>SC Ganguly </td><td>Z Khan   </td><td>0</td><td>...</td><td>0</td><td>0</td><td>0</td><td>0</td><td>0</td><td></td><td></td><td></td><td>NA</td><td>V Kohli</td></tr>\n",
       "\t<tr><td>1</td><td>1</td><td>Kolkata Knight Riders</td><td>Royal Challengers Bangalore</td><td>2</td><td>2</td><td>BB McCullum</td><td>SC Ganguly </td><td>Z Khan   </td><td>0</td><td>...</td><td>0</td><td>0</td><td>4</td><td>0</td><td>4</td><td></td><td></td><td></td><td>NA</td><td>V Kohli</td></tr>\n",
       "\t<tr><td>1</td><td>1</td><td>Kolkata Knight Riders</td><td>Royal Challengers Bangalore</td><td>2</td><td>3</td><td>BB McCullum</td><td>SC Ganguly </td><td>Z Khan   </td><td>0</td><td>...</td><td>0</td><td>0</td><td>4</td><td>0</td><td>4</td><td></td><td></td><td></td><td>NA</td><td>V Kohli</td></tr>\n",
       "\t<tr><td>1</td><td>1</td><td>Kolkata Knight Riders</td><td>Royal Challengers Bangalore</td><td>2</td><td>4</td><td>BB McCullum</td><td>SC Ganguly </td><td>Z Khan   </td><td>0</td><td>...</td><td>0</td><td>0</td><td>6</td><td>0</td><td>6</td><td></td><td></td><td></td><td>NA</td><td>V Kohli</td></tr>\n",
       "\t<tr><td>1</td><td>1</td><td>Kolkata Knight Riders</td><td>Royal Challengers Bangalore</td><td>2</td><td>5</td><td>BB McCullum</td><td>SC Ganguly </td><td>Z Khan   </td><td>0</td><td>...</td><td>0</td><td>0</td><td>4</td><td>0</td><td>4</td><td></td><td></td><td></td><td>NA</td><td>V Kohli</td></tr>\n",
       "\t<tr><td>1</td><td>1</td><td>Kolkata Knight Riders</td><td>Royal Challengers Bangalore</td><td>2</td><td>6</td><td>BB McCullum</td><td>SC Ganguly </td><td>Z Khan   </td><td>0</td><td>...</td><td>0</td><td>0</td><td>0</td><td>0</td><td>0</td><td></td><td></td><td></td><td>NA</td><td>V Kohli</td></tr>\n",
       "\t<tr><td>1</td><td>1</td><td>Kolkata Knight Riders</td><td>Royal Challengers Bangalore</td><td>3</td><td>1</td><td>SC Ganguly </td><td>BB McCullum</td><td>P Kumar  </td><td>0</td><td>...</td><td>0</td><td>0</td><td>0</td><td>0</td><td>0</td><td></td><td></td><td></td><td>NA</td><td>V Kohli</td></tr>\n",
       "\t<tr><td>1</td><td>1</td><td>Kolkata Knight Riders</td><td>Royal Challengers Bangalore</td><td>3</td><td>2</td><td>SC Ganguly </td><td>BB McCullum</td><td>P Kumar  </td><td>0</td><td>...</td><td>0</td><td>0</td><td>0</td><td>0</td><td>0</td><td></td><td></td><td></td><td>NA</td><td>V Kohli</td></tr>\n",
       "\t<tr><td>1</td><td>1</td><td>Kolkata Knight Riders</td><td>Royal Challengers Bangalore</td><td>3</td><td>3</td><td>SC Ganguly </td><td>BB McCullum</td><td>P Kumar  </td><td>0</td><td>...</td><td>0</td><td>0</td><td>0</td><td>1</td><td>1</td><td></td><td></td><td></td><td>NA</td><td>V Kohli</td></tr>\n",
       "\t<tr><td>1</td><td>1</td><td>Kolkata Knight Riders</td><td>Royal Challengers Bangalore</td><td>3</td><td>4</td><td>BB McCullum</td><td>SC Ganguly </td><td>P Kumar  </td><td>0</td><td>...</td><td>0</td><td>0</td><td>4</td><td>0</td><td>4</td><td></td><td></td><td></td><td>NA</td><td>V Kohli</td></tr>\n",
       "\t<tr><td>1</td><td>1</td><td>Kolkata Knight Riders</td><td>Royal Challengers Bangalore</td><td>3</td><td>5</td><td>BB McCullum</td><td>SC Ganguly </td><td>P Kumar  </td><td>0</td><td>...</td><td>0</td><td>0</td><td>1</td><td>0</td><td>1</td><td></td><td></td><td></td><td>NA</td><td>V Kohli</td></tr>\n",
       "\t<tr><td>1</td><td>1</td><td>Kolkata Knight Riders</td><td>Royal Challengers Bangalore</td><td>3</td><td>6</td><td>SC Ganguly </td><td>BB McCullum</td><td>P Kumar  </td><td>0</td><td>...</td><td>0</td><td>0</td><td>0</td><td>0</td><td>0</td><td></td><td></td><td></td><td>NA</td><td>V Kohli</td></tr>\n",
       "\t<tr><td>1</td><td>1</td><td>Kolkata Knight Riders</td><td>Royal Challengers Bangalore</td><td>4</td><td>1</td><td>BB McCullum</td><td>SC Ganguly </td><td>AA Noffke</td><td>0</td><td>...</td><td>0</td><td>0</td><td>0</td><td>5</td><td>5</td><td></td><td></td><td></td><td>NA</td><td>V Kohli</td></tr>\n",
       "\t<tr><td>1</td><td>1</td><td>Kolkata Knight Riders</td><td>Royal Challengers Bangalore</td><td>4</td><td>2</td><td>BB McCullum</td><td>SC Ganguly </td><td>AA Noffke</td><td>0</td><td>...</td><td>0</td><td>0</td><td>6</td><td>0</td><td>6</td><td></td><td></td><td></td><td>NA</td><td>V Kohli</td></tr>\n",
       "\t<tr><td>1</td><td>1</td><td>Kolkata Knight Riders</td><td>Royal Challengers Bangalore</td><td>4</td><td>3</td><td>BB McCullum</td><td>SC Ganguly </td><td>AA Noffke</td><td>0</td><td>...</td><td>0</td><td>0</td><td>0</td><td>1</td><td>1</td><td></td><td></td><td></td><td>NA</td><td>V Kohli</td></tr>\n",
       "\t<tr><td>1</td><td>1</td><td>Kolkata Knight Riders</td><td>Royal Challengers Bangalore</td><td>4</td><td>4</td><td>SC Ganguly </td><td>BB McCullum</td><td>AA Noffke</td><td>0</td><td>...</td><td>0</td><td>0</td><td>4</td><td>0</td><td>4</td><td></td><td></td><td></td><td>NA</td><td>V Kohli</td></tr>\n",
       "\t<tr><td>1</td><td>1</td><td>Kolkata Knight Riders</td><td>Royal Challengers Bangalore</td><td>4</td><td>5</td><td>SC Ganguly </td><td>BB McCullum</td><td>AA Noffke</td><td>0</td><td>...</td><td>0</td><td>0</td><td>0</td><td>0</td><td>0</td><td></td><td></td><td></td><td>NA</td><td>V Kohli</td></tr>\n",
       "\t<tr><td>1</td><td>1</td><td>Kolkata Knight Riders</td><td>Royal Challengers Bangalore</td><td>4</td><td>6</td><td>SC Ganguly </td><td>BB McCullum</td><td>AA Noffke</td><td>0</td><td>...</td><td>0</td><td>0</td><td>1</td><td>0</td><td>1</td><td></td><td></td><td></td><td>NA</td><td>V Kohli</td></tr>\n",
       "\t<tr><td>1</td><td>1</td><td>Kolkata Knight Riders</td><td>Royal Challengers Bangalore</td><td>4</td><td>7</td><td>BB McCullum</td><td>SC Ganguly </td><td>AA Noffke</td><td>0</td><td>...</td><td>0</td><td>0</td><td>6</td><td>0</td><td>6</td><td></td><td></td><td></td><td>NA</td><td>V Kohli</td></tr>\n",
       "\t<tr><td>1</td><td>1</td><td>Kolkata Knight Riders</td><td>Royal Challengers Bangalore</td><td>5</td><td>1</td><td>SC Ganguly </td><td>BB McCullum</td><td>P Kumar  </td><td>0</td><td>...</td><td>0</td><td>0</td><td>4</td><td>0</td><td>4</td><td></td><td></td><td></td><td>NA</td><td>V Kohli</td></tr>\n",
       "\t<tr><td>1</td><td>1</td><td>Kolkata Knight Riders</td><td>Royal Challengers Bangalore</td><td>5</td><td>2</td><td>SC Ganguly </td><td>BB McCullum</td><td>P Kumar  </td><td>0</td><td>...</td><td>0</td><td>0</td><td>1</td><td>0</td><td>1</td><td></td><td></td><td></td><td>NA</td><td>V Kohli</td></tr>\n",
       "\t<tr><td>1</td><td>1</td><td>Kolkata Knight Riders</td><td>Royal Challengers Bangalore</td><td>5</td><td>3</td><td>BB McCullum</td><td>SC Ganguly </td><td>P Kumar  </td><td>0</td><td>...</td><td>0</td><td>0</td><td>4</td><td>0</td><td>4</td><td></td><td></td><td></td><td>NA</td><td>V Kohli</td></tr>\n",
       "\t<tr><td>1</td><td>1</td><td>Kolkata Knight Riders</td><td>Royal Challengers Bangalore</td><td>5</td><td>4</td><td>BB McCullum</td><td>SC Ganguly </td><td>P Kumar  </td><td>0</td><td>...</td><td>0</td><td>0</td><td>0</td><td>0</td><td>0</td><td></td><td></td><td></td><td>NA</td><td>V Kohli</td></tr>\n",
       "\t<tr><td>...</td><td>...</td><td>...</td><td>...</td><td>...</td><td>...</td><td>...</td><td>...</td><td>...</td><td>...</td><td></td><td>...</td><td>...</td><td>...</td><td>...</td><td>...</td><td>...</td><td>...</td><td>...</td><td>...</td><td>...</td></tr>\n",
       "\t<tr><td>577</td><td>2</td><td>Royal Challengers Bangalore</td><td>Sunrisers Hyderabad</td><td>16</td><td>1</td><td>KL Rahul     </td><td>SR Watson    </td><td>BCJ Cutting      </td><td>0</td><td>...</td><td>0</td><td>0</td><td>1</td><td>0</td><td>1</td><td>         </td><td>       </td><td>            </td><td>NA</td><td>S Dhawan</td></tr>\n",
       "\t<tr><td>577</td><td>2</td><td>Royal Challengers Bangalore</td><td>Sunrisers Hyderabad</td><td>16</td><td>2</td><td>SR Watson    </td><td>KL Rahul     </td><td>BCJ Cutting      </td><td>0</td><td>...</td><td>0</td><td>0</td><td>1</td><td>0</td><td>1</td><td>         </td><td>       </td><td>            </td><td>NA</td><td>S Dhawan</td></tr>\n",
       "\t<tr><td>577</td><td>2</td><td>Royal Challengers Bangalore</td><td>Sunrisers Hyderabad</td><td>16</td><td>3</td><td>KL Rahul     </td><td>SR Watson    </td><td>BCJ Cutting      </td><td>0</td><td>...</td><td>0</td><td>0</td><td>0</td><td>0</td><td>0</td><td>KL Rahul </td><td>bowled </td><td>            </td><td> 1</td><td>S Dhawan</td></tr>\n",
       "\t<tr><td>577</td><td>2</td><td>Royal Challengers Bangalore</td><td>Sunrisers Hyderabad</td><td>16</td><td>4</td><td>Sachin Baby  </td><td>SR Watson    </td><td>BCJ Cutting      </td><td>0</td><td>...</td><td>0</td><td>0</td><td>0</td><td>0</td><td>0</td><td>         </td><td>       </td><td>            </td><td>NA</td><td>S Dhawan</td></tr>\n",
       "\t<tr><td>577</td><td>2</td><td>Royal Challengers Bangalore</td><td>Sunrisers Hyderabad</td><td>16</td><td>5</td><td>Sachin Baby  </td><td>SR Watson    </td><td>BCJ Cutting      </td><td>0</td><td>...</td><td>0</td><td>0</td><td>1</td><td>0</td><td>1</td><td>         </td><td>       </td><td>            </td><td>NA</td><td>S Dhawan</td></tr>\n",
       "\t<tr><td>577</td><td>2</td><td>Royal Challengers Bangalore</td><td>Sunrisers Hyderabad</td><td>16</td><td>6</td><td>SR Watson    </td><td>Sachin Baby  </td><td>BCJ Cutting      </td><td>0</td><td>...</td><td>0</td><td>0</td><td>1</td><td>0</td><td>1</td><td>         </td><td>       </td><td>            </td><td>NA</td><td>S Dhawan</td></tr>\n",
       "\t<tr><td>577</td><td>2</td><td>Royal Challengers Bangalore</td><td>Sunrisers Hyderabad</td><td>17</td><td>1</td><td>SR Watson    </td><td>Sachin Baby  </td><td>Mustafizur Rahman</td><td>0</td><td>...</td><td>0</td><td>0</td><td>0</td><td>0</td><td>0</td><td>         </td><td>       </td><td>            </td><td>NA</td><td>S Dhawan</td></tr>\n",
       "\t<tr><td>577</td><td>2</td><td>Royal Challengers Bangalore</td><td>Sunrisers Hyderabad</td><td>17</td><td>2</td><td>SR Watson    </td><td>Sachin Baby  </td><td>Mustafizur Rahman</td><td>0</td><td>...</td><td>0</td><td>0</td><td>2</td><td>0</td><td>2</td><td>         </td><td>       </td><td>            </td><td>NA</td><td>S Dhawan</td></tr>\n",
       "\t<tr><td>577</td><td>2</td><td>Royal Challengers Bangalore</td><td>Sunrisers Hyderabad</td><td>17</td><td>3</td><td>SR Watson    </td><td>Sachin Baby  </td><td>Mustafizur Rahman</td><td>0</td><td>...</td><td>0</td><td>0</td><td>0</td><td>0</td><td>0</td><td>SR Watson</td><td>caught </td><td>MC Henriques</td><td> 1</td><td>S Dhawan</td></tr>\n",
       "\t<tr><td>577</td><td>2</td><td>Royal Challengers Bangalore</td><td>Sunrisers Hyderabad</td><td>17</td><td>4</td><td>Sachin Baby  </td><td>STR Binny    </td><td>Mustafizur Rahman</td><td>0</td><td>...</td><td>0</td><td>0</td><td>1</td><td>0</td><td>1</td><td>         </td><td>       </td><td>            </td><td>NA</td><td>S Dhawan</td></tr>\n",
       "\t<tr><td>577</td><td>2</td><td>Royal Challengers Bangalore</td><td>Sunrisers Hyderabad</td><td>17</td><td>5</td><td>STR Binny    </td><td>Sachin Baby  </td><td>Mustafizur Rahman</td><td>0</td><td>...</td><td>0</td><td>0</td><td>6</td><td>0</td><td>6</td><td>         </td><td>       </td><td>            </td><td>NA</td><td>S Dhawan</td></tr>\n",
       "\t<tr><td>577</td><td>2</td><td>Royal Challengers Bangalore</td><td>Sunrisers Hyderabad</td><td>17</td><td>6</td><td>STR Binny    </td><td>Sachin Baby  </td><td>Mustafizur Rahman</td><td>0</td><td>...</td><td>0</td><td>0</td><td>1</td><td>0</td><td>1</td><td>         </td><td>       </td><td>            </td><td>NA</td><td>S Dhawan</td></tr>\n",
       "\t<tr><td>577</td><td>2</td><td>Royal Challengers Bangalore</td><td>Sunrisers Hyderabad</td><td>18</td><td>1</td><td>STR Binny    </td><td>Sachin Baby  </td><td>B Kumar          </td><td>0</td><td>...</td><td>0</td><td>0</td><td>0</td><td>0</td><td>0</td><td>         </td><td>       </td><td>            </td><td>NA</td><td>S Dhawan</td></tr>\n",
       "\t<tr><td>577</td><td>2</td><td>Royal Challengers Bangalore</td><td>Sunrisers Hyderabad</td><td>18</td><td>2</td><td>STR Binny    </td><td>Sachin Baby  </td><td>B Kumar          </td><td>0</td><td>...</td><td>0</td><td>0</td><td>1</td><td>0</td><td>1</td><td>         </td><td>       </td><td>            </td><td>NA</td><td>S Dhawan</td></tr>\n",
       "\t<tr><td>577</td><td>2</td><td>Royal Challengers Bangalore</td><td>Sunrisers Hyderabad</td><td>18</td><td>3</td><td>Sachin Baby  </td><td>STR Binny    </td><td>B Kumar          </td><td>0</td><td>...</td><td>0</td><td>0</td><td>1</td><td>0</td><td>1</td><td>         </td><td>       </td><td>            </td><td>NA</td><td>S Dhawan</td></tr>\n",
       "\t<tr><td>577</td><td>2</td><td>Royal Challengers Bangalore</td><td>Sunrisers Hyderabad</td><td>18</td><td>4</td><td>STR Binny    </td><td>Sachin Baby  </td><td>B Kumar          </td><td>0</td><td>...</td><td>0</td><td>0</td><td>0</td><td>0</td><td>0</td><td>         </td><td>       </td><td>            </td><td>NA</td><td>S Dhawan</td></tr>\n",
       "\t<tr><td>577</td><td>2</td><td>Royal Challengers Bangalore</td><td>Sunrisers Hyderabad</td><td>18</td><td>5</td><td>STR Binny    </td><td>Sachin Baby  </td><td>B Kumar          </td><td>0</td><td>...</td><td>0</td><td>0</td><td>0</td><td>1</td><td>1</td><td>         </td><td>       </td><td>            </td><td>NA</td><td>S Dhawan</td></tr>\n",
       "\t<tr><td>577</td><td>2</td><td>Royal Challengers Bangalore</td><td>Sunrisers Hyderabad</td><td>18</td><td>6</td><td>Sachin Baby  </td><td>STR Binny    </td><td>B Kumar          </td><td>0</td><td>...</td><td>0</td><td>0</td><td>4</td><td>0</td><td>4</td><td>         </td><td>       </td><td>            </td><td>NA</td><td>S Dhawan</td></tr>\n",
       "\t<tr><td>577</td><td>2</td><td>Royal Challengers Bangalore</td><td>Sunrisers Hyderabad</td><td>19</td><td>1</td><td>STR Binny    </td><td>Sachin Baby  </td><td>Mustafizur Rahman</td><td>0</td><td>...</td><td>0</td><td>0</td><td>1</td><td>0</td><td>1</td><td>STR Binny</td><td>run out</td><td>DJ Hooda    </td><td> 1</td><td>S Dhawan</td></tr>\n",
       "\t<tr><td>577</td><td>2</td><td>Royal Challengers Bangalore</td><td>Sunrisers Hyderabad</td><td>19</td><td>2</td><td>CJ Jordan    </td><td>Sachin Baby  </td><td>Mustafizur Rahman</td><td>0</td><td>...</td><td>0</td><td>0</td><td>2</td><td>0</td><td>2</td><td>         </td><td>       </td><td>            </td><td>NA</td><td>S Dhawan</td></tr>\n",
       "\t<tr><td>577</td><td>2</td><td>Royal Challengers Bangalore</td><td>Sunrisers Hyderabad</td><td>19</td><td>3</td><td>CJ Jordan    </td><td>Sachin Baby  </td><td>Mustafizur Rahman</td><td>0</td><td>...</td><td>0</td><td>0</td><td>0</td><td>0</td><td>0</td><td>         </td><td>       </td><td>            </td><td>NA</td><td>S Dhawan</td></tr>\n",
       "\t<tr><td>577</td><td>2</td><td>Royal Challengers Bangalore</td><td>Sunrisers Hyderabad</td><td>19</td><td>4</td><td>CJ Jordan    </td><td>Sachin Baby  </td><td>Mustafizur Rahman</td><td>0</td><td>...</td><td>0</td><td>0</td><td>0</td><td>1</td><td>1</td><td>         </td><td>       </td><td>            </td><td>NA</td><td>S Dhawan</td></tr>\n",
       "\t<tr><td>577</td><td>2</td><td>Royal Challengers Bangalore</td><td>Sunrisers Hyderabad</td><td>19</td><td>5</td><td>Sachin Baby  </td><td>CJ Jordan    </td><td>Mustafizur Rahman</td><td>0</td><td>...</td><td>0</td><td>0</td><td>2</td><td>0</td><td>2</td><td>         </td><td>       </td><td>            </td><td>NA</td><td>S Dhawan</td></tr>\n",
       "\t<tr><td>577</td><td>2</td><td>Royal Challengers Bangalore</td><td>Sunrisers Hyderabad</td><td>19</td><td>6</td><td>Sachin Baby  </td><td>CJ Jordan    </td><td>Mustafizur Rahman</td><td>0</td><td>...</td><td>0</td><td>0</td><td>6</td><td>0</td><td>6</td><td>         </td><td>       </td><td>            </td><td>NA</td><td>S Dhawan</td></tr>\n",
       "\t<tr><td>577</td><td>2</td><td>Royal Challengers Bangalore</td><td>Sunrisers Hyderabad</td><td>20</td><td>1</td><td>CJ Jordan    </td><td>Sachin Baby  </td><td>B Kumar          </td><td>0</td><td>...</td><td>0</td><td>0</td><td>1</td><td>0</td><td>1</td><td>         </td><td>       </td><td>            </td><td>NA</td><td>S Dhawan</td></tr>\n",
       "\t<tr><td>577</td><td>2</td><td>Royal Challengers Bangalore</td><td>Sunrisers Hyderabad</td><td>20</td><td>2</td><td>Sachin Baby  </td><td>CJ Jordan    </td><td>B Kumar          </td><td>0</td><td>...</td><td>0</td><td>0</td><td>2</td><td>0</td><td>2</td><td>         </td><td>       </td><td>            </td><td>NA</td><td>S Dhawan</td></tr>\n",
       "\t<tr><td>577</td><td>2</td><td>Royal Challengers Bangalore</td><td>Sunrisers Hyderabad</td><td>20</td><td>3</td><td>Sachin Baby  </td><td>CJ Jordan    </td><td>B Kumar          </td><td>0</td><td>...</td><td>0</td><td>0</td><td>0</td><td>0</td><td>0</td><td>CJ Jordan</td><td>run out</td><td>NV Ojha     </td><td> 1</td><td>S Dhawan</td></tr>\n",
       "\t<tr><td>577</td><td>2</td><td>Royal Challengers Bangalore</td><td>Sunrisers Hyderabad</td><td>20</td><td>4</td><td>Iqbal Abdulla</td><td>Sachin Baby  </td><td>B Kumar          </td><td>0</td><td>...</td><td>0</td><td>0</td><td>0</td><td>1</td><td>1</td><td>         </td><td>       </td><td>            </td><td>NA</td><td>S Dhawan</td></tr>\n",
       "\t<tr><td>577</td><td>2</td><td>Royal Challengers Bangalore</td><td>Sunrisers Hyderabad</td><td>20</td><td>5</td><td>Sachin Baby  </td><td>Iqbal Abdulla</td><td>B Kumar          </td><td>0</td><td>...</td><td>0</td><td>0</td><td>1</td><td>0</td><td>1</td><td>         </td><td>       </td><td>            </td><td>NA</td><td>S Dhawan</td></tr>\n",
       "\t<tr><td>577</td><td>2</td><td>Royal Challengers Bangalore</td><td>Sunrisers Hyderabad</td><td>20</td><td>6</td><td>Iqbal Abdulla</td><td>Sachin Baby  </td><td>B Kumar          </td><td>0</td><td>...</td><td>0</td><td>0</td><td>4</td><td>0</td><td>4</td><td>         </td><td>       </td><td>            </td><td>NA</td><td>S Dhawan</td></tr>\n",
       "</tbody>\n",
       "</table>\n"
      ],
      "text/latex": [
       "A data.frame: 1365980 × 23\n",
       "\\begin{tabular}{r|lllllllllllllllllllllll}\n",
       " match\\_id & inning & batting\\_team & bowling\\_team & over & ball & batsman & non\\_striker & bowler & is\\_super\\_over & wide\\_runs & bye\\_runs & legbye\\_runs & noball\\_runs & penalty\\_runs & batsman\\_runs & extra\\_runs & total\\_runs & player\\_dismissed & dismissal\\_kind & fielder & wickets & Top\\_Batsman\\\\\n",
       " <int> & <int> & <fct> & <fct> & <int> & <int> & <fct> & <fct> & <fct> & <int> & <int> & <int> & <int> & <int> & <int> & <int> & <int> & <int> & <fct> & <fct> & <fct> & <dbl> & <fct>\\\\\n",
       "\\hline\n",
       "\t 1 & 1 & Kolkata Knight Riders & Royal Challengers Bangalore & 1 & 1 & SC Ganguly  & BB McCullum & P Kumar   & 0 & 0 & 0 & 1 & 0 & 0 & 0 & 1 & 1 &  &  &  & NA & V Kohli\\\\\n",
       "\t 1 & 1 & Kolkata Knight Riders & Royal Challengers Bangalore & 1 & 2 & BB McCullum & SC Ganguly  & P Kumar   & 0 & 0 & 0 & 0 & 0 & 0 & 0 & 0 & 0 &  &  &  & NA & V Kohli\\\\\n",
       "\t 1 & 1 & Kolkata Knight Riders & Royal Challengers Bangalore & 1 & 3 & BB McCullum & SC Ganguly  & P Kumar   & 0 & 1 & 0 & 0 & 0 & 0 & 0 & 1 & 1 &  &  &  & NA & V Kohli\\\\\n",
       "\t 1 & 1 & Kolkata Knight Riders & Royal Challengers Bangalore & 1 & 4 & BB McCullum & SC Ganguly  & P Kumar   & 0 & 0 & 0 & 0 & 0 & 0 & 0 & 0 & 0 &  &  &  & NA & V Kohli\\\\\n",
       "\t 1 & 1 & Kolkata Knight Riders & Royal Challengers Bangalore & 1 & 5 & BB McCullum & SC Ganguly  & P Kumar   & 0 & 0 & 0 & 0 & 0 & 0 & 0 & 0 & 0 &  &  &  & NA & V Kohli\\\\\n",
       "\t 1 & 1 & Kolkata Knight Riders & Royal Challengers Bangalore & 1 & 6 & BB McCullum & SC Ganguly  & P Kumar   & 0 & 0 & 0 & 0 & 0 & 0 & 0 & 0 & 0 &  &  &  & NA & V Kohli\\\\\n",
       "\t 1 & 1 & Kolkata Knight Riders & Royal Challengers Bangalore & 1 & 7 & BB McCullum & SC Ganguly  & P Kumar   & 0 & 0 & 0 & 1 & 0 & 0 & 0 & 1 & 1 &  &  &  & NA & V Kohli\\\\\n",
       "\t 1 & 1 & Kolkata Knight Riders & Royal Challengers Bangalore & 2 & 1 & BB McCullum & SC Ganguly  & Z Khan    & 0 & 0 & 0 & 0 & 0 & 0 & 0 & 0 & 0 &  &  &  & NA & V Kohli\\\\\n",
       "\t 1 & 1 & Kolkata Knight Riders & Royal Challengers Bangalore & 2 & 2 & BB McCullum & SC Ganguly  & Z Khan    & 0 & 0 & 0 & 0 & 0 & 0 & 4 & 0 & 4 &  &  &  & NA & V Kohli\\\\\n",
       "\t 1 & 1 & Kolkata Knight Riders & Royal Challengers Bangalore & 2 & 3 & BB McCullum & SC Ganguly  & Z Khan    & 0 & 0 & 0 & 0 & 0 & 0 & 4 & 0 & 4 &  &  &  & NA & V Kohli\\\\\n",
       "\t 1 & 1 & Kolkata Knight Riders & Royal Challengers Bangalore & 2 & 4 & BB McCullum & SC Ganguly  & Z Khan    & 0 & 0 & 0 & 0 & 0 & 0 & 6 & 0 & 6 &  &  &  & NA & V Kohli\\\\\n",
       "\t 1 & 1 & Kolkata Knight Riders & Royal Challengers Bangalore & 2 & 5 & BB McCullum & SC Ganguly  & Z Khan    & 0 & 0 & 0 & 0 & 0 & 0 & 4 & 0 & 4 &  &  &  & NA & V Kohli\\\\\n",
       "\t 1 & 1 & Kolkata Knight Riders & Royal Challengers Bangalore & 2 & 6 & BB McCullum & SC Ganguly  & Z Khan    & 0 & 0 & 0 & 0 & 0 & 0 & 0 & 0 & 0 &  &  &  & NA & V Kohli\\\\\n",
       "\t 1 & 1 & Kolkata Knight Riders & Royal Challengers Bangalore & 3 & 1 & SC Ganguly  & BB McCullum & P Kumar   & 0 & 0 & 0 & 0 & 0 & 0 & 0 & 0 & 0 &  &  &  & NA & V Kohli\\\\\n",
       "\t 1 & 1 & Kolkata Knight Riders & Royal Challengers Bangalore & 3 & 2 & SC Ganguly  & BB McCullum & P Kumar   & 0 & 0 & 0 & 0 & 0 & 0 & 0 & 0 & 0 &  &  &  & NA & V Kohli\\\\\n",
       "\t 1 & 1 & Kolkata Knight Riders & Royal Challengers Bangalore & 3 & 3 & SC Ganguly  & BB McCullum & P Kumar   & 0 & 0 & 0 & 1 & 0 & 0 & 0 & 1 & 1 &  &  &  & NA & V Kohli\\\\\n",
       "\t 1 & 1 & Kolkata Knight Riders & Royal Challengers Bangalore & 3 & 4 & BB McCullum & SC Ganguly  & P Kumar   & 0 & 0 & 0 & 0 & 0 & 0 & 4 & 0 & 4 &  &  &  & NA & V Kohli\\\\\n",
       "\t 1 & 1 & Kolkata Knight Riders & Royal Challengers Bangalore & 3 & 5 & BB McCullum & SC Ganguly  & P Kumar   & 0 & 0 & 0 & 0 & 0 & 0 & 1 & 0 & 1 &  &  &  & NA & V Kohli\\\\\n",
       "\t 1 & 1 & Kolkata Knight Riders & Royal Challengers Bangalore & 3 & 6 & SC Ganguly  & BB McCullum & P Kumar   & 0 & 0 & 0 & 0 & 0 & 0 & 0 & 0 & 0 &  &  &  & NA & V Kohli\\\\\n",
       "\t 1 & 1 & Kolkata Knight Riders & Royal Challengers Bangalore & 4 & 1 & BB McCullum & SC Ganguly  & AA Noffke & 0 & 5 & 0 & 0 & 0 & 0 & 0 & 5 & 5 &  &  &  & NA & V Kohli\\\\\n",
       "\t 1 & 1 & Kolkata Knight Riders & Royal Challengers Bangalore & 4 & 2 & BB McCullum & SC Ganguly  & AA Noffke & 0 & 0 & 0 & 0 & 0 & 0 & 6 & 0 & 6 &  &  &  & NA & V Kohli\\\\\n",
       "\t 1 & 1 & Kolkata Knight Riders & Royal Challengers Bangalore & 4 & 3 & BB McCullum & SC Ganguly  & AA Noffke & 0 & 0 & 0 & 1 & 0 & 0 & 0 & 1 & 1 &  &  &  & NA & V Kohli\\\\\n",
       "\t 1 & 1 & Kolkata Knight Riders & Royal Challengers Bangalore & 4 & 4 & SC Ganguly  & BB McCullum & AA Noffke & 0 & 0 & 0 & 0 & 0 & 0 & 4 & 0 & 4 &  &  &  & NA & V Kohli\\\\\n",
       "\t 1 & 1 & Kolkata Knight Riders & Royal Challengers Bangalore & 4 & 5 & SC Ganguly  & BB McCullum & AA Noffke & 0 & 0 & 0 & 0 & 0 & 0 & 0 & 0 & 0 &  &  &  & NA & V Kohli\\\\\n",
       "\t 1 & 1 & Kolkata Knight Riders & Royal Challengers Bangalore & 4 & 6 & SC Ganguly  & BB McCullum & AA Noffke & 0 & 0 & 0 & 0 & 0 & 0 & 1 & 0 & 1 &  &  &  & NA & V Kohli\\\\\n",
       "\t 1 & 1 & Kolkata Knight Riders & Royal Challengers Bangalore & 4 & 7 & BB McCullum & SC Ganguly  & AA Noffke & 0 & 0 & 0 & 0 & 0 & 0 & 6 & 0 & 6 &  &  &  & NA & V Kohli\\\\\n",
       "\t 1 & 1 & Kolkata Knight Riders & Royal Challengers Bangalore & 5 & 1 & SC Ganguly  & BB McCullum & P Kumar   & 0 & 0 & 0 & 0 & 0 & 0 & 4 & 0 & 4 &  &  &  & NA & V Kohli\\\\\n",
       "\t 1 & 1 & Kolkata Knight Riders & Royal Challengers Bangalore & 5 & 2 & SC Ganguly  & BB McCullum & P Kumar   & 0 & 0 & 0 & 0 & 0 & 0 & 1 & 0 & 1 &  &  &  & NA & V Kohli\\\\\n",
       "\t 1 & 1 & Kolkata Knight Riders & Royal Challengers Bangalore & 5 & 3 & BB McCullum & SC Ganguly  & P Kumar   & 0 & 0 & 0 & 0 & 0 & 0 & 4 & 0 & 4 &  &  &  & NA & V Kohli\\\\\n",
       "\t 1 & 1 & Kolkata Knight Riders & Royal Challengers Bangalore & 5 & 4 & BB McCullum & SC Ganguly  & P Kumar   & 0 & 0 & 0 & 0 & 0 & 0 & 0 & 0 & 0 &  &  &  & NA & V Kohli\\\\\n",
       "\t ... & ... & ... & ... & ... & ... & ... & ... & ... & ... & ... & ... & ... & ... & ... & ... & ... & ... & ... & ... & ... & ... & ...\\\\\n",
       "\t 577 & 2 & Royal Challengers Bangalore & Sunrisers Hyderabad & 16 & 1 & KL Rahul      & SR Watson     & BCJ Cutting       & 0 & 0 & 0 & 0 & 0 & 0 & 1 & 0 & 1 &           &         &              & NA & S Dhawan\\\\\n",
       "\t 577 & 2 & Royal Challengers Bangalore & Sunrisers Hyderabad & 16 & 2 & SR Watson     & KL Rahul      & BCJ Cutting       & 0 & 0 & 0 & 0 & 0 & 0 & 1 & 0 & 1 &           &         &              & NA & S Dhawan\\\\\n",
       "\t 577 & 2 & Royal Challengers Bangalore & Sunrisers Hyderabad & 16 & 3 & KL Rahul      & SR Watson     & BCJ Cutting       & 0 & 0 & 0 & 0 & 0 & 0 & 0 & 0 & 0 & KL Rahul  & bowled  &              &  1 & S Dhawan\\\\\n",
       "\t 577 & 2 & Royal Challengers Bangalore & Sunrisers Hyderabad & 16 & 4 & Sachin Baby   & SR Watson     & BCJ Cutting       & 0 & 0 & 0 & 0 & 0 & 0 & 0 & 0 & 0 &           &         &              & NA & S Dhawan\\\\\n",
       "\t 577 & 2 & Royal Challengers Bangalore & Sunrisers Hyderabad & 16 & 5 & Sachin Baby   & SR Watson     & BCJ Cutting       & 0 & 0 & 0 & 0 & 0 & 0 & 1 & 0 & 1 &           &         &              & NA & S Dhawan\\\\\n",
       "\t 577 & 2 & Royal Challengers Bangalore & Sunrisers Hyderabad & 16 & 6 & SR Watson     & Sachin Baby   & BCJ Cutting       & 0 & 0 & 0 & 0 & 0 & 0 & 1 & 0 & 1 &           &         &              & NA & S Dhawan\\\\\n",
       "\t 577 & 2 & Royal Challengers Bangalore & Sunrisers Hyderabad & 17 & 1 & SR Watson     & Sachin Baby   & Mustafizur Rahman & 0 & 0 & 0 & 0 & 0 & 0 & 0 & 0 & 0 &           &         &              & NA & S Dhawan\\\\\n",
       "\t 577 & 2 & Royal Challengers Bangalore & Sunrisers Hyderabad & 17 & 2 & SR Watson     & Sachin Baby   & Mustafizur Rahman & 0 & 0 & 0 & 0 & 0 & 0 & 2 & 0 & 2 &           &         &              & NA & S Dhawan\\\\\n",
       "\t 577 & 2 & Royal Challengers Bangalore & Sunrisers Hyderabad & 17 & 3 & SR Watson     & Sachin Baby   & Mustafizur Rahman & 0 & 0 & 0 & 0 & 0 & 0 & 0 & 0 & 0 & SR Watson & caught  & MC Henriques &  1 & S Dhawan\\\\\n",
       "\t 577 & 2 & Royal Challengers Bangalore & Sunrisers Hyderabad & 17 & 4 & Sachin Baby   & STR Binny     & Mustafizur Rahman & 0 & 0 & 0 & 0 & 0 & 0 & 1 & 0 & 1 &           &         &              & NA & S Dhawan\\\\\n",
       "\t 577 & 2 & Royal Challengers Bangalore & Sunrisers Hyderabad & 17 & 5 & STR Binny     & Sachin Baby   & Mustafizur Rahman & 0 & 0 & 0 & 0 & 0 & 0 & 6 & 0 & 6 &           &         &              & NA & S Dhawan\\\\\n",
       "\t 577 & 2 & Royal Challengers Bangalore & Sunrisers Hyderabad & 17 & 6 & STR Binny     & Sachin Baby   & Mustafizur Rahman & 0 & 0 & 0 & 0 & 0 & 0 & 1 & 0 & 1 &           &         &              & NA & S Dhawan\\\\\n",
       "\t 577 & 2 & Royal Challengers Bangalore & Sunrisers Hyderabad & 18 & 1 & STR Binny     & Sachin Baby   & B Kumar           & 0 & 0 & 0 & 0 & 0 & 0 & 0 & 0 & 0 &           &         &              & NA & S Dhawan\\\\\n",
       "\t 577 & 2 & Royal Challengers Bangalore & Sunrisers Hyderabad & 18 & 2 & STR Binny     & Sachin Baby   & B Kumar           & 0 & 0 & 0 & 0 & 0 & 0 & 1 & 0 & 1 &           &         &              & NA & S Dhawan\\\\\n",
       "\t 577 & 2 & Royal Challengers Bangalore & Sunrisers Hyderabad & 18 & 3 & Sachin Baby   & STR Binny     & B Kumar           & 0 & 0 & 0 & 0 & 0 & 0 & 1 & 0 & 1 &           &         &              & NA & S Dhawan\\\\\n",
       "\t 577 & 2 & Royal Challengers Bangalore & Sunrisers Hyderabad & 18 & 4 & STR Binny     & Sachin Baby   & B Kumar           & 0 & 0 & 0 & 0 & 0 & 0 & 0 & 0 & 0 &           &         &              & NA & S Dhawan\\\\\n",
       "\t 577 & 2 & Royal Challengers Bangalore & Sunrisers Hyderabad & 18 & 5 & STR Binny     & Sachin Baby   & B Kumar           & 0 & 0 & 0 & 1 & 0 & 0 & 0 & 1 & 1 &           &         &              & NA & S Dhawan\\\\\n",
       "\t 577 & 2 & Royal Challengers Bangalore & Sunrisers Hyderabad & 18 & 6 & Sachin Baby   & STR Binny     & B Kumar           & 0 & 0 & 0 & 0 & 0 & 0 & 4 & 0 & 4 &           &         &              & NA & S Dhawan\\\\\n",
       "\t 577 & 2 & Royal Challengers Bangalore & Sunrisers Hyderabad & 19 & 1 & STR Binny     & Sachin Baby   & Mustafizur Rahman & 0 & 0 & 0 & 0 & 0 & 0 & 1 & 0 & 1 & STR Binny & run out & DJ Hooda     &  1 & S Dhawan\\\\\n",
       "\t 577 & 2 & Royal Challengers Bangalore & Sunrisers Hyderabad & 19 & 2 & CJ Jordan     & Sachin Baby   & Mustafizur Rahman & 0 & 0 & 0 & 0 & 0 & 0 & 2 & 0 & 2 &           &         &              & NA & S Dhawan\\\\\n",
       "\t 577 & 2 & Royal Challengers Bangalore & Sunrisers Hyderabad & 19 & 3 & CJ Jordan     & Sachin Baby   & Mustafizur Rahman & 0 & 0 & 0 & 0 & 0 & 0 & 0 & 0 & 0 &           &         &              & NA & S Dhawan\\\\\n",
       "\t 577 & 2 & Royal Challengers Bangalore & Sunrisers Hyderabad & 19 & 4 & CJ Jordan     & Sachin Baby   & Mustafizur Rahman & 0 & 0 & 0 & 1 & 0 & 0 & 0 & 1 & 1 &           &         &              & NA & S Dhawan\\\\\n",
       "\t 577 & 2 & Royal Challengers Bangalore & Sunrisers Hyderabad & 19 & 5 & Sachin Baby   & CJ Jordan     & Mustafizur Rahman & 0 & 0 & 0 & 0 & 0 & 0 & 2 & 0 & 2 &           &         &              & NA & S Dhawan\\\\\n",
       "\t 577 & 2 & Royal Challengers Bangalore & Sunrisers Hyderabad & 19 & 6 & Sachin Baby   & CJ Jordan     & Mustafizur Rahman & 0 & 0 & 0 & 0 & 0 & 0 & 6 & 0 & 6 &           &         &              & NA & S Dhawan\\\\\n",
       "\t 577 & 2 & Royal Challengers Bangalore & Sunrisers Hyderabad & 20 & 1 & CJ Jordan     & Sachin Baby   & B Kumar           & 0 & 0 & 0 & 0 & 0 & 0 & 1 & 0 & 1 &           &         &              & NA & S Dhawan\\\\\n",
       "\t 577 & 2 & Royal Challengers Bangalore & Sunrisers Hyderabad & 20 & 2 & Sachin Baby   & CJ Jordan     & B Kumar           & 0 & 0 & 0 & 0 & 0 & 0 & 2 & 0 & 2 &           &         &              & NA & S Dhawan\\\\\n",
       "\t 577 & 2 & Royal Challengers Bangalore & Sunrisers Hyderabad & 20 & 3 & Sachin Baby   & CJ Jordan     & B Kumar           & 0 & 0 & 0 & 0 & 0 & 0 & 0 & 0 & 0 & CJ Jordan & run out & NV Ojha      &  1 & S Dhawan\\\\\n",
       "\t 577 & 2 & Royal Challengers Bangalore & Sunrisers Hyderabad & 20 & 4 & Iqbal Abdulla & Sachin Baby   & B Kumar           & 0 & 0 & 0 & 1 & 0 & 0 & 0 & 1 & 1 &           &         &              & NA & S Dhawan\\\\\n",
       "\t 577 & 2 & Royal Challengers Bangalore & Sunrisers Hyderabad & 20 & 5 & Sachin Baby   & Iqbal Abdulla & B Kumar           & 0 & 0 & 0 & 0 & 0 & 0 & 1 & 0 & 1 &           &         &              & NA & S Dhawan\\\\\n",
       "\t 577 & 2 & Royal Challengers Bangalore & Sunrisers Hyderabad & 20 & 6 & Iqbal Abdulla & Sachin Baby   & B Kumar           & 0 & 0 & 0 & 0 & 0 & 0 & 4 & 0 & 4 &           &         &              & NA & S Dhawan\\\\\n",
       "\\end{tabular}\n"
      ],
      "text/markdown": [
       "\n",
       "A data.frame: 1365980 × 23\n",
       "\n",
       "| match_id &lt;int&gt; | inning &lt;int&gt; | batting_team &lt;fct&gt; | bowling_team &lt;fct&gt; | over &lt;int&gt; | ball &lt;int&gt; | batsman &lt;fct&gt; | non_striker &lt;fct&gt; | bowler &lt;fct&gt; | is_super_over &lt;int&gt; | ... ... | noball_runs &lt;int&gt; | penalty_runs &lt;int&gt; | batsman_runs &lt;int&gt; | extra_runs &lt;int&gt; | total_runs &lt;int&gt; | player_dismissed &lt;fct&gt; | dismissal_kind &lt;fct&gt; | fielder &lt;fct&gt; | wickets &lt;dbl&gt; | Top_Batsman &lt;fct&gt; |\n",
       "|---|---|---|---|---|---|---|---|---|---|---|---|---|---|---|---|---|---|---|---|---|\n",
       "| 1 | 1 | Kolkata Knight Riders | Royal Challengers Bangalore | 1 | 1 | SC Ganguly  | BB McCullum | P Kumar   | 0 | ... | 0 | 0 | 0 | 1 | 1 | <!----> | <!----> | <!----> | NA | V Kohli |\n",
       "| 1 | 1 | Kolkata Knight Riders | Royal Challengers Bangalore | 1 | 2 | BB McCullum | SC Ganguly  | P Kumar   | 0 | ... | 0 | 0 | 0 | 0 | 0 | <!----> | <!----> | <!----> | NA | V Kohli |\n",
       "| 1 | 1 | Kolkata Knight Riders | Royal Challengers Bangalore | 1 | 3 | BB McCullum | SC Ganguly  | P Kumar   | 0 | ... | 0 | 0 | 0 | 1 | 1 | <!----> | <!----> | <!----> | NA | V Kohli |\n",
       "| 1 | 1 | Kolkata Knight Riders | Royal Challengers Bangalore | 1 | 4 | BB McCullum | SC Ganguly  | P Kumar   | 0 | ... | 0 | 0 | 0 | 0 | 0 | <!----> | <!----> | <!----> | NA | V Kohli |\n",
       "| 1 | 1 | Kolkata Knight Riders | Royal Challengers Bangalore | 1 | 5 | BB McCullum | SC Ganguly  | P Kumar   | 0 | ... | 0 | 0 | 0 | 0 | 0 | <!----> | <!----> | <!----> | NA | V Kohli |\n",
       "| 1 | 1 | Kolkata Knight Riders | Royal Challengers Bangalore | 1 | 6 | BB McCullum | SC Ganguly  | P Kumar   | 0 | ... | 0 | 0 | 0 | 0 | 0 | <!----> | <!----> | <!----> | NA | V Kohli |\n",
       "| 1 | 1 | Kolkata Knight Riders | Royal Challengers Bangalore | 1 | 7 | BB McCullum | SC Ganguly  | P Kumar   | 0 | ... | 0 | 0 | 0 | 1 | 1 | <!----> | <!----> | <!----> | NA | V Kohli |\n",
       "| 1 | 1 | Kolkata Knight Riders | Royal Challengers Bangalore | 2 | 1 | BB McCullum | SC Ganguly  | Z Khan    | 0 | ... | 0 | 0 | 0 | 0 | 0 | <!----> | <!----> | <!----> | NA | V Kohli |\n",
       "| 1 | 1 | Kolkata Knight Riders | Royal Challengers Bangalore | 2 | 2 | BB McCullum | SC Ganguly  | Z Khan    | 0 | ... | 0 | 0 | 4 | 0 | 4 | <!----> | <!----> | <!----> | NA | V Kohli |\n",
       "| 1 | 1 | Kolkata Knight Riders | Royal Challengers Bangalore | 2 | 3 | BB McCullum | SC Ganguly  | Z Khan    | 0 | ... | 0 | 0 | 4 | 0 | 4 | <!----> | <!----> | <!----> | NA | V Kohli |\n",
       "| 1 | 1 | Kolkata Knight Riders | Royal Challengers Bangalore | 2 | 4 | BB McCullum | SC Ganguly  | Z Khan    | 0 | ... | 0 | 0 | 6 | 0 | 6 | <!----> | <!----> | <!----> | NA | V Kohli |\n",
       "| 1 | 1 | Kolkata Knight Riders | Royal Challengers Bangalore | 2 | 5 | BB McCullum | SC Ganguly  | Z Khan    | 0 | ... | 0 | 0 | 4 | 0 | 4 | <!----> | <!----> | <!----> | NA | V Kohli |\n",
       "| 1 | 1 | Kolkata Knight Riders | Royal Challengers Bangalore | 2 | 6 | BB McCullum | SC Ganguly  | Z Khan    | 0 | ... | 0 | 0 | 0 | 0 | 0 | <!----> | <!----> | <!----> | NA | V Kohli |\n",
       "| 1 | 1 | Kolkata Knight Riders | Royal Challengers Bangalore | 3 | 1 | SC Ganguly  | BB McCullum | P Kumar   | 0 | ... | 0 | 0 | 0 | 0 | 0 | <!----> | <!----> | <!----> | NA | V Kohli |\n",
       "| 1 | 1 | Kolkata Knight Riders | Royal Challengers Bangalore | 3 | 2 | SC Ganguly  | BB McCullum | P Kumar   | 0 | ... | 0 | 0 | 0 | 0 | 0 | <!----> | <!----> | <!----> | NA | V Kohli |\n",
       "| 1 | 1 | Kolkata Knight Riders | Royal Challengers Bangalore | 3 | 3 | SC Ganguly  | BB McCullum | P Kumar   | 0 | ... | 0 | 0 | 0 | 1 | 1 | <!----> | <!----> | <!----> | NA | V Kohli |\n",
       "| 1 | 1 | Kolkata Knight Riders | Royal Challengers Bangalore | 3 | 4 | BB McCullum | SC Ganguly  | P Kumar   | 0 | ... | 0 | 0 | 4 | 0 | 4 | <!----> | <!----> | <!----> | NA | V Kohli |\n",
       "| 1 | 1 | Kolkata Knight Riders | Royal Challengers Bangalore | 3 | 5 | BB McCullum | SC Ganguly  | P Kumar   | 0 | ... | 0 | 0 | 1 | 0 | 1 | <!----> | <!----> | <!----> | NA | V Kohli |\n",
       "| 1 | 1 | Kolkata Knight Riders | Royal Challengers Bangalore | 3 | 6 | SC Ganguly  | BB McCullum | P Kumar   | 0 | ... | 0 | 0 | 0 | 0 | 0 | <!----> | <!----> | <!----> | NA | V Kohli |\n",
       "| 1 | 1 | Kolkata Knight Riders | Royal Challengers Bangalore | 4 | 1 | BB McCullum | SC Ganguly  | AA Noffke | 0 | ... | 0 | 0 | 0 | 5 | 5 | <!----> | <!----> | <!----> | NA | V Kohli |\n",
       "| 1 | 1 | Kolkata Knight Riders | Royal Challengers Bangalore | 4 | 2 | BB McCullum | SC Ganguly  | AA Noffke | 0 | ... | 0 | 0 | 6 | 0 | 6 | <!----> | <!----> | <!----> | NA | V Kohli |\n",
       "| 1 | 1 | Kolkata Knight Riders | Royal Challengers Bangalore | 4 | 3 | BB McCullum | SC Ganguly  | AA Noffke | 0 | ... | 0 | 0 | 0 | 1 | 1 | <!----> | <!----> | <!----> | NA | V Kohli |\n",
       "| 1 | 1 | Kolkata Knight Riders | Royal Challengers Bangalore | 4 | 4 | SC Ganguly  | BB McCullum | AA Noffke | 0 | ... | 0 | 0 | 4 | 0 | 4 | <!----> | <!----> | <!----> | NA | V Kohli |\n",
       "| 1 | 1 | Kolkata Knight Riders | Royal Challengers Bangalore | 4 | 5 | SC Ganguly  | BB McCullum | AA Noffke | 0 | ... | 0 | 0 | 0 | 0 | 0 | <!----> | <!----> | <!----> | NA | V Kohli |\n",
       "| 1 | 1 | Kolkata Knight Riders | Royal Challengers Bangalore | 4 | 6 | SC Ganguly  | BB McCullum | AA Noffke | 0 | ... | 0 | 0 | 1 | 0 | 1 | <!----> | <!----> | <!----> | NA | V Kohli |\n",
       "| 1 | 1 | Kolkata Knight Riders | Royal Challengers Bangalore | 4 | 7 | BB McCullum | SC Ganguly  | AA Noffke | 0 | ... | 0 | 0 | 6 | 0 | 6 | <!----> | <!----> | <!----> | NA | V Kohli |\n",
       "| 1 | 1 | Kolkata Knight Riders | Royal Challengers Bangalore | 5 | 1 | SC Ganguly  | BB McCullum | P Kumar   | 0 | ... | 0 | 0 | 4 | 0 | 4 | <!----> | <!----> | <!----> | NA | V Kohli |\n",
       "| 1 | 1 | Kolkata Knight Riders | Royal Challengers Bangalore | 5 | 2 | SC Ganguly  | BB McCullum | P Kumar   | 0 | ... | 0 | 0 | 1 | 0 | 1 | <!----> | <!----> | <!----> | NA | V Kohli |\n",
       "| 1 | 1 | Kolkata Knight Riders | Royal Challengers Bangalore | 5 | 3 | BB McCullum | SC Ganguly  | P Kumar   | 0 | ... | 0 | 0 | 4 | 0 | 4 | <!----> | <!----> | <!----> | NA | V Kohli |\n",
       "| 1 | 1 | Kolkata Knight Riders | Royal Challengers Bangalore | 5 | 4 | BB McCullum | SC Ganguly  | P Kumar   | 0 | ... | 0 | 0 | 0 | 0 | 0 | <!----> | <!----> | <!----> | NA | V Kohli |\n",
       "| ... | ... | ... | ... | ... | ... | ... | ... | ... | ... | <!----> | ... | ... | ... | ... | ... | ... | ... | ... | ... | ... |\n",
       "| 577 | 2 | Royal Challengers Bangalore | Sunrisers Hyderabad | 16 | 1 | KL Rahul      | SR Watson     | BCJ Cutting       | 0 | ... | 0 | 0 | 1 | 0 | 1 | <!----> | <!----> | <!----> | NA | S Dhawan |\n",
       "| 577 | 2 | Royal Challengers Bangalore | Sunrisers Hyderabad | 16 | 2 | SR Watson     | KL Rahul      | BCJ Cutting       | 0 | ... | 0 | 0 | 1 | 0 | 1 | <!----> | <!----> | <!----> | NA | S Dhawan |\n",
       "| 577 | 2 | Royal Challengers Bangalore | Sunrisers Hyderabad | 16 | 3 | KL Rahul      | SR Watson     | BCJ Cutting       | 0 | ... | 0 | 0 | 0 | 0 | 0 | KL Rahul  | bowled  | <!----> |  1 | S Dhawan |\n",
       "| 577 | 2 | Royal Challengers Bangalore | Sunrisers Hyderabad | 16 | 4 | Sachin Baby   | SR Watson     | BCJ Cutting       | 0 | ... | 0 | 0 | 0 | 0 | 0 | <!----> | <!----> | <!----> | NA | S Dhawan |\n",
       "| 577 | 2 | Royal Challengers Bangalore | Sunrisers Hyderabad | 16 | 5 | Sachin Baby   | SR Watson     | BCJ Cutting       | 0 | ... | 0 | 0 | 1 | 0 | 1 | <!----> | <!----> | <!----> | NA | S Dhawan |\n",
       "| 577 | 2 | Royal Challengers Bangalore | Sunrisers Hyderabad | 16 | 6 | SR Watson     | Sachin Baby   | BCJ Cutting       | 0 | ... | 0 | 0 | 1 | 0 | 1 | <!----> | <!----> | <!----> | NA | S Dhawan |\n",
       "| 577 | 2 | Royal Challengers Bangalore | Sunrisers Hyderabad | 17 | 1 | SR Watson     | Sachin Baby   | Mustafizur Rahman | 0 | ... | 0 | 0 | 0 | 0 | 0 | <!----> | <!----> | <!----> | NA | S Dhawan |\n",
       "| 577 | 2 | Royal Challengers Bangalore | Sunrisers Hyderabad | 17 | 2 | SR Watson     | Sachin Baby   | Mustafizur Rahman | 0 | ... | 0 | 0 | 2 | 0 | 2 | <!----> | <!----> | <!----> | NA | S Dhawan |\n",
       "| 577 | 2 | Royal Challengers Bangalore | Sunrisers Hyderabad | 17 | 3 | SR Watson     | Sachin Baby   | Mustafizur Rahman | 0 | ... | 0 | 0 | 0 | 0 | 0 | SR Watson | caught  | MC Henriques |  1 | S Dhawan |\n",
       "| 577 | 2 | Royal Challengers Bangalore | Sunrisers Hyderabad | 17 | 4 | Sachin Baby   | STR Binny     | Mustafizur Rahman | 0 | ... | 0 | 0 | 1 | 0 | 1 | <!----> | <!----> | <!----> | NA | S Dhawan |\n",
       "| 577 | 2 | Royal Challengers Bangalore | Sunrisers Hyderabad | 17 | 5 | STR Binny     | Sachin Baby   | Mustafizur Rahman | 0 | ... | 0 | 0 | 6 | 0 | 6 | <!----> | <!----> | <!----> | NA | S Dhawan |\n",
       "| 577 | 2 | Royal Challengers Bangalore | Sunrisers Hyderabad | 17 | 6 | STR Binny     | Sachin Baby   | Mustafizur Rahman | 0 | ... | 0 | 0 | 1 | 0 | 1 | <!----> | <!----> | <!----> | NA | S Dhawan |\n",
       "| 577 | 2 | Royal Challengers Bangalore | Sunrisers Hyderabad | 18 | 1 | STR Binny     | Sachin Baby   | B Kumar           | 0 | ... | 0 | 0 | 0 | 0 | 0 | <!----> | <!----> | <!----> | NA | S Dhawan |\n",
       "| 577 | 2 | Royal Challengers Bangalore | Sunrisers Hyderabad | 18 | 2 | STR Binny     | Sachin Baby   | B Kumar           | 0 | ... | 0 | 0 | 1 | 0 | 1 | <!----> | <!----> | <!----> | NA | S Dhawan |\n",
       "| 577 | 2 | Royal Challengers Bangalore | Sunrisers Hyderabad | 18 | 3 | Sachin Baby   | STR Binny     | B Kumar           | 0 | ... | 0 | 0 | 1 | 0 | 1 | <!----> | <!----> | <!----> | NA | S Dhawan |\n",
       "| 577 | 2 | Royal Challengers Bangalore | Sunrisers Hyderabad | 18 | 4 | STR Binny     | Sachin Baby   | B Kumar           | 0 | ... | 0 | 0 | 0 | 0 | 0 | <!----> | <!----> | <!----> | NA | S Dhawan |\n",
       "| 577 | 2 | Royal Challengers Bangalore | Sunrisers Hyderabad | 18 | 5 | STR Binny     | Sachin Baby   | B Kumar           | 0 | ... | 0 | 0 | 0 | 1 | 1 | <!----> | <!----> | <!----> | NA | S Dhawan |\n",
       "| 577 | 2 | Royal Challengers Bangalore | Sunrisers Hyderabad | 18 | 6 | Sachin Baby   | STR Binny     | B Kumar           | 0 | ... | 0 | 0 | 4 | 0 | 4 | <!----> | <!----> | <!----> | NA | S Dhawan |\n",
       "| 577 | 2 | Royal Challengers Bangalore | Sunrisers Hyderabad | 19 | 1 | STR Binny     | Sachin Baby   | Mustafizur Rahman | 0 | ... | 0 | 0 | 1 | 0 | 1 | STR Binny | run out | DJ Hooda     |  1 | S Dhawan |\n",
       "| 577 | 2 | Royal Challengers Bangalore | Sunrisers Hyderabad | 19 | 2 | CJ Jordan     | Sachin Baby   | Mustafizur Rahman | 0 | ... | 0 | 0 | 2 | 0 | 2 | <!----> | <!----> | <!----> | NA | S Dhawan |\n",
       "| 577 | 2 | Royal Challengers Bangalore | Sunrisers Hyderabad | 19 | 3 | CJ Jordan     | Sachin Baby   | Mustafizur Rahman | 0 | ... | 0 | 0 | 0 | 0 | 0 | <!----> | <!----> | <!----> | NA | S Dhawan |\n",
       "| 577 | 2 | Royal Challengers Bangalore | Sunrisers Hyderabad | 19 | 4 | CJ Jordan     | Sachin Baby   | Mustafizur Rahman | 0 | ... | 0 | 0 | 0 | 1 | 1 | <!----> | <!----> | <!----> | NA | S Dhawan |\n",
       "| 577 | 2 | Royal Challengers Bangalore | Sunrisers Hyderabad | 19 | 5 | Sachin Baby   | CJ Jordan     | Mustafizur Rahman | 0 | ... | 0 | 0 | 2 | 0 | 2 | <!----> | <!----> | <!----> | NA | S Dhawan |\n",
       "| 577 | 2 | Royal Challengers Bangalore | Sunrisers Hyderabad | 19 | 6 | Sachin Baby   | CJ Jordan     | Mustafizur Rahman | 0 | ... | 0 | 0 | 6 | 0 | 6 | <!----> | <!----> | <!----> | NA | S Dhawan |\n",
       "| 577 | 2 | Royal Challengers Bangalore | Sunrisers Hyderabad | 20 | 1 | CJ Jordan     | Sachin Baby   | B Kumar           | 0 | ... | 0 | 0 | 1 | 0 | 1 | <!----> | <!----> | <!----> | NA | S Dhawan |\n",
       "| 577 | 2 | Royal Challengers Bangalore | Sunrisers Hyderabad | 20 | 2 | Sachin Baby   | CJ Jordan     | B Kumar           | 0 | ... | 0 | 0 | 2 | 0 | 2 | <!----> | <!----> | <!----> | NA | S Dhawan |\n",
       "| 577 | 2 | Royal Challengers Bangalore | Sunrisers Hyderabad | 20 | 3 | Sachin Baby   | CJ Jordan     | B Kumar           | 0 | ... | 0 | 0 | 0 | 0 | 0 | CJ Jordan | run out | NV Ojha      |  1 | S Dhawan |\n",
       "| 577 | 2 | Royal Challengers Bangalore | Sunrisers Hyderabad | 20 | 4 | Iqbal Abdulla | Sachin Baby   | B Kumar           | 0 | ... | 0 | 0 | 0 | 1 | 1 | <!----> | <!----> | <!----> | NA | S Dhawan |\n",
       "| 577 | 2 | Royal Challengers Bangalore | Sunrisers Hyderabad | 20 | 5 | Sachin Baby   | Iqbal Abdulla | B Kumar           | 0 | ... | 0 | 0 | 1 | 0 | 1 | <!----> | <!----> | <!----> | NA | S Dhawan |\n",
       "| 577 | 2 | Royal Challengers Bangalore | Sunrisers Hyderabad | 20 | 6 | Iqbal Abdulla | Sachin Baby   | B Kumar           | 0 | ... | 0 | 0 | 4 | 0 | 4 | <!----> | <!----> | <!----> | NA | S Dhawan |\n",
       "\n"
      ],
      "text/plain": [
       "        match_id inning batting_team                bowling_team               \n",
       "1       1        1      Kolkata Knight Riders       Royal Challengers Bangalore\n",
       "2       1        1      Kolkata Knight Riders       Royal Challengers Bangalore\n",
       "3       1        1      Kolkata Knight Riders       Royal Challengers Bangalore\n",
       "4       1        1      Kolkata Knight Riders       Royal Challengers Bangalore\n",
       "5       1        1      Kolkata Knight Riders       Royal Challengers Bangalore\n",
       "6       1        1      Kolkata Knight Riders       Royal Challengers Bangalore\n",
       "7       1        1      Kolkata Knight Riders       Royal Challengers Bangalore\n",
       "8       1        1      Kolkata Knight Riders       Royal Challengers Bangalore\n",
       "9       1        1      Kolkata Knight Riders       Royal Challengers Bangalore\n",
       "10      1        1      Kolkata Knight Riders       Royal Challengers Bangalore\n",
       "11      1        1      Kolkata Knight Riders       Royal Challengers Bangalore\n",
       "12      1        1      Kolkata Knight Riders       Royal Challengers Bangalore\n",
       "13      1        1      Kolkata Knight Riders       Royal Challengers Bangalore\n",
       "14      1        1      Kolkata Knight Riders       Royal Challengers Bangalore\n",
       "15      1        1      Kolkata Knight Riders       Royal Challengers Bangalore\n",
       "16      1        1      Kolkata Knight Riders       Royal Challengers Bangalore\n",
       "17      1        1      Kolkata Knight Riders       Royal Challengers Bangalore\n",
       "18      1        1      Kolkata Knight Riders       Royal Challengers Bangalore\n",
       "19      1        1      Kolkata Knight Riders       Royal Challengers Bangalore\n",
       "20      1        1      Kolkata Knight Riders       Royal Challengers Bangalore\n",
       "21      1        1      Kolkata Knight Riders       Royal Challengers Bangalore\n",
       "22      1        1      Kolkata Knight Riders       Royal Challengers Bangalore\n",
       "23      1        1      Kolkata Knight Riders       Royal Challengers Bangalore\n",
       "24      1        1      Kolkata Knight Riders       Royal Challengers Bangalore\n",
       "25      1        1      Kolkata Knight Riders       Royal Challengers Bangalore\n",
       "26      1        1      Kolkata Knight Riders       Royal Challengers Bangalore\n",
       "27      1        1      Kolkata Knight Riders       Royal Challengers Bangalore\n",
       "28      1        1      Kolkata Knight Riders       Royal Challengers Bangalore\n",
       "29      1        1      Kolkata Knight Riders       Royal Challengers Bangalore\n",
       "30      1        1      Kolkata Knight Riders       Royal Challengers Bangalore\n",
       "...     ...      ...    ...                         ...                        \n",
       "1365951 577      2      Royal Challengers Bangalore Sunrisers Hyderabad        \n",
       "1365952 577      2      Royal Challengers Bangalore Sunrisers Hyderabad        \n",
       "1365953 577      2      Royal Challengers Bangalore Sunrisers Hyderabad        \n",
       "1365954 577      2      Royal Challengers Bangalore Sunrisers Hyderabad        \n",
       "1365955 577      2      Royal Challengers Bangalore Sunrisers Hyderabad        \n",
       "1365956 577      2      Royal Challengers Bangalore Sunrisers Hyderabad        \n",
       "1365957 577      2      Royal Challengers Bangalore Sunrisers Hyderabad        \n",
       "1365958 577      2      Royal Challengers Bangalore Sunrisers Hyderabad        \n",
       "1365959 577      2      Royal Challengers Bangalore Sunrisers Hyderabad        \n",
       "1365960 577      2      Royal Challengers Bangalore Sunrisers Hyderabad        \n",
       "1365961 577      2      Royal Challengers Bangalore Sunrisers Hyderabad        \n",
       "1365962 577      2      Royal Challengers Bangalore Sunrisers Hyderabad        \n",
       "1365963 577      2      Royal Challengers Bangalore Sunrisers Hyderabad        \n",
       "1365964 577      2      Royal Challengers Bangalore Sunrisers Hyderabad        \n",
       "1365965 577      2      Royal Challengers Bangalore Sunrisers Hyderabad        \n",
       "1365966 577      2      Royal Challengers Bangalore Sunrisers Hyderabad        \n",
       "1365967 577      2      Royal Challengers Bangalore Sunrisers Hyderabad        \n",
       "1365968 577      2      Royal Challengers Bangalore Sunrisers Hyderabad        \n",
       "1365969 577      2      Royal Challengers Bangalore Sunrisers Hyderabad        \n",
       "1365970 577      2      Royal Challengers Bangalore Sunrisers Hyderabad        \n",
       "1365971 577      2      Royal Challengers Bangalore Sunrisers Hyderabad        \n",
       "1365972 577      2      Royal Challengers Bangalore Sunrisers Hyderabad        \n",
       "1365973 577      2      Royal Challengers Bangalore Sunrisers Hyderabad        \n",
       "1365974 577      2      Royal Challengers Bangalore Sunrisers Hyderabad        \n",
       "1365975 577      2      Royal Challengers Bangalore Sunrisers Hyderabad        \n",
       "1365976 577      2      Royal Challengers Bangalore Sunrisers Hyderabad        \n",
       "1365977 577      2      Royal Challengers Bangalore Sunrisers Hyderabad        \n",
       "1365978 577      2      Royal Challengers Bangalore Sunrisers Hyderabad        \n",
       "1365979 577      2      Royal Challengers Bangalore Sunrisers Hyderabad        \n",
       "1365980 577      2      Royal Challengers Bangalore Sunrisers Hyderabad        \n",
       "        over ball batsman       non_striker   bowler            is_super_over\n",
       "1       1    1    SC Ganguly    BB McCullum   P Kumar           0            \n",
       "2       1    2    BB McCullum   SC Ganguly    P Kumar           0            \n",
       "3       1    3    BB McCullum   SC Ganguly    P Kumar           0            \n",
       "4       1    4    BB McCullum   SC Ganguly    P Kumar           0            \n",
       "5       1    5    BB McCullum   SC Ganguly    P Kumar           0            \n",
       "6       1    6    BB McCullum   SC Ganguly    P Kumar           0            \n",
       "7       1    7    BB McCullum   SC Ganguly    P Kumar           0            \n",
       "8       2    1    BB McCullum   SC Ganguly    Z Khan            0            \n",
       "9       2    2    BB McCullum   SC Ganguly    Z Khan            0            \n",
       "10      2    3    BB McCullum   SC Ganguly    Z Khan            0            \n",
       "11      2    4    BB McCullum   SC Ganguly    Z Khan            0            \n",
       "12      2    5    BB McCullum   SC Ganguly    Z Khan            0            \n",
       "13      2    6    BB McCullum   SC Ganguly    Z Khan            0            \n",
       "14      3    1    SC Ganguly    BB McCullum   P Kumar           0            \n",
       "15      3    2    SC Ganguly    BB McCullum   P Kumar           0            \n",
       "16      3    3    SC Ganguly    BB McCullum   P Kumar           0            \n",
       "17      3    4    BB McCullum   SC Ganguly    P Kumar           0            \n",
       "18      3    5    BB McCullum   SC Ganguly    P Kumar           0            \n",
       "19      3    6    SC Ganguly    BB McCullum   P Kumar           0            \n",
       "20      4    1    BB McCullum   SC Ganguly    AA Noffke         0            \n",
       "21      4    2    BB McCullum   SC Ganguly    AA Noffke         0            \n",
       "22      4    3    BB McCullum   SC Ganguly    AA Noffke         0            \n",
       "23      4    4    SC Ganguly    BB McCullum   AA Noffke         0            \n",
       "24      4    5    SC Ganguly    BB McCullum   AA Noffke         0            \n",
       "25      4    6    SC Ganguly    BB McCullum   AA Noffke         0            \n",
       "26      4    7    BB McCullum   SC Ganguly    AA Noffke         0            \n",
       "27      5    1    SC Ganguly    BB McCullum   P Kumar           0            \n",
       "28      5    2    SC Ganguly    BB McCullum   P Kumar           0            \n",
       "29      5    3    BB McCullum   SC Ganguly    P Kumar           0            \n",
       "30      5    4    BB McCullum   SC Ganguly    P Kumar           0            \n",
       "...     ...  ...  ...           ...           ...               ...          \n",
       "1365951 16   1    KL Rahul      SR Watson     BCJ Cutting       0            \n",
       "1365952 16   2    SR Watson     KL Rahul      BCJ Cutting       0            \n",
       "1365953 16   3    KL Rahul      SR Watson     BCJ Cutting       0            \n",
       "1365954 16   4    Sachin Baby   SR Watson     BCJ Cutting       0            \n",
       "1365955 16   5    Sachin Baby   SR Watson     BCJ Cutting       0            \n",
       "1365956 16   6    SR Watson     Sachin Baby   BCJ Cutting       0            \n",
       "1365957 17   1    SR Watson     Sachin Baby   Mustafizur Rahman 0            \n",
       "1365958 17   2    SR Watson     Sachin Baby   Mustafizur Rahman 0            \n",
       "1365959 17   3    SR Watson     Sachin Baby   Mustafizur Rahman 0            \n",
       "1365960 17   4    Sachin Baby   STR Binny     Mustafizur Rahman 0            \n",
       "1365961 17   5    STR Binny     Sachin Baby   Mustafizur Rahman 0            \n",
       "1365962 17   6    STR Binny     Sachin Baby   Mustafizur Rahman 0            \n",
       "1365963 18   1    STR Binny     Sachin Baby   B Kumar           0            \n",
       "1365964 18   2    STR Binny     Sachin Baby   B Kumar           0            \n",
       "1365965 18   3    Sachin Baby   STR Binny     B Kumar           0            \n",
       "1365966 18   4    STR Binny     Sachin Baby   B Kumar           0            \n",
       "1365967 18   5    STR Binny     Sachin Baby   B Kumar           0            \n",
       "1365968 18   6    Sachin Baby   STR Binny     B Kumar           0            \n",
       "1365969 19   1    STR Binny     Sachin Baby   Mustafizur Rahman 0            \n",
       "1365970 19   2    CJ Jordan     Sachin Baby   Mustafizur Rahman 0            \n",
       "1365971 19   3    CJ Jordan     Sachin Baby   Mustafizur Rahman 0            \n",
       "1365972 19   4    CJ Jordan     Sachin Baby   Mustafizur Rahman 0            \n",
       "1365973 19   5    Sachin Baby   CJ Jordan     Mustafizur Rahman 0            \n",
       "1365974 19   6    Sachin Baby   CJ Jordan     Mustafizur Rahman 0            \n",
       "1365975 20   1    CJ Jordan     Sachin Baby   B Kumar           0            \n",
       "1365976 20   2    Sachin Baby   CJ Jordan     B Kumar           0            \n",
       "1365977 20   3    Sachin Baby   CJ Jordan     B Kumar           0            \n",
       "1365978 20   4    Iqbal Abdulla Sachin Baby   B Kumar           0            \n",
       "1365979 20   5    Sachin Baby   Iqbal Abdulla B Kumar           0            \n",
       "1365980 20   6    Iqbal Abdulla Sachin Baby   B Kumar           0            \n",
       "        ... noball_runs penalty_runs batsman_runs extra_runs total_runs\n",
       "1       ... 0           0            0            1          1         \n",
       "2       ... 0           0            0            0          0         \n",
       "3       ... 0           0            0            1          1         \n",
       "4       ... 0           0            0            0          0         \n",
       "5       ... 0           0            0            0          0         \n",
       "6       ... 0           0            0            0          0         \n",
       "7       ... 0           0            0            1          1         \n",
       "8       ... 0           0            0            0          0         \n",
       "9       ... 0           0            4            0          4         \n",
       "10      ... 0           0            4            0          4         \n",
       "11      ... 0           0            6            0          6         \n",
       "12      ... 0           0            4            0          4         \n",
       "13      ... 0           0            0            0          0         \n",
       "14      ... 0           0            0            0          0         \n",
       "15      ... 0           0            0            0          0         \n",
       "16      ... 0           0            0            1          1         \n",
       "17      ... 0           0            4            0          4         \n",
       "18      ... 0           0            1            0          1         \n",
       "19      ... 0           0            0            0          0         \n",
       "20      ... 0           0            0            5          5         \n",
       "21      ... 0           0            6            0          6         \n",
       "22      ... 0           0            0            1          1         \n",
       "23      ... 0           0            4            0          4         \n",
       "24      ... 0           0            0            0          0         \n",
       "25      ... 0           0            1            0          1         \n",
       "26      ... 0           0            6            0          6         \n",
       "27      ... 0           0            4            0          4         \n",
       "28      ... 0           0            1            0          1         \n",
       "29      ... 0           0            4            0          4         \n",
       "30      ... 0           0            0            0          0         \n",
       "...         ...         ...          ...          ...        ...       \n",
       "1365951 ... 0           0            1            0          1         \n",
       "1365952 ... 0           0            1            0          1         \n",
       "1365953 ... 0           0            0            0          0         \n",
       "1365954 ... 0           0            0            0          0         \n",
       "1365955 ... 0           0            1            0          1         \n",
       "1365956 ... 0           0            1            0          1         \n",
       "1365957 ... 0           0            0            0          0         \n",
       "1365958 ... 0           0            2            0          2         \n",
       "1365959 ... 0           0            0            0          0         \n",
       "1365960 ... 0           0            1            0          1         \n",
       "1365961 ... 0           0            6            0          6         \n",
       "1365962 ... 0           0            1            0          1         \n",
       "1365963 ... 0           0            0            0          0         \n",
       "1365964 ... 0           0            1            0          1         \n",
       "1365965 ... 0           0            1            0          1         \n",
       "1365966 ... 0           0            0            0          0         \n",
       "1365967 ... 0           0            0            1          1         \n",
       "1365968 ... 0           0            4            0          4         \n",
       "1365969 ... 0           0            1            0          1         \n",
       "1365970 ... 0           0            2            0          2         \n",
       "1365971 ... 0           0            0            0          0         \n",
       "1365972 ... 0           0            0            1          1         \n",
       "1365973 ... 0           0            2            0          2         \n",
       "1365974 ... 0           0            6            0          6         \n",
       "1365975 ... 0           0            1            0          1         \n",
       "1365976 ... 0           0            2            0          2         \n",
       "1365977 ... 0           0            0            0          0         \n",
       "1365978 ... 0           0            0            1          1         \n",
       "1365979 ... 0           0            1            0          1         \n",
       "1365980 ... 0           0            4            0          4         \n",
       "        player_dismissed dismissal_kind fielder      wickets Top_Batsman\n",
       "1                                                    NA      V Kohli    \n",
       "2                                                    NA      V Kohli    \n",
       "3                                                    NA      V Kohli    \n",
       "4                                                    NA      V Kohli    \n",
       "5                                                    NA      V Kohli    \n",
       "6                                                    NA      V Kohli    \n",
       "7                                                    NA      V Kohli    \n",
       "8                                                    NA      V Kohli    \n",
       "9                                                    NA      V Kohli    \n",
       "10                                                   NA      V Kohli    \n",
       "11                                                   NA      V Kohli    \n",
       "12                                                   NA      V Kohli    \n",
       "13                                                   NA      V Kohli    \n",
       "14                                                   NA      V Kohli    \n",
       "15                                                   NA      V Kohli    \n",
       "16                                                   NA      V Kohli    \n",
       "17                                                   NA      V Kohli    \n",
       "18                                                   NA      V Kohli    \n",
       "19                                                   NA      V Kohli    \n",
       "20                                                   NA      V Kohli    \n",
       "21                                                   NA      V Kohli    \n",
       "22                                                   NA      V Kohli    \n",
       "23                                                   NA      V Kohli    \n",
       "24                                                   NA      V Kohli    \n",
       "25                                                   NA      V Kohli    \n",
       "26                                                   NA      V Kohli    \n",
       "27                                                   NA      V Kohli    \n",
       "28                                                   NA      V Kohli    \n",
       "29                                                   NA      V Kohli    \n",
       "30                                                   NA      V Kohli    \n",
       "...     ...              ...            ...          ...     ...        \n",
       "1365951                                              NA      S Dhawan   \n",
       "1365952                                              NA      S Dhawan   \n",
       "1365953 KL Rahul         bowled                       1      S Dhawan   \n",
       "1365954                                              NA      S Dhawan   \n",
       "1365955                                              NA      S Dhawan   \n",
       "1365956                                              NA      S Dhawan   \n",
       "1365957                                              NA      S Dhawan   \n",
       "1365958                                              NA      S Dhawan   \n",
       "1365959 SR Watson        caught         MC Henriques  1      S Dhawan   \n",
       "1365960                                              NA      S Dhawan   \n",
       "1365961                                              NA      S Dhawan   \n",
       "1365962                                              NA      S Dhawan   \n",
       "1365963                                              NA      S Dhawan   \n",
       "1365964                                              NA      S Dhawan   \n",
       "1365965                                              NA      S Dhawan   \n",
       "1365966                                              NA      S Dhawan   \n",
       "1365967                                              NA      S Dhawan   \n",
       "1365968                                              NA      S Dhawan   \n",
       "1365969 STR Binny        run out        DJ Hooda      1      S Dhawan   \n",
       "1365970                                              NA      S Dhawan   \n",
       "1365971                                              NA      S Dhawan   \n",
       "1365972                                              NA      S Dhawan   \n",
       "1365973                                              NA      S Dhawan   \n",
       "1365974                                              NA      S Dhawan   \n",
       "1365975                                              NA      S Dhawan   \n",
       "1365976                                              NA      S Dhawan   \n",
       "1365977 CJ Jordan        run out        NV Ojha       1      S Dhawan   \n",
       "1365978                                              NA      S Dhawan   \n",
       "1365979                                              NA      S Dhawan   \n",
       "1365980                                              NA      S Dhawan   "
      ]
     },
     "metadata": {},
     "output_type": "display_data"
    }
   ],
   "source": [
    "top_10 <- rename(top_10, Top_Batsman = batsman)\n",
    "full <- merge(x=data, y=top_10)"
   ]
  },
  {
   "cell_type": "code",
   "execution_count": 78,
   "metadata": {
    "collapsed": true,
    "jupyter": {
     "outputs_hidden": true
    }
   },
   "outputs": [
    {
     "data": {
      "text/html": [
       "<ol class=list-inline>\n",
       "\t<li>'bowler'</li>\n",
       "\t<li>'batsman'</li>\n",
       "\t<li>'player_dismissed'</li>\n",
       "\t<li>'playerdismissed'</li>\n",
       "</ol>\n"
      ],
      "text/latex": [
       "\\begin{enumerate*}\n",
       "\\item 'bowler'\n",
       "\\item 'batsman'\n",
       "\\item 'player\\_dismissed'\n",
       "\\item 'playerdismissed'\n",
       "\\end{enumerate*}\n"
      ],
      "text/markdown": [
       "1. 'bowler'\n",
       "2. 'batsman'\n",
       "3. 'player_dismissed'\n",
       "4. 'playerdismissed'\n",
       "\n",
       "\n"
      ],
      "text/plain": [
       "[1] \"bowler\"           \"batsman\"          \"player_dismissed\" \"playerdismissed\" "
      ]
     },
     "metadata": {},
     "output_type": "display_data"
    }
   ],
   "source": [
    "wickets_h <- data%>%\n",
    "        left_join(matches,by=c(\"match_id\"=\"Match_SK\"))%>%\n",
    "  left_join(teams,by=c(\"bowling_team\"=\"team\"))%>%\n",
    "  filter(dismissal_kind!=\"run out\")%>%\n",
    "select(bowler,batsman,wickets,player_dismissed)%>%\n",
    "group_by(bowler,batsman,player_dismissed)%>%\n",
    "summarize(playerdismissed=sum(wickets,na.rm=TRUE))%>%\n",
    "filter(player_dismissed!=\"\")%>%\n",
    "filter(batsman==\"V Kohli\", max(playerdismissed))%>%\n",
    "arrange(desc(bowler))\n",
    "\n",
    "colnames(wickets_h) "
   ]
  },
  {
   "cell_type": "code",
   "execution_count": 79,
   "metadata": {
    "collapsed": true,
    "jupyter": {
     "outputs_hidden": true
    }
   },
   "outputs": [
    {
     "data": {
      "text/html": [
       "<table>\n",
       "<caption>A grouped_df: 67 × 4</caption>\n",
       "<thead>\n",
       "\t<tr><th scope=col>bowler</th><th scope=col>batsman</th><th scope=col>player_dismissed</th><th scope=col>playerdismissed</th></tr>\n",
       "\t<tr><th scope=col>&lt;fct&gt;</th><th scope=col>&lt;fct&gt;</th><th scope=col>&lt;fct&gt;</th><th scope=col>&lt;int&gt;</th></tr>\n",
       "</thead>\n",
       "<tbody>\n",
       "\t<tr><td>Z Khan           </td><td>V Kohli</td><td>V Kohli</td><td>1</td></tr>\n",
       "\t<tr><td>WPUJC Vaas       </td><td>V Kohli</td><td>V Kohli</td><td>1</td></tr>\n",
       "\t<tr><td>VRV Singh        </td><td>V Kohli</td><td>V Kohli</td><td>1</td></tr>\n",
       "\t<tr><td>UT Yadav         </td><td>V Kohli</td><td>V Kohli</td><td>1</td></tr>\n",
       "\t<tr><td>TG Southee       </td><td>V Kohli</td><td>V Kohli</td><td>1</td></tr>\n",
       "\t<tr><td>SR Watson        </td><td>V Kohli</td><td>V Kohli</td><td>1</td></tr>\n",
       "\t<tr><td>SP Narine        </td><td>V Kohli</td><td>V Kohli</td><td>2</td></tr>\n",
       "\t<tr><td>Sohail Tanvir    </td><td>V Kohli</td><td>V Kohli</td><td>1</td></tr>\n",
       "\t<tr><td>SK Warne         </td><td>V Kohli</td><td>V Kohli</td><td>1</td></tr>\n",
       "\t<tr><td>SK Trivedi       </td><td>V Kohli</td><td>V Kohli</td><td>2</td></tr>\n",
       "\t<tr><td>SK Raina         </td><td>V Kohli</td><td>V Kohli</td><td>1</td></tr>\n",
       "\t<tr><td>SB Jakati        </td><td>V Kohli</td><td>V Kohli</td><td>2</td></tr>\n",
       "\t<tr><td>Sandeep Sharma   </td><td>V Kohli</td><td>V Kohli</td><td>4</td></tr>\n",
       "\t<tr><td>RS Bopara        </td><td>V Kohli</td><td>V Kohli</td><td>1</td></tr>\n",
       "\t<tr><td>RP Singh         </td><td>V Kohli</td><td>V Kohli</td><td>2</td></tr>\n",
       "\t<tr><td>RJ Harris        </td><td>V Kohli</td><td>V Kohli</td><td>2</td></tr>\n",
       "\t<tr><td>RA Jadeja        </td><td>V Kohli</td><td>V Kohli</td><td>2</td></tr>\n",
       "\t<tr><td>R Vinay Kumar    </td><td>V Kohli</td><td>V Kohli</td><td>1</td></tr>\n",
       "\t<tr><td>R Sharma         </td><td>V Kohli</td><td>V Kohli</td><td>1</td></tr>\n",
       "\t<tr><td>PV Tambe         </td><td>V Kohli</td><td>V Kohli</td><td>1</td></tr>\n",
       "\t<tr><td>PP Ojha          </td><td>V Kohli</td><td>V Kohli</td><td>1</td></tr>\n",
       "\t<tr><td>PP Chawla        </td><td>V Kohli</td><td>V Kohli</td><td>3</td></tr>\n",
       "\t<tr><td>Pankaj Singh     </td><td>V Kohli</td><td>V Kohli</td><td>1</td></tr>\n",
       "\t<tr><td>P Suyal          </td><td>V Kohli</td><td>V Kohli</td><td>1</td></tr>\n",
       "\t<tr><td>P Kumar          </td><td>V Kohli</td><td>V Kohli</td><td>1</td></tr>\n",
       "\t<tr><td>P Awana          </td><td>V Kohli</td><td>V Kohli</td><td>2</td></tr>\n",
       "\t<tr><td>NLTC Perera      </td><td>V Kohli</td><td>V Kohli</td><td>1</td></tr>\n",
       "\t<tr><td>Mustafizur Rahman</td><td>V Kohli</td><td>V Kohli</td><td>1</td></tr>\n",
       "\t<tr><td>MS Gony          </td><td>V Kohli</td><td>V Kohli</td><td>1</td></tr>\n",
       "\t<tr><td>Mohammed Shami   </td><td>V Kohli</td><td>V Kohli</td><td>1</td></tr>\n",
       "\t<tr><td>...</td><td>...</td><td>...</td><td>...</td></tr>\n",
       "\t<tr><td>KW Richardson  </td><td>V Kohli</td><td>V Kohli</td><td>1</td></tr>\n",
       "\t<tr><td>KH Pandya      </td><td>V Kohli</td><td>V Kohli</td><td>1</td></tr>\n",
       "\t<tr><td>KC Cariappa    </td><td>V Kohli</td><td>V Kohli</td><td>1</td></tr>\n",
       "\t<tr><td>KA Pollard     </td><td>V Kohli</td><td>V Kohli</td><td>3</td></tr>\n",
       "\t<tr><td>JP Faulkner    </td><td>V Kohli</td><td>V Kohli</td><td>1</td></tr>\n",
       "\t<tr><td>Joginder Sharma</td><td>V Kohli</td><td>V Kohli</td><td>1</td></tr>\n",
       "\t<tr><td>JJ Bumrah      </td><td>V Kohli</td><td>V Kohli</td><td>1</td></tr>\n",
       "\t<tr><td>JH Kallis      </td><td>V Kohli</td><td>V Kohli</td><td>3</td></tr>\n",
       "\t<tr><td>JA Morkel      </td><td>V Kohli</td><td>V Kohli</td><td>2</td></tr>\n",
       "\t<tr><td>IK Pathan      </td><td>V Kohli</td><td>V Kohli</td><td>3</td></tr>\n",
       "\t<tr><td>DS Kulkarni    </td><td>V Kohli</td><td>V Kohli</td><td>3</td></tr>\n",
       "\t<tr><td>DE Bollinger   </td><td>V Kohli</td><td>V Kohli</td><td>1</td></tr>\n",
       "\t<tr><td>DAJ Bracewell  </td><td>V Kohli</td><td>V Kohli</td><td>1</td></tr>\n",
       "\t<tr><td>CH Morris      </td><td>V Kohli</td><td>V Kohli</td><td>1</td></tr>\n",
       "\t<tr><td>C Nanda        </td><td>V Kohli</td><td>V Kohli</td><td>1</td></tr>\n",
       "\t<tr><td>BJ Hodge       </td><td>V Kohli</td><td>V Kohli</td><td>1</td></tr>\n",
       "\t<tr><td>Bipul Sharma   </td><td>V Kohli</td><td>V Kohli</td><td>1</td></tr>\n",
       "\t<tr><td>BB Sran        </td><td>V Kohli</td><td>V Kohli</td><td>1</td></tr>\n",
       "\t<tr><td>B Kumar        </td><td>V Kohli</td><td>V Kohli</td><td>2</td></tr>\n",
       "\t<tr><td>Azhar Mahmood  </td><td>V Kohli</td><td>V Kohli</td><td>1</td></tr>\n",
       "\t<tr><td>Anureet Singh  </td><td>V Kohli</td><td>V Kohli</td><td>1</td></tr>\n",
       "\t<tr><td>AN Ahmed       </td><td>V Kohli</td><td>V Kohli</td><td>1</td></tr>\n",
       "\t<tr><td>AD Russell     </td><td>V Kohli</td><td>V Kohli</td><td>1</td></tr>\n",
       "\t<tr><td>AD Mathews     </td><td>V Kohli</td><td>V Kohli</td><td>1</td></tr>\n",
       "\t<tr><td>AC Thomas      </td><td>V Kohli</td><td>V Kohli</td><td>1</td></tr>\n",
       "\t<tr><td>AB Dinda       </td><td>V Kohli</td><td>V Kohli</td><td>2</td></tr>\n",
       "\t<tr><td>A Symonds      </td><td>V Kohli</td><td>V Kohli</td><td>1</td></tr>\n",
       "\t<tr><td>A Nehra        </td><td>V Kohli</td><td>V Kohli</td><td>6</td></tr>\n",
       "\t<tr><td>A Mishra       </td><td>V Kohli</td><td>V Kohli</td><td>1</td></tr>\n",
       "\t<tr><td>A Ashish Reddy </td><td>V Kohli</td><td>V Kohli</td><td>2</td></tr>\n",
       "</tbody>\n",
       "</table>\n"
      ],
      "text/latex": [
       "A grouped_df: 67 × 4\n",
       "\\begin{tabular}{r|llll}\n",
       " bowler & batsman & player\\_dismissed & playerdismissed\\\\\n",
       " <fct> & <fct> & <fct> & <int>\\\\\n",
       "\\hline\n",
       "\t Z Khan            & V Kohli & V Kohli & 1\\\\\n",
       "\t WPUJC Vaas        & V Kohli & V Kohli & 1\\\\\n",
       "\t VRV Singh         & V Kohli & V Kohli & 1\\\\\n",
       "\t UT Yadav          & V Kohli & V Kohli & 1\\\\\n",
       "\t TG Southee        & V Kohli & V Kohli & 1\\\\\n",
       "\t SR Watson         & V Kohli & V Kohli & 1\\\\\n",
       "\t SP Narine         & V Kohli & V Kohli & 2\\\\\n",
       "\t Sohail Tanvir     & V Kohli & V Kohli & 1\\\\\n",
       "\t SK Warne          & V Kohli & V Kohli & 1\\\\\n",
       "\t SK Trivedi        & V Kohli & V Kohli & 2\\\\\n",
       "\t SK Raina          & V Kohli & V Kohli & 1\\\\\n",
       "\t SB Jakati         & V Kohli & V Kohli & 2\\\\\n",
       "\t Sandeep Sharma    & V Kohli & V Kohli & 4\\\\\n",
       "\t RS Bopara         & V Kohli & V Kohli & 1\\\\\n",
       "\t RP Singh          & V Kohli & V Kohli & 2\\\\\n",
       "\t RJ Harris         & V Kohli & V Kohli & 2\\\\\n",
       "\t RA Jadeja         & V Kohli & V Kohli & 2\\\\\n",
       "\t R Vinay Kumar     & V Kohli & V Kohli & 1\\\\\n",
       "\t R Sharma          & V Kohli & V Kohli & 1\\\\\n",
       "\t PV Tambe          & V Kohli & V Kohli & 1\\\\\n",
       "\t PP Ojha           & V Kohli & V Kohli & 1\\\\\n",
       "\t PP Chawla         & V Kohli & V Kohli & 3\\\\\n",
       "\t Pankaj Singh      & V Kohli & V Kohli & 1\\\\\n",
       "\t P Suyal           & V Kohli & V Kohli & 1\\\\\n",
       "\t P Kumar           & V Kohli & V Kohli & 1\\\\\n",
       "\t P Awana           & V Kohli & V Kohli & 2\\\\\n",
       "\t NLTC Perera       & V Kohli & V Kohli & 1\\\\\n",
       "\t Mustafizur Rahman & V Kohli & V Kohli & 1\\\\\n",
       "\t MS Gony           & V Kohli & V Kohli & 1\\\\\n",
       "\t Mohammed Shami    & V Kohli & V Kohli & 1\\\\\n",
       "\t ... & ... & ... & ...\\\\\n",
       "\t KW Richardson   & V Kohli & V Kohli & 1\\\\\n",
       "\t KH Pandya       & V Kohli & V Kohli & 1\\\\\n",
       "\t KC Cariappa     & V Kohli & V Kohli & 1\\\\\n",
       "\t KA Pollard      & V Kohli & V Kohli & 3\\\\\n",
       "\t JP Faulkner     & V Kohli & V Kohli & 1\\\\\n",
       "\t Joginder Sharma & V Kohli & V Kohli & 1\\\\\n",
       "\t JJ Bumrah       & V Kohli & V Kohli & 1\\\\\n",
       "\t JH Kallis       & V Kohli & V Kohli & 3\\\\\n",
       "\t JA Morkel       & V Kohli & V Kohli & 2\\\\\n",
       "\t IK Pathan       & V Kohli & V Kohli & 3\\\\\n",
       "\t DS Kulkarni     & V Kohli & V Kohli & 3\\\\\n",
       "\t DE Bollinger    & V Kohli & V Kohli & 1\\\\\n",
       "\t DAJ Bracewell   & V Kohli & V Kohli & 1\\\\\n",
       "\t CH Morris       & V Kohli & V Kohli & 1\\\\\n",
       "\t C Nanda         & V Kohli & V Kohli & 1\\\\\n",
       "\t BJ Hodge        & V Kohli & V Kohli & 1\\\\\n",
       "\t Bipul Sharma    & V Kohli & V Kohli & 1\\\\\n",
       "\t BB Sran         & V Kohli & V Kohli & 1\\\\\n",
       "\t B Kumar         & V Kohli & V Kohli & 2\\\\\n",
       "\t Azhar Mahmood   & V Kohli & V Kohli & 1\\\\\n",
       "\t Anureet Singh   & V Kohli & V Kohli & 1\\\\\n",
       "\t AN Ahmed        & V Kohli & V Kohli & 1\\\\\n",
       "\t AD Russell      & V Kohli & V Kohli & 1\\\\\n",
       "\t AD Mathews      & V Kohli & V Kohli & 1\\\\\n",
       "\t AC Thomas       & V Kohli & V Kohli & 1\\\\\n",
       "\t AB Dinda        & V Kohli & V Kohli & 2\\\\\n",
       "\t A Symonds       & V Kohli & V Kohli & 1\\\\\n",
       "\t A Nehra         & V Kohli & V Kohli & 6\\\\\n",
       "\t A Mishra        & V Kohli & V Kohli & 1\\\\\n",
       "\t A Ashish Reddy  & V Kohli & V Kohli & 2\\\\\n",
       "\\end{tabular}\n"
      ],
      "text/markdown": [
       "\n",
       "A grouped_df: 67 × 4\n",
       "\n",
       "| bowler &lt;fct&gt; | batsman &lt;fct&gt; | player_dismissed &lt;fct&gt; | playerdismissed &lt;int&gt; |\n",
       "|---|---|---|---|\n",
       "| Z Khan            | V Kohli | V Kohli | 1 |\n",
       "| WPUJC Vaas        | V Kohli | V Kohli | 1 |\n",
       "| VRV Singh         | V Kohli | V Kohli | 1 |\n",
       "| UT Yadav          | V Kohli | V Kohli | 1 |\n",
       "| TG Southee        | V Kohli | V Kohli | 1 |\n",
       "| SR Watson         | V Kohli | V Kohli | 1 |\n",
       "| SP Narine         | V Kohli | V Kohli | 2 |\n",
       "| Sohail Tanvir     | V Kohli | V Kohli | 1 |\n",
       "| SK Warne          | V Kohli | V Kohli | 1 |\n",
       "| SK Trivedi        | V Kohli | V Kohli | 2 |\n",
       "| SK Raina          | V Kohli | V Kohli | 1 |\n",
       "| SB Jakati         | V Kohli | V Kohli | 2 |\n",
       "| Sandeep Sharma    | V Kohli | V Kohli | 4 |\n",
       "| RS Bopara         | V Kohli | V Kohli | 1 |\n",
       "| RP Singh          | V Kohli | V Kohli | 2 |\n",
       "| RJ Harris         | V Kohli | V Kohli | 2 |\n",
       "| RA Jadeja         | V Kohli | V Kohli | 2 |\n",
       "| R Vinay Kumar     | V Kohli | V Kohli | 1 |\n",
       "| R Sharma          | V Kohli | V Kohli | 1 |\n",
       "| PV Tambe          | V Kohli | V Kohli | 1 |\n",
       "| PP Ojha           | V Kohli | V Kohli | 1 |\n",
       "| PP Chawla         | V Kohli | V Kohli | 3 |\n",
       "| Pankaj Singh      | V Kohli | V Kohli | 1 |\n",
       "| P Suyal           | V Kohli | V Kohli | 1 |\n",
       "| P Kumar           | V Kohli | V Kohli | 1 |\n",
       "| P Awana           | V Kohli | V Kohli | 2 |\n",
       "| NLTC Perera       | V Kohli | V Kohli | 1 |\n",
       "| Mustafizur Rahman | V Kohli | V Kohli | 1 |\n",
       "| MS Gony           | V Kohli | V Kohli | 1 |\n",
       "| Mohammed Shami    | V Kohli | V Kohli | 1 |\n",
       "| ... | ... | ... | ... |\n",
       "| KW Richardson   | V Kohli | V Kohli | 1 |\n",
       "| KH Pandya       | V Kohli | V Kohli | 1 |\n",
       "| KC Cariappa     | V Kohli | V Kohli | 1 |\n",
       "| KA Pollard      | V Kohli | V Kohli | 3 |\n",
       "| JP Faulkner     | V Kohli | V Kohli | 1 |\n",
       "| Joginder Sharma | V Kohli | V Kohli | 1 |\n",
       "| JJ Bumrah       | V Kohli | V Kohli | 1 |\n",
       "| JH Kallis       | V Kohli | V Kohli | 3 |\n",
       "| JA Morkel       | V Kohli | V Kohli | 2 |\n",
       "| IK Pathan       | V Kohli | V Kohli | 3 |\n",
       "| DS Kulkarni     | V Kohli | V Kohli | 3 |\n",
       "| DE Bollinger    | V Kohli | V Kohli | 1 |\n",
       "| DAJ Bracewell   | V Kohli | V Kohli | 1 |\n",
       "| CH Morris       | V Kohli | V Kohli | 1 |\n",
       "| C Nanda         | V Kohli | V Kohli | 1 |\n",
       "| BJ Hodge        | V Kohli | V Kohli | 1 |\n",
       "| Bipul Sharma    | V Kohli | V Kohli | 1 |\n",
       "| BB Sran         | V Kohli | V Kohli | 1 |\n",
       "| B Kumar         | V Kohli | V Kohli | 2 |\n",
       "| Azhar Mahmood   | V Kohli | V Kohli | 1 |\n",
       "| Anureet Singh   | V Kohli | V Kohli | 1 |\n",
       "| AN Ahmed        | V Kohli | V Kohli | 1 |\n",
       "| AD Russell      | V Kohli | V Kohli | 1 |\n",
       "| AD Mathews      | V Kohli | V Kohli | 1 |\n",
       "| AC Thomas       | V Kohli | V Kohli | 1 |\n",
       "| AB Dinda        | V Kohli | V Kohli | 2 |\n",
       "| A Symonds       | V Kohli | V Kohli | 1 |\n",
       "| A Nehra         | V Kohli | V Kohli | 6 |\n",
       "| A Mishra        | V Kohli | V Kohli | 1 |\n",
       "| A Ashish Reddy  | V Kohli | V Kohli | 2 |\n",
       "\n"
      ],
      "text/plain": [
       "    bowler            batsman player_dismissed playerdismissed\n",
       "1   Z Khan            V Kohli V Kohli          1              \n",
       "2   WPUJC Vaas        V Kohli V Kohli          1              \n",
       "3   VRV Singh         V Kohli V Kohli          1              \n",
       "4   UT Yadav          V Kohli V Kohli          1              \n",
       "5   TG Southee        V Kohli V Kohli          1              \n",
       "6   SR Watson         V Kohli V Kohli          1              \n",
       "7   SP Narine         V Kohli V Kohli          2              \n",
       "8   Sohail Tanvir     V Kohli V Kohli          1              \n",
       "9   SK Warne          V Kohli V Kohli          1              \n",
       "10  SK Trivedi        V Kohli V Kohli          2              \n",
       "11  SK Raina          V Kohli V Kohli          1              \n",
       "12  SB Jakati         V Kohli V Kohli          2              \n",
       "13  Sandeep Sharma    V Kohli V Kohli          4              \n",
       "14  RS Bopara         V Kohli V Kohli          1              \n",
       "15  RP Singh          V Kohli V Kohli          2              \n",
       "16  RJ Harris         V Kohli V Kohli          2              \n",
       "17  RA Jadeja         V Kohli V Kohli          2              \n",
       "18  R Vinay Kumar     V Kohli V Kohli          1              \n",
       "19  R Sharma          V Kohli V Kohli          1              \n",
       "20  PV Tambe          V Kohli V Kohli          1              \n",
       "21  PP Ojha           V Kohli V Kohli          1              \n",
       "22  PP Chawla         V Kohli V Kohli          3              \n",
       "23  Pankaj Singh      V Kohli V Kohli          1              \n",
       "24  P Suyal           V Kohli V Kohli          1              \n",
       "25  P Kumar           V Kohli V Kohli          1              \n",
       "26  P Awana           V Kohli V Kohli          2              \n",
       "27  NLTC Perera       V Kohli V Kohli          1              \n",
       "28  Mustafizur Rahman V Kohli V Kohli          1              \n",
       "29  MS Gony           V Kohli V Kohli          1              \n",
       "30  Mohammed Shami    V Kohli V Kohli          1              \n",
       "... ...               ...     ...              ...            \n",
       "38  KW Richardson     V Kohli V Kohli          1              \n",
       "39  KH Pandya         V Kohli V Kohli          1              \n",
       "40  KC Cariappa       V Kohli V Kohli          1              \n",
       "41  KA Pollard        V Kohli V Kohli          3              \n",
       "42  JP Faulkner       V Kohli V Kohli          1              \n",
       "43  Joginder Sharma   V Kohli V Kohli          1              \n",
       "44  JJ Bumrah         V Kohli V Kohli          1              \n",
       "45  JH Kallis         V Kohli V Kohli          3              \n",
       "46  JA Morkel         V Kohli V Kohli          2              \n",
       "47  IK Pathan         V Kohli V Kohli          3              \n",
       "48  DS Kulkarni       V Kohli V Kohli          3              \n",
       "49  DE Bollinger      V Kohli V Kohli          1              \n",
       "50  DAJ Bracewell     V Kohli V Kohli          1              \n",
       "51  CH Morris         V Kohli V Kohli          1              \n",
       "52  C Nanda           V Kohli V Kohli          1              \n",
       "53  BJ Hodge          V Kohli V Kohli          1              \n",
       "54  Bipul Sharma      V Kohli V Kohli          1              \n",
       "55  BB Sran           V Kohli V Kohli          1              \n",
       "56  B Kumar           V Kohli V Kohli          2              \n",
       "57  Azhar Mahmood     V Kohli V Kohli          1              \n",
       "58  Anureet Singh     V Kohli V Kohli          1              \n",
       "59  AN Ahmed          V Kohli V Kohli          1              \n",
       "60  AD Russell        V Kohli V Kohli          1              \n",
       "61  AD Mathews        V Kohli V Kohli          1              \n",
       "62  AC Thomas         V Kohli V Kohli          1              \n",
       "63  AB Dinda          V Kohli V Kohli          2              \n",
       "64  A Symonds         V Kohli V Kohli          1              \n",
       "65  A Nehra           V Kohli V Kohli          6              \n",
       "66  A Mishra          V Kohli V Kohli          1              \n",
       "67  A Ashish Reddy    V Kohli V Kohli          2              "
      ]
     },
     "metadata": {},
     "output_type": "display_data"
    }
   ],
   "source": [
    "wickets_h %>% mutate(playerdismissed = as.integer(playerdismissed))\n",
    "#wickets_h %>% group_by(max(playerdismissed))\n"
   ]
  },
  {
   "cell_type": "code",
   "execution_count": 80,
   "metadata": {},
   "outputs": [],
   "source": [
    "No2 <- data%>%\n",
    "        left_join(matches,by=c(\"match_id\"=\"Match_SK\"))%>%\n",
    "  left_join(teams,by=c(\"bowling_team\"=\"team\"))%>%\n",
    "  filter(dismissal_kind!=\"run out\")%>%\n",
    "select(bowler,batsman,wickets,player_dismissed)%>%\n",
    "group_by(bowler,batsman,player_dismissed)%>%\n",
    "summarize(playerdismissed=sum(wickets,na.rm=TRUE))%>%\n",
    "filter(player_dismissed!=\"\")%>%\n",
    "filter(batsman==\"SK Raina\")%>%\n",
    "arrange(desc(bowler))\n",
    "\n"
   ]
  },
  {
   "cell_type": "code",
   "execution_count": 81,
   "metadata": {},
   "outputs": [],
   "source": [
    "No3 <- data%>%\n",
    "        left_join(matches,by=c(\"match_id\"=\"Match_SK\"))%>%\n",
    "  left_join(teams,by=c(\"bowling_team\"=\"team\"))%>%\n",
    "  filter(dismissal_kind!=\"run out\")%>%\n",
    "select(bowler,batsman,wickets,player_dismissed)%>%\n",
    "group_by(bowler,batsman,player_dismissed)%>%\n",
    "summarize(playerdismissed=sum(wickets,na.rm=TRUE))%>%\n",
    "filter(player_dismissed!=\"\")%>%\n",
    "filter(batsman==\"RG Sharma\")%>%\n",
    "arrange(desc(bowler))"
   ]
  },
  {
   "cell_type": "code",
   "execution_count": 82,
   "metadata": {},
   "outputs": [],
   "source": [
    "No4 <- data%>%\n",
    "        left_join(matches,by=c(\"match_id\"=\"Match_SK\"))%>%\n",
    "  left_join(teams,by=c(\"bowling_team\"=\"team\"))%>%\n",
    "  filter(dismissal_kind!=\"run out\")%>%\n",
    "select(bowler,batsman,wickets,player_dismissed)%>%\n",
    "group_by(bowler,batsman,player_dismissed)%>%\n",
    "summarize(playerdismissed=sum(wickets,na.rm=TRUE))%>%\n",
    "filter(player_dismissed!=\"\")%>%\n",
    "filter(batsman==\"G Gambhir\")%>%\n",
    "arrange(desc(bowler))"
   ]
  },
  {
   "cell_type": "code",
   "execution_count": 83,
   "metadata": {},
   "outputs": [],
   "source": [
    "No5 <- data%>%\n",
    "        left_join(matches,by=c(\"match_id\"=\"Match_SK\"))%>%\n",
    "  left_join(teams,by=c(\"bowling_team\"=\"team\"))%>%\n",
    "  filter(dismissal_kind!=\"run out\")%>%\n",
    "select(bowler,batsman,wickets,player_dismissed)%>%\n",
    "group_by(bowler,batsman,player_dismissed)%>%\n",
    "summarize(playerdismissed=sum(wickets,na.rm=TRUE))%>%\n",
    "filter(player_dismissed!=\"\")%>%\n",
    "filter(batsman==\"CH Gayle\")%>%\n",
    "arrange(desc(bowler))"
   ]
  },
  {
   "cell_type": "code",
   "execution_count": 84,
   "metadata": {},
   "outputs": [],
   "source": [
    "No6 <- data%>%\n",
    "        left_join(matches,by=c(\"match_id\"=\"Match_SK\"))%>%\n",
    "  left_join(teams,by=c(\"bowling_team\"=\"team\"))%>%\n",
    "  filter(dismissal_kind!=\"run out\")%>%\n",
    "select(bowler,batsman,wickets,player_dismissed)%>%\n",
    "group_by(bowler,batsman,player_dismissed)%>%\n",
    "summarize(playerdismissed=sum(wickets,na.rm=TRUE))%>%\n",
    "filter(player_dismissed!=\"\")%>%\n",
    "filter(batsman==\"RV Uthappa\")%>%\n",
    "arrange(desc(bowler))"
   ]
  },
  {
   "cell_type": "code",
   "execution_count": 85,
   "metadata": {},
   "outputs": [],
   "source": [
    "No7 <- data%>%\n",
    "        left_join(matches,by=c(\"match_id\"=\"Match_SK\"))%>%\n",
    "  left_join(teams,by=c(\"bowling_team\"=\"team\"))%>%\n",
    "  filter(dismissal_kind!=\"run out\")%>%\n",
    "select(bowler,batsman,wickets,player_dismissed)%>%\n",
    "group_by(bowler,batsman,player_dismissed)%>%\n",
    "summarize(playerdismissed=sum(wickets,na.rm=TRUE))%>%\n",
    "filter(player_dismissed!=\"\")%>%\n",
    "filter(batsman==\"DA Warner\")%>%\n",
    "arrange(desc(bowler))"
   ]
  },
  {
   "cell_type": "code",
   "execution_count": 86,
   "metadata": {},
   "outputs": [],
   "source": [
    "No8 <- data%>%\n",
    "        left_join(matches,by=c(\"match_id\"=\"Match_SK\"))%>%\n",
    "  left_join(teams,by=c(\"bowling_team\"=\"team\"))%>%\n",
    "  filter(dismissal_kind!=\"run out\")%>%\n",
    "select(bowler,batsman,wickets,player_dismissed)%>%\n",
    "group_by(bowler,batsman,player_dismissed)%>%\n",
    "summarize(playerdismissed=sum(wickets,na.rm=TRUE))%>%\n",
    "filter(player_dismissed!=\"\")%>%\n",
    "filter(batsman==\"AB de Villiers\")%>%\n",
    "arrange(desc(bowler))"
   ]
  },
  {
   "cell_type": "code",
   "execution_count": 87,
   "metadata": {},
   "outputs": [],
   "source": [
    "No9 <- data%>%\n",
    "        left_join(matches,by=c(\"match_id\"=\"Match_SK\"))%>%\n",
    "  left_join(teams,by=c(\"bowling_team\"=\"team\"))%>%\n",
    "  filter(dismissal_kind!=\"run out\")%>%\n",
    "select(bowler,batsman,wickets,player_dismissed)%>%\n",
    "group_by(bowler,batsman,player_dismissed)%>%\n",
    "summarize(playerdismissed=sum(wickets,na.rm=TRUE))%>%\n",
    "filter(player_dismissed!=\"\")%>%\n",
    "filter(batsman==\"MS Dhoni\")%>%\n",
    "arrange(desc(bowler))"
   ]
  },
  {
   "cell_type": "code",
   "execution_count": 88,
   "metadata": {},
   "outputs": [],
   "source": [
    "No10 <- data%>%\n",
    "        left_join(matches,by=c(\"match_id\"=\"Match_SK\"))%>%\n",
    "  left_join(teams,by=c(\"bowling_team\"=\"team\"))%>%\n",
    "  filter(dismissal_kind!=\"run out\")%>%\n",
    "select(bowler,batsman,wickets,player_dismissed)%>%\n",
    "group_by(bowler,batsman,player_dismissed)%>%\n",
    "summarize(playerdismissed=sum(wickets,na.rm=TRUE))%>%\n",
    "filter(player_dismissed!=\"\")%>%\n",
    "filter(batsman==\"S Dhawan\")%>%\n",
    "arrange(desc(bowler))"
   ]
  },
  {
   "cell_type": "code",
   "execution_count": 89,
   "metadata": {},
   "outputs": [
    {
     "data": {
      "text/html": [
       "<table>\n",
       "<caption>A grouped_df: 1 × 4</caption>\n",
       "<thead>\n",
       "\t<tr><th scope=col>bowler</th><th scope=col>batsman</th><th scope=col>player_dismissed</th><th scope=col>playerdismissed</th></tr>\n",
       "\t<tr><th scope=col>&lt;fct&gt;</th><th scope=col>&lt;fct&gt;</th><th scope=col>&lt;fct&gt;</th><th scope=col>&lt;dbl&gt;</th></tr>\n",
       "</thead>\n",
       "<tbody>\n",
       "\t<tr><td>PP Chawla</td><td>SK Raina</td><td>SK Raina</td><td>4</td></tr>\n",
       "</tbody>\n",
       "</table>\n"
      ],
      "text/latex": [
       "A grouped_df: 1 × 4\n",
       "\\begin{tabular}{r|llll}\n",
       " bowler & batsman & player\\_dismissed & playerdismissed\\\\\n",
       " <fct> & <fct> & <fct> & <dbl>\\\\\n",
       "\\hline\n",
       "\t PP Chawla & SK Raina & SK Raina & 4\\\\\n",
       "\\end{tabular}\n"
      ],
      "text/markdown": [
       "\n",
       "A grouped_df: 1 × 4\n",
       "\n",
       "| bowler &lt;fct&gt; | batsman &lt;fct&gt; | player_dismissed &lt;fct&gt; | playerdismissed &lt;dbl&gt; |\n",
       "|---|---|---|---|\n",
       "| PP Chawla | SK Raina | SK Raina | 4 |\n",
       "\n"
      ],
      "text/plain": [
       "  bowler    batsman  player_dismissed playerdismissed\n",
       "1 PP Chawla SK Raina SK Raina         4              "
      ]
     },
     "metadata": {},
     "output_type": "display_data"
    }
   ],
   "source": [
    "Raina <- No2 %>% arrange(desc(playerdismissed))%>%\n",
    "head(1)\n",
    "Raina"
   ]
  },
  {
   "cell_type": "code",
   "execution_count": 90,
   "metadata": {},
   "outputs": [
    {
     "data": {
      "text/html": [
       "<table>\n",
       "<caption>A grouped_df: 1 × 4</caption>\n",
       "<thead>\n",
       "\t<tr><th scope=col>bowler</th><th scope=col>batsman</th><th scope=col>player_dismissed</th><th scope=col>playerdismissed</th></tr>\n",
       "\t<tr><th scope=col>&lt;fct&gt;</th><th scope=col>&lt;fct&gt;</th><th scope=col>&lt;fct&gt;</th><th scope=col>&lt;dbl&gt;</th></tr>\n",
       "</thead>\n",
       "<tbody>\n",
       "\t<tr><td>A Nehra</td><td>V Kohli</td><td>V Kohli</td><td>6</td></tr>\n",
       "</tbody>\n",
       "</table>\n"
      ],
      "text/latex": [
       "A grouped_df: 1 × 4\n",
       "\\begin{tabular}{r|llll}\n",
       " bowler & batsman & player\\_dismissed & playerdismissed\\\\\n",
       " <fct> & <fct> & <fct> & <dbl>\\\\\n",
       "\\hline\n",
       "\t A Nehra & V Kohli & V Kohli & 6\\\\\n",
       "\\end{tabular}\n"
      ],
      "text/markdown": [
       "\n",
       "A grouped_df: 1 × 4\n",
       "\n",
       "| bowler &lt;fct&gt; | batsman &lt;fct&gt; | player_dismissed &lt;fct&gt; | playerdismissed &lt;dbl&gt; |\n",
       "|---|---|---|---|\n",
       "| A Nehra | V Kohli | V Kohli | 6 |\n",
       "\n"
      ],
      "text/plain": [
       "  bowler  batsman player_dismissed playerdismissed\n",
       "1 A Nehra V Kohli V Kohli          6              "
      ]
     },
     "metadata": {},
     "output_type": "display_data"
    }
   ],
   "source": [
    "Virat <- wickets_h %>% arrange(desc(playerdismissed))%>%\n",
    "head(1)\n",
    "Virat"
   ]
  },
  {
   "cell_type": "code",
   "execution_count": 91,
   "metadata": {},
   "outputs": [
    {
     "data": {
      "text/html": [
       "<table>\n",
       "<caption>A grouped_df: 1 × 4</caption>\n",
       "<thead>\n",
       "\t<tr><th scope=col>bowler</th><th scope=col>batsman</th><th scope=col>player_dismissed</th><th scope=col>playerdismissed</th></tr>\n",
       "\t<tr><th scope=col>&lt;fct&gt;</th><th scope=col>&lt;fct&gt;</th><th scope=col>&lt;fct&gt;</th><th scope=col>&lt;dbl&gt;</th></tr>\n",
       "</thead>\n",
       "<tbody>\n",
       "\t<tr><td>R Vinay Kumar</td><td>RG Sharma</td><td>RG Sharma</td><td>6</td></tr>\n",
       "</tbody>\n",
       "</table>\n"
      ],
      "text/latex": [
       "A grouped_df: 1 × 4\n",
       "\\begin{tabular}{r|llll}\n",
       " bowler & batsman & player\\_dismissed & playerdismissed\\\\\n",
       " <fct> & <fct> & <fct> & <dbl>\\\\\n",
       "\\hline\n",
       "\t R Vinay Kumar & RG Sharma & RG Sharma & 6\\\\\n",
       "\\end{tabular}\n"
      ],
      "text/markdown": [
       "\n",
       "A grouped_df: 1 × 4\n",
       "\n",
       "| bowler &lt;fct&gt; | batsman &lt;fct&gt; | player_dismissed &lt;fct&gt; | playerdismissed &lt;dbl&gt; |\n",
       "|---|---|---|---|\n",
       "| R Vinay Kumar | RG Sharma | RG Sharma | 6 |\n",
       "\n"
      ],
      "text/plain": [
       "  bowler        batsman   player_dismissed playerdismissed\n",
       "1 R Vinay Kumar RG Sharma RG Sharma        6              "
      ]
     },
     "metadata": {},
     "output_type": "display_data"
    }
   ],
   "source": [
    "Sharma <- No3 %>% arrange(desc(playerdismissed))%>%\n",
    "head(1)\n",
    "Sharma"
   ]
  },
  {
   "cell_type": "code",
   "execution_count": 92,
   "metadata": {},
   "outputs": [
    {
     "data": {
      "text/html": [
       "<table>\n",
       "<caption>A grouped_df: 1 × 4</caption>\n",
       "<thead>\n",
       "\t<tr><th scope=col>bowler</th><th scope=col>batsman</th><th scope=col>player_dismissed</th><th scope=col>playerdismissed</th></tr>\n",
       "\t<tr><th scope=col>&lt;fct&gt;</th><th scope=col>&lt;fct&gt;</th><th scope=col>&lt;fct&gt;</th><th scope=col>&lt;dbl&gt;</th></tr>\n",
       "</thead>\n",
       "<tbody>\n",
       "\t<tr><td>Z Khan</td><td>G Gambhir</td><td>G Gambhir</td><td>5</td></tr>\n",
       "</tbody>\n",
       "</table>\n"
      ],
      "text/latex": [
       "A grouped_df: 1 × 4\n",
       "\\begin{tabular}{r|llll}\n",
       " bowler & batsman & player\\_dismissed & playerdismissed\\\\\n",
       " <fct> & <fct> & <fct> & <dbl>\\\\\n",
       "\\hline\n",
       "\t Z Khan & G Gambhir & G Gambhir & 5\\\\\n",
       "\\end{tabular}\n"
      ],
      "text/markdown": [
       "\n",
       "A grouped_df: 1 × 4\n",
       "\n",
       "| bowler &lt;fct&gt; | batsman &lt;fct&gt; | player_dismissed &lt;fct&gt; | playerdismissed &lt;dbl&gt; |\n",
       "|---|---|---|---|\n",
       "| Z Khan | G Gambhir | G Gambhir | 5 |\n",
       "\n"
      ],
      "text/plain": [
       "  bowler batsman   player_dismissed playerdismissed\n",
       "1 Z Khan G Gambhir G Gambhir        5              "
      ]
     },
     "metadata": {},
     "output_type": "display_data"
    }
   ],
   "source": [
    "Gambhir <- No4 %>% arrange(desc(playerdismissed))%>%\n",
    "head(1)\n",
    "Gambhir"
   ]
  },
  {
   "cell_type": "code",
   "execution_count": 93,
   "metadata": {},
   "outputs": [
    {
     "data": {
      "text/html": [
       "<table>\n",
       "<caption>A grouped_df: 1 × 4</caption>\n",
       "<thead>\n",
       "\t<tr><th scope=col>bowler</th><th scope=col>batsman</th><th scope=col>player_dismissed</th><th scope=col>playerdismissed</th></tr>\n",
       "\t<tr><th scope=col>&lt;fct&gt;</th><th scope=col>&lt;fct&gt;</th><th scope=col>&lt;fct&gt;</th><th scope=col>&lt;dbl&gt;</th></tr>\n",
       "</thead>\n",
       "<tbody>\n",
       "\t<tr><td>R Ashwin</td><td>CH Gayle</td><td>CH Gayle</td><td>4</td></tr>\n",
       "</tbody>\n",
       "</table>\n"
      ],
      "text/latex": [
       "A grouped_df: 1 × 4\n",
       "\\begin{tabular}{r|llll}\n",
       " bowler & batsman & player\\_dismissed & playerdismissed\\\\\n",
       " <fct> & <fct> & <fct> & <dbl>\\\\\n",
       "\\hline\n",
       "\t R Ashwin & CH Gayle & CH Gayle & 4\\\\\n",
       "\\end{tabular}\n"
      ],
      "text/markdown": [
       "\n",
       "A grouped_df: 1 × 4\n",
       "\n",
       "| bowler &lt;fct&gt; | batsman &lt;fct&gt; | player_dismissed &lt;fct&gt; | playerdismissed &lt;dbl&gt; |\n",
       "|---|---|---|---|\n",
       "| R Ashwin | CH Gayle | CH Gayle | 4 |\n",
       "\n"
      ],
      "text/plain": [
       "  bowler   batsman  player_dismissed playerdismissed\n",
       "1 R Ashwin CH Gayle CH Gayle         4              "
      ]
     },
     "metadata": {},
     "output_type": "display_data"
    }
   ],
   "source": [
    "Gayle <- No5 %>% arrange(desc(playerdismissed))%>%\n",
    "head(1)\n",
    "Gayle"
   ]
  },
  {
   "cell_type": "code",
   "execution_count": 94,
   "metadata": {},
   "outputs": [
    {
     "data": {
      "text/html": [
       "<table>\n",
       "<caption>A grouped_df: 1 × 4</caption>\n",
       "<thead>\n",
       "\t<tr><th scope=col>bowler</th><th scope=col>batsman</th><th scope=col>player_dismissed</th><th scope=col>playerdismissed</th></tr>\n",
       "\t<tr><th scope=col>&lt;fct&gt;</th><th scope=col>&lt;fct&gt;</th><th scope=col>&lt;fct&gt;</th><th scope=col>&lt;dbl&gt;</th></tr>\n",
       "</thead>\n",
       "<tbody>\n",
       "\t<tr><td>R Ashwin</td><td>RV Uthappa</td><td>RV Uthappa</td><td>4</td></tr>\n",
       "</tbody>\n",
       "</table>\n"
      ],
      "text/latex": [
       "A grouped_df: 1 × 4\n",
       "\\begin{tabular}{r|llll}\n",
       " bowler & batsman & player\\_dismissed & playerdismissed\\\\\n",
       " <fct> & <fct> & <fct> & <dbl>\\\\\n",
       "\\hline\n",
       "\t R Ashwin & RV Uthappa & RV Uthappa & 4\\\\\n",
       "\\end{tabular}\n"
      ],
      "text/markdown": [
       "\n",
       "A grouped_df: 1 × 4\n",
       "\n",
       "| bowler &lt;fct&gt; | batsman &lt;fct&gt; | player_dismissed &lt;fct&gt; | playerdismissed &lt;dbl&gt; |\n",
       "|---|---|---|---|\n",
       "| R Ashwin | RV Uthappa | RV Uthappa | 4 |\n",
       "\n"
      ],
      "text/plain": [
       "  bowler   batsman    player_dismissed playerdismissed\n",
       "1 R Ashwin RV Uthappa RV Uthappa       4              "
      ]
     },
     "metadata": {},
     "output_type": "display_data"
    }
   ],
   "source": [
    "Robin <- No6 %>% arrange(desc(playerdismissed))%>%\n",
    "head(1)\n",
    "Robin"
   ]
  },
  {
   "cell_type": "code",
   "execution_count": 95,
   "metadata": {},
   "outputs": [
    {
     "data": {
      "text/html": [
       "<table>\n",
       "<caption>A grouped_df: 1 × 4</caption>\n",
       "<thead>\n",
       "\t<tr><th scope=col>bowler</th><th scope=col>batsman</th><th scope=col>player_dismissed</th><th scope=col>playerdismissed</th></tr>\n",
       "\t<tr><th scope=col>&lt;fct&gt;</th><th scope=col>&lt;fct&gt;</th><th scope=col>&lt;fct&gt;</th><th scope=col>&lt;dbl&gt;</th></tr>\n",
       "</thead>\n",
       "<tbody>\n",
       "\t<tr><td>UT Yadav</td><td>DA Warner</td><td>DA Warner</td><td>3</td></tr>\n",
       "</tbody>\n",
       "</table>\n"
      ],
      "text/latex": [
       "A grouped_df: 1 × 4\n",
       "\\begin{tabular}{r|llll}\n",
       " bowler & batsman & player\\_dismissed & playerdismissed\\\\\n",
       " <fct> & <fct> & <fct> & <dbl>\\\\\n",
       "\\hline\n",
       "\t UT Yadav & DA Warner & DA Warner & 3\\\\\n",
       "\\end{tabular}\n"
      ],
      "text/markdown": [
       "\n",
       "A grouped_df: 1 × 4\n",
       "\n",
       "| bowler &lt;fct&gt; | batsman &lt;fct&gt; | player_dismissed &lt;fct&gt; | playerdismissed &lt;dbl&gt; |\n",
       "|---|---|---|---|\n",
       "| UT Yadav | DA Warner | DA Warner | 3 |\n",
       "\n"
      ],
      "text/plain": [
       "  bowler   batsman   player_dismissed playerdismissed\n",
       "1 UT Yadav DA Warner DA Warner        3              "
      ]
     },
     "metadata": {},
     "output_type": "display_data"
    }
   ],
   "source": [
    "David <- No7 %>% arrange(desc(playerdismissed))%>%\n",
    "head(1)\n",
    "David"
   ]
  },
  {
   "cell_type": "code",
   "execution_count": 96,
   "metadata": {},
   "outputs": [
    {
     "data": {
      "text/html": [
       "<table>\n",
       "<caption>A grouped_df: 1 × 4</caption>\n",
       "<thead>\n",
       "\t<tr><th scope=col>bowler</th><th scope=col>batsman</th><th scope=col>player_dismissed</th><th scope=col>playerdismissed</th></tr>\n",
       "\t<tr><th scope=col>&lt;fct&gt;</th><th scope=col>&lt;fct&gt;</th><th scope=col>&lt;fct&gt;</th><th scope=col>&lt;dbl&gt;</th></tr>\n",
       "</thead>\n",
       "<tbody>\n",
       "\t<tr><td>PP Chawla</td><td>AB de Villiers</td><td>AB de Villiers</td><td>4</td></tr>\n",
       "</tbody>\n",
       "</table>\n"
      ],
      "text/latex": [
       "A grouped_df: 1 × 4\n",
       "\\begin{tabular}{r|llll}\n",
       " bowler & batsman & player\\_dismissed & playerdismissed\\\\\n",
       " <fct> & <fct> & <fct> & <dbl>\\\\\n",
       "\\hline\n",
       "\t PP Chawla & AB de Villiers & AB de Villiers & 4\\\\\n",
       "\\end{tabular}\n"
      ],
      "text/markdown": [
       "\n",
       "A grouped_df: 1 × 4\n",
       "\n",
       "| bowler &lt;fct&gt; | batsman &lt;fct&gt; | player_dismissed &lt;fct&gt; | playerdismissed &lt;dbl&gt; |\n",
       "|---|---|---|---|\n",
       "| PP Chawla | AB de Villiers | AB de Villiers | 4 |\n",
       "\n"
      ],
      "text/plain": [
       "  bowler    batsman        player_dismissed playerdismissed\n",
       "1 PP Chawla AB de Villiers AB de Villiers   4              "
      ]
     },
     "metadata": {},
     "output_type": "display_data"
    }
   ],
   "source": [
    "AB <- No8 %>% arrange(desc(playerdismissed))%>%\n",
    "head(1)\n",
    "AB"
   ]
  },
  {
   "cell_type": "code",
   "execution_count": 97,
   "metadata": {},
   "outputs": [
    {
     "data": {
      "text/html": [
       "<table>\n",
       "<caption>A grouped_df: 1 × 4</caption>\n",
       "<thead>\n",
       "\t<tr><th scope=col>bowler</th><th scope=col>batsman</th><th scope=col>player_dismissed</th><th scope=col>playerdismissed</th></tr>\n",
       "\t<tr><th scope=col>&lt;fct&gt;</th><th scope=col>&lt;fct&gt;</th><th scope=col>&lt;fct&gt;</th><th scope=col>&lt;dbl&gt;</th></tr>\n",
       "</thead>\n",
       "<tbody>\n",
       "\t<tr><td>Z Khan</td><td>MS Dhoni</td><td>MS Dhoni</td><td>7</td></tr>\n",
       "</tbody>\n",
       "</table>\n"
      ],
      "text/latex": [
       "A grouped_df: 1 × 4\n",
       "\\begin{tabular}{r|llll}\n",
       " bowler & batsman & player\\_dismissed & playerdismissed\\\\\n",
       " <fct> & <fct> & <fct> & <dbl>\\\\\n",
       "\\hline\n",
       "\t Z Khan & MS Dhoni & MS Dhoni & 7\\\\\n",
       "\\end{tabular}\n"
      ],
      "text/markdown": [
       "\n",
       "A grouped_df: 1 × 4\n",
       "\n",
       "| bowler &lt;fct&gt; | batsman &lt;fct&gt; | player_dismissed &lt;fct&gt; | playerdismissed &lt;dbl&gt; |\n",
       "|---|---|---|---|\n",
       "| Z Khan | MS Dhoni | MS Dhoni | 7 |\n",
       "\n"
      ],
      "text/plain": [
       "  bowler batsman  player_dismissed playerdismissed\n",
       "1 Z Khan MS Dhoni MS Dhoni         7              "
      ]
     },
     "metadata": {},
     "output_type": "display_data"
    }
   ],
   "source": [
    "MS <- No9 %>% arrange(desc(playerdismissed))%>%\n",
    "head(1)\n",
    "MS"
   ]
  },
  {
   "cell_type": "code",
   "execution_count": 98,
   "metadata": {},
   "outputs": [
    {
     "data": {
      "text/html": [
       "<table>\n",
       "<caption>A grouped_df: 1 × 4</caption>\n",
       "<thead>\n",
       "\t<tr><th scope=col>bowler</th><th scope=col>batsman</th><th scope=col>player_dismissed</th><th scope=col>playerdismissed</th></tr>\n",
       "\t<tr><th scope=col>&lt;fct&gt;</th><th scope=col>&lt;fct&gt;</th><th scope=col>&lt;fct&gt;</th><th scope=col>&lt;dbl&gt;</th></tr>\n",
       "</thead>\n",
       "<tbody>\n",
       "\t<tr><td>Z Khan</td><td>S Dhawan</td><td>S Dhawan</td><td>4</td></tr>\n",
       "</tbody>\n",
       "</table>\n"
      ],
      "text/latex": [
       "A grouped_df: 1 × 4\n",
       "\\begin{tabular}{r|llll}\n",
       " bowler & batsman & player\\_dismissed & playerdismissed\\\\\n",
       " <fct> & <fct> & <fct> & <dbl>\\\\\n",
       "\\hline\n",
       "\t Z Khan & S Dhawan & S Dhawan & 4\\\\\n",
       "\\end{tabular}\n"
      ],
      "text/markdown": [
       "\n",
       "A grouped_df: 1 × 4\n",
       "\n",
       "| bowler &lt;fct&gt; | batsman &lt;fct&gt; | player_dismissed &lt;fct&gt; | playerdismissed &lt;dbl&gt; |\n",
       "|---|---|---|---|\n",
       "| Z Khan | S Dhawan | S Dhawan | 4 |\n",
       "\n"
      ],
      "text/plain": [
       "  bowler batsman  player_dismissed playerdismissed\n",
       "1 Z Khan S Dhawan S Dhawan         4              "
      ]
     },
     "metadata": {},
     "output_type": "display_data"
    }
   ],
   "source": [
    "Shekar <- No10 %>% arrange(desc(playerdismissed))%>%\n",
    "head(1)\n",
    "Shekar"
   ]
  },
  {
   "cell_type": "code",
   "execution_count": 99,
   "metadata": {},
   "outputs": [],
   "source": [
    "Final_List <- rbind(Virat,Raina,Sharma,Gambhir,Gayle,Robin,David,AB,MS,Shekar)"
   ]
  },
  {
   "cell_type": "code",
   "execution_count": 100,
   "metadata": {},
   "outputs": [
    {
     "data": {
      "text/html": [
       "<table>\n",
       "<caption>A grouped_df: 10 × 4</caption>\n",
       "<thead>\n",
       "\t<tr><th scope=col>bowler</th><th scope=col>batsman</th><th scope=col>player_dismissed</th><th scope=col>playerdismissed</th></tr>\n",
       "\t<tr><th scope=col>&lt;fct&gt;</th><th scope=col>&lt;fct&gt;</th><th scope=col>&lt;fct&gt;</th><th scope=col>&lt;dbl&gt;</th></tr>\n",
       "</thead>\n",
       "<tbody>\n",
       "\t<tr><td>A Nehra      </td><td>V Kohli       </td><td>V Kohli       </td><td>6</td></tr>\n",
       "\t<tr><td>PP Chawla    </td><td>SK Raina      </td><td>SK Raina      </td><td>4</td></tr>\n",
       "\t<tr><td>R Vinay Kumar</td><td>RG Sharma     </td><td>RG Sharma     </td><td>6</td></tr>\n",
       "\t<tr><td>Z Khan       </td><td>G Gambhir     </td><td>G Gambhir     </td><td>5</td></tr>\n",
       "\t<tr><td>R Ashwin     </td><td>CH Gayle      </td><td>CH Gayle      </td><td>4</td></tr>\n",
       "\t<tr><td>R Ashwin     </td><td>RV Uthappa    </td><td>RV Uthappa    </td><td>4</td></tr>\n",
       "\t<tr><td>UT Yadav     </td><td>DA Warner     </td><td>DA Warner     </td><td>3</td></tr>\n",
       "\t<tr><td>PP Chawla    </td><td>AB de Villiers</td><td>AB de Villiers</td><td>4</td></tr>\n",
       "\t<tr><td>Z Khan       </td><td>MS Dhoni      </td><td>MS Dhoni      </td><td>7</td></tr>\n",
       "\t<tr><td>Z Khan       </td><td>S Dhawan      </td><td>S Dhawan      </td><td>4</td></tr>\n",
       "</tbody>\n",
       "</table>\n"
      ],
      "text/latex": [
       "A grouped_df: 10 × 4\n",
       "\\begin{tabular}{r|llll}\n",
       " bowler & batsman & player\\_dismissed & playerdismissed\\\\\n",
       " <fct> & <fct> & <fct> & <dbl>\\\\\n",
       "\\hline\n",
       "\t A Nehra       & V Kohli        & V Kohli        & 6\\\\\n",
       "\t PP Chawla     & SK Raina       & SK Raina       & 4\\\\\n",
       "\t R Vinay Kumar & RG Sharma      & RG Sharma      & 6\\\\\n",
       "\t Z Khan        & G Gambhir      & G Gambhir      & 5\\\\\n",
       "\t R Ashwin      & CH Gayle       & CH Gayle       & 4\\\\\n",
       "\t R Ashwin      & RV Uthappa     & RV Uthappa     & 4\\\\\n",
       "\t UT Yadav      & DA Warner      & DA Warner      & 3\\\\\n",
       "\t PP Chawla     & AB de Villiers & AB de Villiers & 4\\\\\n",
       "\t Z Khan        & MS Dhoni       & MS Dhoni       & 7\\\\\n",
       "\t Z Khan        & S Dhawan       & S Dhawan       & 4\\\\\n",
       "\\end{tabular}\n"
      ],
      "text/markdown": [
       "\n",
       "A grouped_df: 10 × 4\n",
       "\n",
       "| bowler &lt;fct&gt; | batsman &lt;fct&gt; | player_dismissed &lt;fct&gt; | playerdismissed &lt;dbl&gt; |\n",
       "|---|---|---|---|\n",
       "| A Nehra       | V Kohli        | V Kohli        | 6 |\n",
       "| PP Chawla     | SK Raina       | SK Raina       | 4 |\n",
       "| R Vinay Kumar | RG Sharma      | RG Sharma      | 6 |\n",
       "| Z Khan        | G Gambhir      | G Gambhir      | 5 |\n",
       "| R Ashwin      | CH Gayle       | CH Gayle       | 4 |\n",
       "| R Ashwin      | RV Uthappa     | RV Uthappa     | 4 |\n",
       "| UT Yadav      | DA Warner      | DA Warner      | 3 |\n",
       "| PP Chawla     | AB de Villiers | AB de Villiers | 4 |\n",
       "| Z Khan        | MS Dhoni       | MS Dhoni       | 7 |\n",
       "| Z Khan        | S Dhawan       | S Dhawan       | 4 |\n",
       "\n"
      ],
      "text/plain": [
       "   bowler        batsman        player_dismissed playerdismissed\n",
       "1  A Nehra       V Kohli        V Kohli          6              \n",
       "2  PP Chawla     SK Raina       SK Raina         4              \n",
       "3  R Vinay Kumar RG Sharma      RG Sharma        6              \n",
       "4  Z Khan        G Gambhir      G Gambhir        5              \n",
       "5  R Ashwin      CH Gayle       CH Gayle         4              \n",
       "6  R Ashwin      RV Uthappa     RV Uthappa       4              \n",
       "7  UT Yadav      DA Warner      DA Warner        3              \n",
       "8  PP Chawla     AB de Villiers AB de Villiers   4              \n",
       "9  Z Khan        MS Dhoni       MS Dhoni         7              \n",
       "10 Z Khan        S Dhawan       S Dhawan         4              "
      ]
     },
     "metadata": {},
     "output_type": "display_data"
    }
   ],
   "source": [
    "Final_List"
   ]
  },
  {
   "cell_type": "code",
   "execution_count": 101,
   "metadata": {},
   "outputs": [
    {
     "data": {
      "image/png": "[encoded data removed]",
      "text/plain": [
       "plot without title"
      ]
     },
     "metadata": {},
     "output_type": "display_data"
    }
   ],
   "source": [
    "ggplot(Final_List,aes(x=batsman,y=playerdismissed,colour=bowler,fill=bowler))+\n",
    "  geom_bar(position = \"stack\",stat = \"identity\",width=0.2,size=0.00005)+\n",
    "        theme(legend.position=\"bottom\")+\n",
    "  coord_flip()+\n",
    "        scale_y_continuous(name=\"Total wickets\")+\n",
    "  scale_x_discrete(name=\"Players\")+\n",
    "  ggtitle(\"Most dismisals of batsman\")"
   ]
  },
  {
   "cell_type": "code",
   "execution_count": 104,
   "metadata": {},
   "outputs": [
    {
     "data": {
      "text/html": [
       "<table>\n",
       "<caption>A tibble: 1 × 2</caption>\n",
       "<thead>\n",
       "\t<tr><th scope=col>match_winner</th><th scope=col>winner_cnt</th></tr>\n",
       "\t<tr><th scope=col>&lt;fct&gt;</th><th scope=col>&lt;int&gt;</th></tr>\n",
       "</thead>\n",
       "<tbody>\n",
       "\t<tr><td>Mumbai Indians</td><td>91</td></tr>\n",
       "</tbody>\n",
       "</table>\n"
      ],
      "text/latex": [
       "A tibble: 1 × 2\n",
       "\\begin{tabular}{r|ll}\n",
       " match\\_winner & winner\\_cnt\\\\\n",
       " <fct> & <int>\\\\\n",
       "\\hline\n",
       "\t Mumbai Indians & 91\\\\\n",
       "\\end{tabular}\n"
      ],
      "text/markdown": [
       "\n",
       "A tibble: 1 × 2\n",
       "\n",
       "| match_winner &lt;fct&gt; | winner_cnt &lt;int&gt; |\n",
       "|---|---|\n",
       "| Mumbai Indians | 91 |\n",
       "\n"
      ],
      "text/plain": [
       "  match_winner   winner_cnt\n",
       "1 Mumbai Indians 91        "
      ]
     },
     "metadata": {},
     "output_type": "display_data"
    }
   ],
   "source": [
    "matches %>% group_by(match_winner) %>% summarise(winner_cnt = n()) %>%\n",
    "  filter(winner_cnt == max(winner_cnt))"
   ]
  },
  {
   "cell_type": "code",
   "execution_count": 135,
   "metadata": {},
   "outputs": [
    {
     "data": {
      "image/png": "[encoded data removed]",
      "text/plain": [
       "plot without title"
      ]
     },
     "metadata": {},
     "output_type": "display_data"
    }
   ],
   "source": [
    "successfull_team = matches %>% group_by(match_winner) %>% summarise(winner_cnt = n())\n",
    "Box_successfull_team = ggplot(successfull_team) + geom_bar(aes(match_winner,winner_cnt, fill = match_winner), stat = 'identity') + coord_flip()\n",
    "Box_successfull_team"
   ]
  },
  {
   "cell_type": "code",
   "execution_count": 122,
   "metadata": {},
   "outputs": [
    {
     "name": "stdout",
     "output_type": "stream",
     "text": [
      "[1] \"Yes, Toss-winning helped in winning matches.\"\n",
      "[1] \"Matches won by toss_winner are:  324 & Total matches:  637\"\n"
     ]
    }
   ],
   "source": [
    "y=0\n",
    "n=0\n",
    "  for(i in seq(1,nrow(matches)))\n",
    "  {\n",
    "      if (matches$Toss_Winner[i] == matches$match_winner[i])\n",
    "    y=y+1\n",
    "    else \n",
    "    n=n+1\n",
    "  }\n",
    "\n",
    "if (y >= n)\n",
    "{\n",
    "print(paste(\"Yes, Toss-winning helped in winning matches.\"))\n",
    "  print(paste(\"Matches won by toss_winner are: \", y, \"& Total matches: \", nrow(matches)))\n",
    "} else\n",
    "\n",
    "{\n",
    " print(paste(\"No, Toss-winning didn't help in winning matches.\"))\n",
    "  print(paste(\"Matches won by other team are: \", n, \"& Total matches: \", nrow(matches))) \n",
    "}"
   ]
  },
  {
   "cell_type": "code",
   "execution_count": 131,
   "metadata": {
    "collapsed": true,
    "jupyter": {
     "outputs_hidden": true
    }
   },
   "outputs": [
    {
     "data": {
      "image/png": "[encoded data removed]",
      "text/plain": [
       "plot without title"
      ]
     },
     "metadata": {},
     "output_type": "display_data"
    }
   ],
   "source": [
    "winning_cnt = c(y,n)\n",
    "teamm = c(\"toss_win_and_team_won\" , \"toss_win_and_team_lost\")\n",
    "df = data.frame(teamm,winning_cnt, stringsAsFactors = F)\n",
    "\n",
    "toss_sts = ggplot(df) + geom_bar(aes(teamm,winning_cnt, fill = teamm), \n",
    "                    stat = 'identity')\n",
    "toss_sts"
   ]
  },
  {
   "cell_type": "code",
   "execution_count": null,
   "metadata": {},
   "outputs": [],
   "source": []
  },
  {
   "cell_type": "code",
   "execution_count": null,
   "metadata": {},
   "outputs": [],
   "source": []
  },
  {
   "cell_type": "code",
   "execution_count": null,
   "metadata": {},
   "outputs": [],
   "source": []
  },
  {
   "cell_type": "code",
   "execution_count": null,
   "metadata": {},
   "outputs": [],
   "source": [
    "\n"
   ]
  },
  {
   "cell_type": "code",
   "execution_count": null,
   "metadata": {},
   "outputs": [],
   "source": []
  },
  {
   "cell_type": "code",
   "execution_count": null,
   "metadata": {},
   "outputs": [],
   "source": []
  },
  {
   "cell_type": "code",
   "execution_count": null,
   "metadata": {},
   "outputs": [],
   "source": []
  },
  {
   "cell_type": "code",
   "execution_count": null,
   "metadata": {},
   "outputs": [],
   "source": []
  },
  {
   "cell_type": "code",
   "execution_count": null,
   "metadata": {},
   "outputs": [],
   "source": []
  },
  {
   "cell_type": "code",
   "execution_count": null,
   "metadata": {},
   "outputs": [],
   "source": []
  },
  {
   "cell_type": "code",
   "execution_count": null,
   "metadata": {},
   "outputs": [],
   "source": []
  },
  {
   "cell_type": "code",
   "execution_count": null,
   "metadata": {},
   "outputs": [],
   "source": []
  },
  {
   "cell_type": "code",
   "execution_count": null,
   "metadata": {},
   "outputs": [],
   "source": []
  },
  {
   "cell_type": "code",
   "execution_count": null,
   "metadata": {},
   "outputs": [],
   "source": []
  },
  {
   "cell_type": "code",
   "execution_count": null,
   "metadata": {},
   "outputs": [],
   "source": []
  },
  {
   "cell_type": "code",
   "execution_count": null,
   "metadata": {},
   "outputs": [],
   "source": []
  },
  {
   "cell_type": "code",
   "execution_count": null,
   "metadata": {},
   "outputs": [],
   "source": []
  }
 ],
 "metadata": {
  "kernelspec": {
   "display_name": "R",
   "language": "R",
   "name": "ir"
  },
  "language_info": {
   "codemirror_mode": "r",
   "file_extension": ".r",
   "mimetype": "text/x-r-source",
   "name": "R",
   "pygments_lexer": "r",
   "version": "3.6.1"
  }
 },
 "nbformat": 4,
 "nbformat_minor": 4
}
