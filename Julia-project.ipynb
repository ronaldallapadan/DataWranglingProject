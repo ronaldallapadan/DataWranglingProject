{
 "cells": [
  {
   "cell_type": "markdown",
   "metadata": {},
   "source": [
    "DATA 422 PROJECT\n",
    "\n",
    "KAARTHIK ANDAVAR - 32332576\n",
    "MONNISH LOURD - 91368527\n",
    "BENNET JACOB VARGHESE - 15505447\n",
    "RONALD ALLAPADAN - 22777134"
   ]
  },
  {
   "cell_type": "code",
   "execution_count": 1,
   "metadata": {},
   "outputs": [],
   "source": [
    "using Pkg               #packages"
   ]
  },
  {
   "cell_type": "code",
   "execution_count": 25,
   "metadata": {},
   "outputs": [
    {
     "name": "stdout",
     "output_type": "stream",
     "text": [
      "\u001b[32m\u001b[1m Resolving\u001b[22m\u001b[39m package versions...\n",
      "\u001b[32m\u001b[1m  Updating\u001b[22m\u001b[39m `C:\\Users\\kaart\\.julia\\environments\\v1.1\\Project.toml`\n",
      "\u001b[90m [no changes]\u001b[39m\n",
      "\u001b[32m\u001b[1m  Updating\u001b[22m\u001b[39m `C:\\Users\\kaart\\.julia\\environments\\v1.1\\Manifest.toml`\n",
      "\u001b[90m [no changes]\u001b[39m\n",
      "\u001b[32m\u001b[1m Resolving\u001b[22m\u001b[39m package versions...\n",
      "\u001b[32m\u001b[1m  Updating\u001b[22m\u001b[39m `C:\\Users\\kaart\\.julia\\environments\\v1.1\\Project.toml`\n",
      "\u001b[90m [no changes]\u001b[39m\n",
      "\u001b[32m\u001b[1m  Updating\u001b[22m\u001b[39m `C:\\Users\\kaart\\.julia\\environments\\v1.1\\Manifest.toml`\n",
      "\u001b[90m [no changes]\u001b[39m\n"
     ]
    }
   ],
   "source": [
    "Pkg.add(\"CSV\")\n",
    "Pkg.add(\"DataFrames\")\n"
   ]
  },
  {
   "cell_type": "code",
   "execution_count": 5,
   "metadata": {},
   "outputs": [
    {
     "data": {
      "text/html": [
       "<table class=\"data-frame\"><thead><tr><th></th><th>match_id</th><th>inning</th><th>batting_team</th><th>bowling_team</th><th>over</th><th>ball</th></tr><tr><th></th><th>Int64</th><th>Int64</th><th>String</th><th>String</th><th>Int64</th><th>Int64</th></tr></thead><tbody><p>136,598 rows × 21 columns (omitted printing of 15 columns)</p><tr><th>1</th><td>1</td><td>1</td><td>Kolkata Knight Riders</td><td>Royal Challengers Bangalore</td><td>1</td><td>1</td></tr><tr><th>2</th><td>1</td><td>1</td><td>Kolkata Knight Riders</td><td>Royal Challengers Bangalore</td><td>1</td><td>2</td></tr><tr><th>3</th><td>1</td><td>1</td><td>Kolkata Knight Riders</td><td>Royal Challengers Bangalore</td><td>1</td><td>3</td></tr><tr><th>4</th><td>1</td><td>1</td><td>Kolkata Knight Riders</td><td>Royal Challengers Bangalore</td><td>1</td><td>4</td></tr><tr><th>5</th><td>1</td><td>1</td><td>Kolkata Knight Riders</td><td>Royal Challengers Bangalore</td><td>1</td><td>5</td></tr><tr><th>6</th><td>1</td><td>1</td><td>Kolkata Knight Riders</td><td>Royal Challengers Bangalore</td><td>1</td><td>6</td></tr><tr><th>7</th><td>1</td><td>1</td><td>Kolkata Knight Riders</td><td>Royal Challengers Bangalore</td><td>1</td><td>7</td></tr><tr><th>8</th><td>1</td><td>1</td><td>Kolkata Knight Riders</td><td>Royal Challengers Bangalore</td><td>2</td><td>1</td></tr><tr><th>9</th><td>1</td><td>1</td><td>Kolkata Knight Riders</td><td>Royal Challengers Bangalore</td><td>2</td><td>2</td></tr><tr><th>10</th><td>1</td><td>1</td><td>Kolkata Knight Riders</td><td>Royal Challengers Bangalore</td><td>2</td><td>3</td></tr><tr><th>11</th><td>1</td><td>1</td><td>Kolkata Knight Riders</td><td>Royal Challengers Bangalore</td><td>2</td><td>4</td></tr><tr><th>12</th><td>1</td><td>1</td><td>Kolkata Knight Riders</td><td>Royal Challengers Bangalore</td><td>2</td><td>5</td></tr><tr><th>13</th><td>1</td><td>1</td><td>Kolkata Knight Riders</td><td>Royal Challengers Bangalore</td><td>2</td><td>6</td></tr><tr><th>14</th><td>1</td><td>1</td><td>Kolkata Knight Riders</td><td>Royal Challengers Bangalore</td><td>3</td><td>1</td></tr><tr><th>15</th><td>1</td><td>1</td><td>Kolkata Knight Riders</td><td>Royal Challengers Bangalore</td><td>3</td><td>2</td></tr><tr><th>16</th><td>1</td><td>1</td><td>Kolkata Knight Riders</td><td>Royal Challengers Bangalore</td><td>3</td><td>3</td></tr><tr><th>17</th><td>1</td><td>1</td><td>Kolkata Knight Riders</td><td>Royal Challengers Bangalore</td><td>3</td><td>4</td></tr><tr><th>18</th><td>1</td><td>1</td><td>Kolkata Knight Riders</td><td>Royal Challengers Bangalore</td><td>3</td><td>5</td></tr><tr><th>19</th><td>1</td><td>1</td><td>Kolkata Knight Riders</td><td>Royal Challengers Bangalore</td><td>3</td><td>6</td></tr><tr><th>20</th><td>1</td><td>1</td><td>Kolkata Knight Riders</td><td>Royal Challengers Bangalore</td><td>4</td><td>1</td></tr><tr><th>21</th><td>1</td><td>1</td><td>Kolkata Knight Riders</td><td>Royal Challengers Bangalore</td><td>4</td><td>2</td></tr><tr><th>22</th><td>1</td><td>1</td><td>Kolkata Knight Riders</td><td>Royal Challengers Bangalore</td><td>4</td><td>3</td></tr><tr><th>23</th><td>1</td><td>1</td><td>Kolkata Knight Riders</td><td>Royal Challengers Bangalore</td><td>4</td><td>4</td></tr><tr><th>24</th><td>1</td><td>1</td><td>Kolkata Knight Riders</td><td>Royal Challengers Bangalore</td><td>4</td><td>5</td></tr><tr><th>25</th><td>1</td><td>1</td><td>Kolkata Knight Riders</td><td>Royal Challengers Bangalore</td><td>4</td><td>6</td></tr><tr><th>26</th><td>1</td><td>1</td><td>Kolkata Knight Riders</td><td>Royal Challengers Bangalore</td><td>4</td><td>7</td></tr><tr><th>27</th><td>1</td><td>1</td><td>Kolkata Knight Riders</td><td>Royal Challengers Bangalore</td><td>5</td><td>1</td></tr><tr><th>28</th><td>1</td><td>1</td><td>Kolkata Knight Riders</td><td>Royal Challengers Bangalore</td><td>5</td><td>2</td></tr><tr><th>29</th><td>1</td><td>1</td><td>Kolkata Knight Riders</td><td>Royal Challengers Bangalore</td><td>5</td><td>3</td></tr><tr><th>30</th><td>1</td><td>1</td><td>Kolkata Knight Riders</td><td>Royal Challengers Bangalore</td><td>5</td><td>4</td></tr><tr><th>&vellip;</th><td>&vellip;</td><td>&vellip;</td><td>&vellip;</td><td>&vellip;</td><td>&vellip;</td><td>&vellip;</td></tr></tbody></table>"
      ],
      "text/latex": [
       "\\begin{tabular}{r|ccccccc}\n",
       "\t& match\\_id & inning & batting\\_team & bowling\\_team & over & ball & \\\\\n",
       "\t\\hline\n",
       "\t& Int64 & Int64 & String & String & Int64 & Int64 & \\\\\n",
       "\t\\hline\n",
       "\t1 & 1 & 1 & Kolkata Knight Riders & Royal Challengers Bangalore & 1 & 1 & $\\dots$ \\\\\n",
       "\t2 & 1 & 1 & Kolkata Knight Riders & Royal Challengers Bangalore & 1 & 2 & $\\dots$ \\\\\n",
       "\t3 & 1 & 1 & Kolkata Knight Riders & Royal Challengers Bangalore & 1 & 3 & $\\dots$ \\\\\n",
       "\t4 & 1 & 1 & Kolkata Knight Riders & Royal Challengers Bangalore & 1 & 4 & $\\dots$ \\\\\n",
       "\t5 & 1 & 1 & Kolkata Knight Riders & Royal Challengers Bangalore & 1 & 5 & $\\dots$ \\\\\n",
       "\t6 & 1 & 1 & Kolkata Knight Riders & Royal Challengers Bangalore & 1 & 6 & $\\dots$ \\\\\n",
       "\t7 & 1 & 1 & Kolkata Knight Riders & Royal Challengers Bangalore & 1 & 7 & $\\dots$ \\\\\n",
       "\t8 & 1 & 1 & Kolkata Knight Riders & Royal Challengers Bangalore & 2 & 1 & $\\dots$ \\\\\n",
       "\t9 & 1 & 1 & Kolkata Knight Riders & Royal Challengers Bangalore & 2 & 2 & $\\dots$ \\\\\n",
       "\t10 & 1 & 1 & Kolkata Knight Riders & Royal Challengers Bangalore & 2 & 3 & $\\dots$ \\\\\n",
       "\t11 & 1 & 1 & Kolkata Knight Riders & Royal Challengers Bangalore & 2 & 4 & $\\dots$ \\\\\n",
       "\t12 & 1 & 1 & Kolkata Knight Riders & Royal Challengers Bangalore & 2 & 5 & $\\dots$ \\\\\n",
       "\t13 & 1 & 1 & Kolkata Knight Riders & Royal Challengers Bangalore & 2 & 6 & $\\dots$ \\\\\n",
       "\t14 & 1 & 1 & Kolkata Knight Riders & Royal Challengers Bangalore & 3 & 1 & $\\dots$ \\\\\n",
       "\t15 & 1 & 1 & Kolkata Knight Riders & Royal Challengers Bangalore & 3 & 2 & $\\dots$ \\\\\n",
       "\t16 & 1 & 1 & Kolkata Knight Riders & Royal Challengers Bangalore & 3 & 3 & $\\dots$ \\\\\n",
       "\t17 & 1 & 1 & Kolkata Knight Riders & Royal Challengers Bangalore & 3 & 4 & $\\dots$ \\\\\n",
       "\t18 & 1 & 1 & Kolkata Knight Riders & Royal Challengers Bangalore & 3 & 5 & $\\dots$ \\\\\n",
       "\t19 & 1 & 1 & Kolkata Knight Riders & Royal Challengers Bangalore & 3 & 6 & $\\dots$ \\\\\n",
       "\t20 & 1 & 1 & Kolkata Knight Riders & Royal Challengers Bangalore & 4 & 1 & $\\dots$ \\\\\n",
       "\t21 & 1 & 1 & Kolkata Knight Riders & Royal Challengers Bangalore & 4 & 2 & $\\dots$ \\\\\n",
       "\t22 & 1 & 1 & Kolkata Knight Riders & Royal Challengers Bangalore & 4 & 3 & $\\dots$ \\\\\n",
       "\t23 & 1 & 1 & Kolkata Knight Riders & Royal Challengers Bangalore & 4 & 4 & $\\dots$ \\\\\n",
       "\t24 & 1 & 1 & Kolkata Knight Riders & Royal Challengers Bangalore & 4 & 5 & $\\dots$ \\\\\n",
       "\t25 & 1 & 1 & Kolkata Knight Riders & Royal Challengers Bangalore & 4 & 6 & $\\dots$ \\\\\n",
       "\t26 & 1 & 1 & Kolkata Knight Riders & Royal Challengers Bangalore & 4 & 7 & $\\dots$ \\\\\n",
       "\t27 & 1 & 1 & Kolkata Knight Riders & Royal Challengers Bangalore & 5 & 1 & $\\dots$ \\\\\n",
       "\t28 & 1 & 1 & Kolkata Knight Riders & Royal Challengers Bangalore & 5 & 2 & $\\dots$ \\\\\n",
       "\t29 & 1 & 1 & Kolkata Knight Riders & Royal Challengers Bangalore & 5 & 3 & $\\dots$ \\\\\n",
       "\t30 & 1 & 1 & Kolkata Knight Riders & Royal Challengers Bangalore & 5 & 4 & $\\dots$ \\\\\n",
       "\t$\\dots$ & $\\dots$ & $\\dots$ & $\\dots$ & $\\dots$ & $\\dots$ & $\\dots$ &  \\\\\n",
       "\\end{tabular}\n"
      ],
      "text/plain": [
       "136598×21 DataFrames.DataFrame. Omitted printing of 18 columns\n",
       "│ Row    │ match_id │ inning │ batting_team                │\n",
       "│        │ \u001b[90mInt64\u001b[39m    │ \u001b[90mInt64\u001b[39m  │ \u001b[90mString\u001b[39m                      │\n",
       "├────────┼──────────┼────────┼─────────────────────────────┤\n",
       "│ 1      │ 1        │ 1      │ Kolkata Knight Riders       │\n",
       "│ 2      │ 1        │ 1      │ Kolkata Knight Riders       │\n",
       "│ 3      │ 1        │ 1      │ Kolkata Knight Riders       │\n",
       "│ 4      │ 1        │ 1      │ Kolkata Knight Riders       │\n",
       "│ 5      │ 1        │ 1      │ Kolkata Knight Riders       │\n",
       "│ 6      │ 1        │ 1      │ Kolkata Knight Riders       │\n",
       "│ 7      │ 1        │ 1      │ Kolkata Knight Riders       │\n",
       "│ 8      │ 1        │ 1      │ Kolkata Knight Riders       │\n",
       "│ 9      │ 1        │ 1      │ Kolkata Knight Riders       │\n",
       "│ 10     │ 1        │ 1      │ Kolkata Knight Riders       │\n",
       "⋮\n",
       "│ 136588 │ 577      │ 2      │ Royal Challengers Bangalore │\n",
       "│ 136589 │ 577      │ 2      │ Royal Challengers Bangalore │\n",
       "│ 136590 │ 577      │ 2      │ Royal Challengers Bangalore │\n",
       "│ 136591 │ 577      │ 2      │ Royal Challengers Bangalore │\n",
       "│ 136592 │ 577      │ 2      │ Royal Challengers Bangalore │\n",
       "│ 136593 │ 577      │ 2      │ Royal Challengers Bangalore │\n",
       "│ 136594 │ 577      │ 2      │ Royal Challengers Bangalore │\n",
       "│ 136595 │ 577      │ 2      │ Royal Challengers Bangalore │\n",
       "│ 136596 │ 577      │ 2      │ Royal Challengers Bangalore │\n",
       "│ 136597 │ 577      │ 2      │ Royal Challengers Bangalore │\n",
       "│ 136598 │ 577      │ 2      │ Royal Challengers Bangalore │"
      ]
     },
     "execution_count": 5,
     "metadata": {},
     "output_type": "execute_result"
    }
   ],
   "source": [
    "using CSV                                                        #using csv package to read the data set\n",
    "\n",
    "deliveries = CSV.read(\"./data/deliveries.csv\")"
   ]
  },
  {
   "cell_type": "code",
   "execution_count": 6,
   "metadata": {
    "collapsed": true,
    "jupyter": {
     "outputs_hidden": true
    }
   },
   "outputs": [
    {
     "data": {
      "text/html": [
       "<table class=\"data-frame\"><thead><tr><th></th><th>Match_SK</th><th>match_id</th><th>Team1</th><th>Team2</th><th>match_date</th></tr><tr><th></th><th>Int64</th><th>Int64</th><th>String</th><th>String</th><th>String</th></tr></thead><tbody><p>637 rows × 17 columns (omitted printing of 12 columns)</p><tr><th>1</th><td>0</td><td>335987</td><td>Royal Challengers Bangalore</td><td>Kolkata Knight Riders</td><td>4/18/2008</td></tr><tr><th>2</th><td>1</td><td>335988</td><td>Kings XI Punjab</td><td>Chennai Super Kings</td><td>4/19/2008</td></tr><tr><th>3</th><td>2</td><td>335989</td><td>Delhi Daredevils</td><td>Rajasthan Royals</td><td>4/19/2008</td></tr><tr><th>4</th><td>3</td><td>335990</td><td>Mumbai Indians</td><td>Royal Challengers Bangalore</td><td>4/20/2008</td></tr><tr><th>5</th><td>4</td><td>335991</td><td>Kolkata Knight Riders</td><td>Deccan Chargers</td><td>4/20/2008</td></tr><tr><th>6</th><td>5</td><td>335992</td><td>Rajasthan Royals</td><td>Kings XI Punjab</td><td>4/21/2008</td></tr><tr><th>7</th><td>6</td><td>335993</td><td>Deccan Chargers</td><td>Delhi Daredevils</td><td>4/22/2008</td></tr><tr><th>8</th><td>7</td><td>335994</td><td>Chennai Super Kings</td><td>Mumbai Indians</td><td>4/23/2008</td></tr><tr><th>9</th><td>8</td><td>335995</td><td>Deccan Chargers</td><td>Rajasthan Royals</td><td>4/24/2008</td></tr><tr><th>10</th><td>9</td><td>335996</td><td>Kings XI Punjab</td><td>Mumbai Indians</td><td>4/25/2008</td></tr><tr><th>11</th><td>10</td><td>335997</td><td>Royal Challengers Bangalore</td><td>Rajasthan Royals</td><td>4/26/2008</td></tr><tr><th>12</th><td>11</td><td>335998</td><td>Chennai Super Kings</td><td>Kolkata Knight Riders</td><td>4/26/2008</td></tr><tr><th>13</th><td>12</td><td>335999</td><td>Mumbai Indians</td><td>Deccan Chargers</td><td>4/27/2008</td></tr><tr><th>14</th><td>13</td><td>336000</td><td>Kings XI Punjab</td><td>Delhi Daredevils</td><td>4/27/2008</td></tr><tr><th>15</th><td>14</td><td>336001</td><td>Royal Challengers Bangalore</td><td>Chennai Super Kings</td><td>4/28/2008</td></tr><tr><th>16</th><td>15</td><td>336002</td><td>Kolkata Knight Riders</td><td>Mumbai Indians</td><td>4/29/2008</td></tr><tr><th>17</th><td>16</td><td>336003</td><td>Delhi Daredevils</td><td>Royal Challengers Bangalore</td><td>4/30/2008</td></tr><tr><th>18</th><td>17</td><td>336004</td><td>Deccan Chargers</td><td>Kings XI Punjab</td><td>5/1/2008</td></tr><tr><th>19</th><td>18</td><td>336005</td><td>Rajasthan Royals</td><td>Kolkata Knight Riders</td><td>5/1/2008</td></tr><tr><th>20</th><td>19</td><td>336006</td><td>Chennai Super Kings</td><td>Delhi Daredevils</td><td>5/2/2008</td></tr><tr><th>21</th><td>20</td><td>336007</td><td>Deccan Chargers</td><td>Royal Challengers Bangalore</td><td>5/25/2008</td></tr><tr><th>22</th><td>21</td><td>336008</td><td>Kings XI Punjab</td><td>Kolkata Knight Riders</td><td>5/3/2008</td></tr><tr><th>23</th><td>22</td><td>336009</td><td>Mumbai Indians</td><td>Delhi Daredevils</td><td>5/4/2008</td></tr><tr><th>24</th><td>23</td><td>336010</td><td>Rajasthan Royals</td><td>Chennai Super Kings</td><td>5/4/2008</td></tr><tr><th>25</th><td>24</td><td>336011</td><td>Royal Challengers Bangalore</td><td>Kings XI Punjab</td><td>5/5/2008</td></tr><tr><th>26</th><td>25</td><td>336012</td><td>Chennai Super Kings</td><td>Deccan Chargers</td><td>5/6/2008</td></tr><tr><th>27</th><td>26</td><td>336013</td><td>Mumbai Indians</td><td>Rajasthan Royals</td><td>5/7/2008</td></tr><tr><th>28</th><td>27</td><td>336014</td><td>Delhi Daredevils</td><td>Chennai Super Kings</td><td>5/8/2008</td></tr><tr><th>29</th><td>28</td><td>336015</td><td>Kolkata Knight Riders</td><td>Royal Challengers Bangalore</td><td>5/8/2008</td></tr><tr><th>30</th><td>29</td><td>336016</td><td>Rajasthan Royals</td><td>Deccan Chargers</td><td>5/9/2008</td></tr><tr><th>&vellip;</th><td>&vellip;</td><td>&vellip;</td><td>&vellip;</td><td>&vellip;</td><td>&vellip;</td></tr></tbody></table>"
      ],
      "text/latex": [
       "\\begin{tabular}{r|cccccc}\n",
       "\t& Match\\_SK & match\\_id & Team1 & Team2 & match\\_date & \\\\\n",
       "\t\\hline\n",
       "\t& Int64 & Int64 & String & String & String & \\\\\n",
       "\t\\hline\n",
       "\t1 & 0 & 335987 & Royal Challengers Bangalore & Kolkata Knight Riders & 4/18/2008 & $\\dots$ \\\\\n",
       "\t2 & 1 & 335988 & Kings XI Punjab & Chennai Super Kings & 4/19/2008 & $\\dots$ \\\\\n",
       "\t3 & 2 & 335989 & Delhi Daredevils & Rajasthan Royals & 4/19/2008 & $\\dots$ \\\\\n",
       "\t4 & 3 & 335990 & Mumbai Indians & Royal Challengers Bangalore & 4/20/2008 & $\\dots$ \\\\\n",
       "\t5 & 4 & 335991 & Kolkata Knight Riders & Deccan Chargers & 4/20/2008 & $\\dots$ \\\\\n",
       "\t6 & 5 & 335992 & Rajasthan Royals & Kings XI Punjab & 4/21/2008 & $\\dots$ \\\\\n",
       "\t7 & 6 & 335993 & Deccan Chargers & Delhi Daredevils & 4/22/2008 & $\\dots$ \\\\\n",
       "\t8 & 7 & 335994 & Chennai Super Kings & Mumbai Indians & 4/23/2008 & $\\dots$ \\\\\n",
       "\t9 & 8 & 335995 & Deccan Chargers & Rajasthan Royals & 4/24/2008 & $\\dots$ \\\\\n",
       "\t10 & 9 & 335996 & Kings XI Punjab & Mumbai Indians & 4/25/2008 & $\\dots$ \\\\\n",
       "\t11 & 10 & 335997 & Royal Challengers Bangalore & Rajasthan Royals & 4/26/2008 & $\\dots$ \\\\\n",
       "\t12 & 11 & 335998 & Chennai Super Kings & Kolkata Knight Riders & 4/26/2008 & $\\dots$ \\\\\n",
       "\t13 & 12 & 335999 & Mumbai Indians & Deccan Chargers & 4/27/2008 & $\\dots$ \\\\\n",
       "\t14 & 13 & 336000 & Kings XI Punjab & Delhi Daredevils & 4/27/2008 & $\\dots$ \\\\\n",
       "\t15 & 14 & 336001 & Royal Challengers Bangalore & Chennai Super Kings & 4/28/2008 & $\\dots$ \\\\\n",
       "\t16 & 15 & 336002 & Kolkata Knight Riders & Mumbai Indians & 4/29/2008 & $\\dots$ \\\\\n",
       "\t17 & 16 & 336003 & Delhi Daredevils & Royal Challengers Bangalore & 4/30/2008 & $\\dots$ \\\\\n",
       "\t18 & 17 & 336004 & Deccan Chargers & Kings XI Punjab & 5/1/2008 & $\\dots$ \\\\\n",
       "\t19 & 18 & 336005 & Rajasthan Royals & Kolkata Knight Riders & 5/1/2008 & $\\dots$ \\\\\n",
       "\t20 & 19 & 336006 & Chennai Super Kings & Delhi Daredevils & 5/2/2008 & $\\dots$ \\\\\n",
       "\t21 & 20 & 336007 & Deccan Chargers & Royal Challengers Bangalore & 5/25/2008 & $\\dots$ \\\\\n",
       "\t22 & 21 & 336008 & Kings XI Punjab & Kolkata Knight Riders & 5/3/2008 & $\\dots$ \\\\\n",
       "\t23 & 22 & 336009 & Mumbai Indians & Delhi Daredevils & 5/4/2008 & $\\dots$ \\\\\n",
       "\t24 & 23 & 336010 & Rajasthan Royals & Chennai Super Kings & 5/4/2008 & $\\dots$ \\\\\n",
       "\t25 & 24 & 336011 & Royal Challengers Bangalore & Kings XI Punjab & 5/5/2008 & $\\dots$ \\\\\n",
       "\t26 & 25 & 336012 & Chennai Super Kings & Deccan Chargers & 5/6/2008 & $\\dots$ \\\\\n",
       "\t27 & 26 & 336013 & Mumbai Indians & Rajasthan Royals & 5/7/2008 & $\\dots$ \\\\\n",
       "\t28 & 27 & 336014 & Delhi Daredevils & Chennai Super Kings & 5/8/2008 & $\\dots$ \\\\\n",
       "\t29 & 28 & 336015 & Kolkata Knight Riders & Royal Challengers Bangalore & 5/8/2008 & $\\dots$ \\\\\n",
       "\t30 & 29 & 336016 & Rajasthan Royals & Deccan Chargers & 5/9/2008 & $\\dots$ \\\\\n",
       "\t$\\dots$ & $\\dots$ & $\\dots$ & $\\dots$ & $\\dots$ & $\\dots$ &  \\\\\n",
       "\\end{tabular}\n"
      ],
      "text/plain": [
       "637×17 DataFrames.DataFrame. Omitted printing of 14 columns\n",
       "│ Row │ Match_SK │ match_id │ Team1                       │\n",
       "│     │ \u001b[90mInt64\u001b[39m    │ \u001b[90mInt64\u001b[39m    │ \u001b[90mString\u001b[39m                      │\n",
       "├─────┼──────────┼──────────┼─────────────────────────────┤\n",
       "│ 1   │ 0        │ 335987   │ Royal Challengers Bangalore │\n",
       "│ 2   │ 1        │ 335988   │ Kings XI Punjab             │\n",
       "│ 3   │ 2        │ 335989   │ Delhi Daredevils            │\n",
       "│ 4   │ 3        │ 335990   │ Mumbai Indians              │\n",
       "│ 5   │ 4        │ 335991   │ Kolkata Knight Riders       │\n",
       "│ 6   │ 5        │ 335992   │ Rajasthan Royals            │\n",
       "│ 7   │ 6        │ 335993   │ Deccan Chargers             │\n",
       "│ 8   │ 7        │ 335994   │ Chennai Super Kings         │\n",
       "│ 9   │ 8        │ 335995   │ Deccan Chargers             │\n",
       "│ 10  │ 9        │ 335996   │ Kings XI Punjab             │\n",
       "⋮\n",
       "│ 627 │ 626      │ 1082640  │ Gujarat Lions               │\n",
       "│ 628 │ 627      │ 1082641  │ Mumbai Indians              │\n",
       "│ 629 │ 628      │ 1082642  │ Delhi Daredevils            │\n",
       "│ 630 │ 629      │ 1082643  │ Gujarat Lions               │\n",
       "│ 631 │ 630      │ 1082644  │ Kolkata Knight Riders       │\n",
       "│ 632 │ 631      │ 1082645  │ Rising Pune Supergiants     │\n",
       "│ 633 │ 632      │ 1082646  │ Delhi Daredevils            │\n",
       "│ 634 │ 633      │ 1082647  │ Mumbai Indians              │\n",
       "│ 635 │ 634      │ 1082648  │ Sunrisers Hyderabad         │\n",
       "│ 636 │ 635      │ 1082649  │ Mumbai Indians              │\n",
       "│ 637 │ 636      │ 1082650  │ Mumbai Indians              │"
      ]
     },
     "execution_count": 6,
     "metadata": {},
     "output_type": "execute_result"
    }
   ],
   "source": [
    "using CSV                                                        #using csv package to read the data set\n",
    "\n",
    "matches = CSV.read(\"./data/Match.csv\")"
   ]
  },
  {
   "cell_type": "code",
   "execution_count": 28,
   "metadata": {},
   "outputs": [
    {
     "data": {
      "text/html": [
       "<table class=\"data-frame\"><thead><tr><th></th><th>Column1</th><th>batsman</th></tr><tr><th></th><th>Int64</th><th>String</th></tr></thead><tbody><p>10 rows × 2 columns</p><tr><th>1</th><td>1</td><td>V Kohli</td></tr><tr><th>2</th><td>2</td><td>SK Raina</td></tr><tr><th>3</th><td>3</td><td>RG Sharma</td></tr><tr><th>4</th><td>4</td><td>G Gambhir</td></tr><tr><th>5</th><td>5</td><td>CH Gayle</td></tr><tr><th>6</th><td>6</td><td>RV Uthappa</td></tr><tr><th>7</th><td>7</td><td>DA Warner</td></tr><tr><th>8</th><td>8</td><td>AB de Villiers</td></tr><tr><th>9</th><td>9</td><td>MS Dhoni</td></tr><tr><th>10</th><td>10</td><td>S Dhawan</td></tr></tbody></table>"
      ],
      "text/latex": [
       "\\begin{tabular}{r|cc}\n",
       "\t& Column1 & batsman\\\\\n",
       "\t\\hline\n",
       "\t& Int64 & String\\\\\n",
       "\t\\hline\n",
       "\t1 & 1 & V Kohli \\\\\n",
       "\t2 & 2 & SK Raina \\\\\n",
       "\t3 & 3 & RG Sharma \\\\\n",
       "\t4 & 4 & G Gambhir \\\\\n",
       "\t5 & 5 & CH Gayle \\\\\n",
       "\t6 & 6 & RV Uthappa \\\\\n",
       "\t7 & 7 & DA Warner \\\\\n",
       "\t8 & 8 & AB de Villiers \\\\\n",
       "\t9 & 9 & MS Dhoni \\\\\n",
       "\t10 & 10 & S Dhawan \\\\\n",
       "\\end{tabular}\n"
      ],
      "text/plain": [
       "10×2 DataFrames.DataFrame\n",
       "│ Row │ Column1 │ batsman        │\n",
       "│     │ \u001b[90mInt64\u001b[39m   │ \u001b[90mString\u001b[39m         │\n",
       "├─────┼─────────┼────────────────┤\n",
       "│ 1   │ 1       │ V Kohli        │\n",
       "│ 2   │ 2       │ SK Raina       │\n",
       "│ 3   │ 3       │ RG Sharma      │\n",
       "│ 4   │ 4       │ G Gambhir      │\n",
       "│ 5   │ 5       │ CH Gayle       │\n",
       "│ 6   │ 6       │ RV Uthappa     │\n",
       "│ 7   │ 7       │ DA Warner      │\n",
       "│ 8   │ 8       │ AB de Villiers │\n",
       "│ 9   │ 9       │ MS Dhoni       │\n",
       "│ 10  │ 10      │ S Dhawan       │"
      ]
     },
     "execution_count": 28,
     "metadata": {},
     "output_type": "execute_result"
    }
   ],
   "source": [
    "using CSV                                                        #using csv package to read the data set\n",
    "\n",
    "top10 = CSV.read(\"top10batsmen.csv\")"
   ]
  },
  {
   "cell_type": "code",
   "execution_count": 49,
   "metadata": {},
   "outputs": [
    {
     "data": {
      "text/html": [
       "<table class=\"data-frame\"><thead><tr><th></th><th>Column1</th><th>batsman</th><th>match_id</th><th>inning</th><th>batting_team</th><th>bowling_team</th></tr><tr><th></th><th>Int64</th><th>String</th><th>Int64⍰</th><th>Int64⍰</th><th>String⍰</th><th>String⍰</th></tr></thead><tbody><p>27,113 rows × 22 columns (omitted printing of 16 columns)</p><tr><th>1</th><td>1</td><td>V Kohli</td><td>1</td><td>2</td><td>Royal Challengers Bangalore</td><td>Kolkata Knight Riders</td></tr><tr><th>2</th><td>1</td><td>V Kohli</td><td>1</td><td>2</td><td>Royal Challengers Bangalore</td><td>Kolkata Knight Riders</td></tr><tr><th>3</th><td>1</td><td>V Kohli</td><td>1</td><td>2</td><td>Royal Challengers Bangalore</td><td>Kolkata Knight Riders</td></tr><tr><th>4</th><td>1</td><td>V Kohli</td><td>1</td><td>2</td><td>Royal Challengers Bangalore</td><td>Kolkata Knight Riders</td></tr><tr><th>5</th><td>1</td><td>V Kohli</td><td>1</td><td>2</td><td>Royal Challengers Bangalore</td><td>Kolkata Knight Riders</td></tr><tr><th>6</th><td>1</td><td>V Kohli</td><td>4</td><td>2</td><td>Royal Challengers Bangalore</td><td>Mumbai Indians</td></tr><tr><th>7</th><td>1</td><td>V Kohli</td><td>4</td><td>2</td><td>Royal Challengers Bangalore</td><td>Mumbai Indians</td></tr><tr><th>8</th><td>1</td><td>V Kohli</td><td>4</td><td>2</td><td>Royal Challengers Bangalore</td><td>Mumbai Indians</td></tr><tr><th>9</th><td>1</td><td>V Kohli</td><td>4</td><td>2</td><td>Royal Challengers Bangalore</td><td>Mumbai Indians</td></tr><tr><th>10</th><td>1</td><td>V Kohli</td><td>4</td><td>2</td><td>Royal Challengers Bangalore</td><td>Mumbai Indians</td></tr><tr><th>11</th><td>1</td><td>V Kohli</td><td>4</td><td>2</td><td>Royal Challengers Bangalore</td><td>Mumbai Indians</td></tr><tr><th>12</th><td>1</td><td>V Kohli</td><td>4</td><td>2</td><td>Royal Challengers Bangalore</td><td>Mumbai Indians</td></tr><tr><th>13</th><td>1</td><td>V Kohli</td><td>4</td><td>2</td><td>Royal Challengers Bangalore</td><td>Mumbai Indians</td></tr><tr><th>14</th><td>1</td><td>V Kohli</td><td>4</td><td>2</td><td>Royal Challengers Bangalore</td><td>Mumbai Indians</td></tr><tr><th>15</th><td>1</td><td>V Kohli</td><td>4</td><td>2</td><td>Royal Challengers Bangalore</td><td>Mumbai Indians</td></tr><tr><th>16</th><td>1</td><td>V Kohli</td><td>4</td><td>2</td><td>Royal Challengers Bangalore</td><td>Mumbai Indians</td></tr><tr><th>17</th><td>1</td><td>V Kohli</td><td>4</td><td>2</td><td>Royal Challengers Bangalore</td><td>Mumbai Indians</td></tr><tr><th>18</th><td>1</td><td>V Kohli</td><td>4</td><td>2</td><td>Royal Challengers Bangalore</td><td>Mumbai Indians</td></tr><tr><th>19</th><td>1</td><td>V Kohli</td><td>4</td><td>2</td><td>Royal Challengers Bangalore</td><td>Mumbai Indians</td></tr><tr><th>20</th><td>1</td><td>V Kohli</td><td>4</td><td>2</td><td>Royal Challengers Bangalore</td><td>Mumbai Indians</td></tr><tr><th>21</th><td>1</td><td>V Kohli</td><td>11</td><td>1</td><td>Royal Challengers Bangalore</td><td>Rajasthan Royals</td></tr><tr><th>22</th><td>1</td><td>V Kohli</td><td>11</td><td>1</td><td>Royal Challengers Bangalore</td><td>Rajasthan Royals</td></tr><tr><th>23</th><td>1</td><td>V Kohli</td><td>11</td><td>1</td><td>Royal Challengers Bangalore</td><td>Rajasthan Royals</td></tr><tr><th>24</th><td>1</td><td>V Kohli</td><td>11</td><td>1</td><td>Royal Challengers Bangalore</td><td>Rajasthan Royals</td></tr><tr><th>25</th><td>1</td><td>V Kohli</td><td>11</td><td>1</td><td>Royal Challengers Bangalore</td><td>Rajasthan Royals</td></tr><tr><th>26</th><td>1</td><td>V Kohli</td><td>11</td><td>1</td><td>Royal Challengers Bangalore</td><td>Rajasthan Royals</td></tr><tr><th>27</th><td>1</td><td>V Kohli</td><td>11</td><td>1</td><td>Royal Challengers Bangalore</td><td>Rajasthan Royals</td></tr><tr><th>28</th><td>1</td><td>V Kohli</td><td>11</td><td>1</td><td>Royal Challengers Bangalore</td><td>Rajasthan Royals</td></tr><tr><th>29</th><td>1</td><td>V Kohli</td><td>11</td><td>1</td><td>Royal Challengers Bangalore</td><td>Rajasthan Royals</td></tr><tr><th>30</th><td>1</td><td>V Kohli</td><td>11</td><td>1</td><td>Royal Challengers Bangalore</td><td>Rajasthan Royals</td></tr><tr><th>&vellip;</th><td>&vellip;</td><td>&vellip;</td><td>&vellip;</td><td>&vellip;</td><td>&vellip;</td><td>&vellip;</td></tr></tbody></table>"
      ],
      "text/latex": [
       "\\begin{tabular}{r|ccccccc}\n",
       "\t& Column1 & batsman & match\\_id & inning & batting\\_team & bowling\\_team & \\\\\n",
       "\t\\hline\n",
       "\t& Int64 & String & Int64⍰ & Int64⍰ & String⍰ & String⍰ & \\\\\n",
       "\t\\hline\n",
       "\t1 & 1 & V Kohli & 1 & 2 & Royal Challengers Bangalore & Kolkata Knight Riders & $\\dots$ \\\\\n",
       "\t2 & 1 & V Kohli & 1 & 2 & Royal Challengers Bangalore & Kolkata Knight Riders & $\\dots$ \\\\\n",
       "\t3 & 1 & V Kohli & 1 & 2 & Royal Challengers Bangalore & Kolkata Knight Riders & $\\dots$ \\\\\n",
       "\t4 & 1 & V Kohli & 1 & 2 & Royal Challengers Bangalore & Kolkata Knight Riders & $\\dots$ \\\\\n",
       "\t5 & 1 & V Kohli & 1 & 2 & Royal Challengers Bangalore & Kolkata Knight Riders & $\\dots$ \\\\\n",
       "\t6 & 1 & V Kohli & 4 & 2 & Royal Challengers Bangalore & Mumbai Indians & $\\dots$ \\\\\n",
       "\t7 & 1 & V Kohli & 4 & 2 & Royal Challengers Bangalore & Mumbai Indians & $\\dots$ \\\\\n",
       "\t8 & 1 & V Kohli & 4 & 2 & Royal Challengers Bangalore & Mumbai Indians & $\\dots$ \\\\\n",
       "\t9 & 1 & V Kohli & 4 & 2 & Royal Challengers Bangalore & Mumbai Indians & $\\dots$ \\\\\n",
       "\t10 & 1 & V Kohli & 4 & 2 & Royal Challengers Bangalore & Mumbai Indians & $\\dots$ \\\\\n",
       "\t11 & 1 & V Kohli & 4 & 2 & Royal Challengers Bangalore & Mumbai Indians & $\\dots$ \\\\\n",
       "\t12 & 1 & V Kohli & 4 & 2 & Royal Challengers Bangalore & Mumbai Indians & $\\dots$ \\\\\n",
       "\t13 & 1 & V Kohli & 4 & 2 & Royal Challengers Bangalore & Mumbai Indians & $\\dots$ \\\\\n",
       "\t14 & 1 & V Kohli & 4 & 2 & Royal Challengers Bangalore & Mumbai Indians & $\\dots$ \\\\\n",
       "\t15 & 1 & V Kohli & 4 & 2 & Royal Challengers Bangalore & Mumbai Indians & $\\dots$ \\\\\n",
       "\t16 & 1 & V Kohli & 4 & 2 & Royal Challengers Bangalore & Mumbai Indians & $\\dots$ \\\\\n",
       "\t17 & 1 & V Kohli & 4 & 2 & Royal Challengers Bangalore & Mumbai Indians & $\\dots$ \\\\\n",
       "\t18 & 1 & V Kohli & 4 & 2 & Royal Challengers Bangalore & Mumbai Indians & $\\dots$ \\\\\n",
       "\t19 & 1 & V Kohli & 4 & 2 & Royal Challengers Bangalore & Mumbai Indians & $\\dots$ \\\\\n",
       "\t20 & 1 & V Kohli & 4 & 2 & Royal Challengers Bangalore & Mumbai Indians & $\\dots$ \\\\\n",
       "\t21 & 1 & V Kohli & 11 & 1 & Royal Challengers Bangalore & Rajasthan Royals & $\\dots$ \\\\\n",
       "\t22 & 1 & V Kohli & 11 & 1 & Royal Challengers Bangalore & Rajasthan Royals & $\\dots$ \\\\\n",
       "\t23 & 1 & V Kohli & 11 & 1 & Royal Challengers Bangalore & Rajasthan Royals & $\\dots$ \\\\\n",
       "\t24 & 1 & V Kohli & 11 & 1 & Royal Challengers Bangalore & Rajasthan Royals & $\\dots$ \\\\\n",
       "\t25 & 1 & V Kohli & 11 & 1 & Royal Challengers Bangalore & Rajasthan Royals & $\\dots$ \\\\\n",
       "\t26 & 1 & V Kohli & 11 & 1 & Royal Challengers Bangalore & Rajasthan Royals & $\\dots$ \\\\\n",
       "\t27 & 1 & V Kohli & 11 & 1 & Royal Challengers Bangalore & Rajasthan Royals & $\\dots$ \\\\\n",
       "\t28 & 1 & V Kohli & 11 & 1 & Royal Challengers Bangalore & Rajasthan Royals & $\\dots$ \\\\\n",
       "\t29 & 1 & V Kohli & 11 & 1 & Royal Challengers Bangalore & Rajasthan Royals & $\\dots$ \\\\\n",
       "\t30 & 1 & V Kohli & 11 & 1 & Royal Challengers Bangalore & Rajasthan Royals & $\\dots$ \\\\\n",
       "\t$\\dots$ & $\\dots$ & $\\dots$ & $\\dots$ & $\\dots$ & $\\dots$ & $\\dots$ &  \\\\\n",
       "\\end{tabular}\n"
      ],
      "text/plain": [
       "27113×22 DataFrame. Omitted printing of 17 columns\n",
       "│ Row   │ Column1 │ batsman  │ match_id │ inning │ batting_team                │\n",
       "│       │ \u001b[90mInt64\u001b[39m   │ \u001b[90mString\u001b[39m   │ \u001b[90mInt64⍰\u001b[39m   │ \u001b[90mInt64⍰\u001b[39m │ \u001b[90mUnion{Missing, String}\u001b[39m      │\n",
       "├───────┼─────────┼──────────┼──────────┼────────┼─────────────────────────────┤\n",
       "│ 1     │ 1       │ V Kohli  │ 1        │ 2      │ Royal Challengers Bangalore │\n",
       "│ 2     │ 1       │ V Kohli  │ 1        │ 2      │ Royal Challengers Bangalore │\n",
       "│ 3     │ 1       │ V Kohli  │ 1        │ 2      │ Royal Challengers Bangalore │\n",
       "│ 4     │ 1       │ V Kohli  │ 1        │ 2      │ Royal Challengers Bangalore │\n",
       "│ 5     │ 1       │ V Kohli  │ 1        │ 2      │ Royal Challengers Bangalore │\n",
       "│ 6     │ 1       │ V Kohli  │ 4        │ 2      │ Royal Challengers Bangalore │\n",
       "│ 7     │ 1       │ V Kohli  │ 4        │ 2      │ Royal Challengers Bangalore │\n",
       "│ 8     │ 1       │ V Kohli  │ 4        │ 2      │ Royal Challengers Bangalore │\n",
       "│ 9     │ 1       │ V Kohli  │ 4        │ 2      │ Royal Challengers Bangalore │\n",
       "│ 10    │ 1       │ V Kohli  │ 4        │ 2      │ Royal Challengers Bangalore │\n",
       "⋮\n",
       "│ 27103 │ 10      │ S Dhawan │ 577      │ 1      │ Sunrisers Hyderabad         │\n",
       "│ 27104 │ 10      │ S Dhawan │ 577      │ 1      │ Sunrisers Hyderabad         │\n",
       "│ 27105 │ 10      │ S Dhawan │ 577      │ 1      │ Sunrisers Hyderabad         │\n",
       "│ 27106 │ 10      │ S Dhawan │ 577      │ 1      │ Sunrisers Hyderabad         │\n",
       "│ 27107 │ 10      │ S Dhawan │ 577      │ 1      │ Sunrisers Hyderabad         │\n",
       "│ 27108 │ 10      │ S Dhawan │ 577      │ 1      │ Sunrisers Hyderabad         │\n",
       "│ 27109 │ 10      │ S Dhawan │ 577      │ 1      │ Sunrisers Hyderabad         │\n",
       "│ 27110 │ 10      │ S Dhawan │ 577      │ 1      │ Sunrisers Hyderabad         │\n",
       "│ 27111 │ 10      │ S Dhawan │ 577      │ 1      │ Sunrisers Hyderabad         │\n",
       "│ 27112 │ 10      │ S Dhawan │ 577      │ 1      │ Sunrisers Hyderabad         │\n",
       "│ 27113 │ 10      │ S Dhawan │ 577      │ 1      │ Sunrisers Hyderabad         │"
      ]
     },
     "execution_count": 49,
     "metadata": {},
     "output_type": "execute_result"
    }
   ],
   "source": [
    "a = join(top10, deliveries, on=:batsman, kind=:left, makeunique = true)          #merge the two datset based on batsman"
   ]
  },
  {
   "cell_type": "code",
   "execution_count": 64,
   "metadata": {},
   "outputs": [
    {
     "data": {
      "text/plain": [
       "\"d.csv\""
      ]
     },
     "execution_count": 64,
     "metadata": {},
     "output_type": "execute_result"
    }
   ],
   "source": [
    "CSV.write(\"d.csv\", a)"
   ]
  },
  {
   "cell_type": "code",
   "execution_count": null,
   "metadata": {},
   "outputs": [],
   "source": []
  }
 ],
 "metadata": {
  "kernelspec": {
   "display_name": "Julia 1.1.1",
   "language": "julia",
   "name": "julia-1.1"
  },
  "language_info": {
   "file_extension": ".jl",
   "mimetype": "application/julia",
   "name": "julia",
   "version": "1.1.1"
  }
 },
 "nbformat": 4,
 "nbformat_minor": 4
}
